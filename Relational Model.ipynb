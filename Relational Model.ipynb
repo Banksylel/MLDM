{
 "cells": [
  {
   "cell_type": "code",
   "execution_count": null,
   "metadata": {},
   "outputs": [],
   "source": []
  },
  {
   "cell_type": "code",
   "execution_count": 1,
   "metadata": {},
   "outputs": [],
   "source": [
    "from pyswip import Prolog, Variable, Functor\n",
    "import os\n",
    "def learn(file_name):\n",
    "    prolog = Prolog()\n",
    "    program_name=file_name[:-3]\n",
    "    #print(program_name)\n",
    "    prolog.consult(file_name)\n",
    "    a=list(prolog.query(\"induce(program_name)\"))\n",
    "    b=list(prolog.query(\"aleph:write_rules('theory.txt',program_name)\"))\n",
    "\n",
    "def generate_theory_aleph(file_name):\n",
    "    f = open(\"theory.txt\")\n",
    "    theory=[]\n",
    "    for line in f.read().splitlines():\n",
    "        theory.append(line)\n",
    "    flag_1=\"true\"\n",
    "    string=\"\"\n",
    "    hypo=[]\n",
    "    for i in theory:\n",
    "        if flag_1==\"true\":\n",
    "            if i[-1]==\".\":\n",
    "                string=string+i[0:-1]\n",
    "                hypo.append(string)\n",
    "                #print(hypo)\n",
    "                string=\"\"\n",
    "            else:\n",
    "                string=string+i\n",
    "    return hypo\n",
    "\n",
    "\n",
    "def evaluate_theory(file_name,hypo):\n",
    "    prolog = Prolog()\n",
    "    prolog.consult(file_name)\n",
    "    f = open(file_name)\n",
    "    pos_start=0\n",
    "    pos_end=0\n",
    "    neg_start=0\n",
    "    neg_end=0\n",
    "    for i, line in enumerate(f.read().splitlines()):\n",
    "        if line==\":-begin_in_pos.\":\n",
    "            pos_start=i\n",
    "        if line==\":-end_in_pos.\":\n",
    "            pos_end=i\n",
    "        if line==\":-begin_in_neg.\":\n",
    "            neg_start=i\n",
    "        if line==\":-end_in_neg.\":\n",
    "            neg_end=i\n",
    "    f = open(file_name)\n",
    "    all_lines_variable = f.readlines()\n",
    "    pos_examples=[]\n",
    "    for i in range(pos_start+1,pos_end):\n",
    "        pos_examples.append(all_lines_variable[i][0:-2])\n",
    "    neg_examples=[]\n",
    "    for i in range(neg_start+1,neg_end):\n",
    "        neg_examples.append(all_lines_variable[i][0:-2])\n",
    "    pos_length=len(pos_examples)\n",
    "    neg_length=len(neg_examples)\n",
    "    for i in hypo:\n",
    "        pos_count=0\n",
    "        neg_count=0\n",
    "        #print(i)\n",
    "        prolog.assertz(i)\n",
    "    for i in pos_examples:\n",
    "        a=list(prolog.query(i))\n",
    "            #print(a)\n",
    "        if len(a)>0:\n",
    "            pos_count=pos_count+1\n",
    "    for i in neg_examples:\n",
    "        a=list(prolog.query(i))\n",
    "        if len(a)<1:\n",
    "            neg_count=neg_count+1\n",
    "            #print(a)\n",
    "            #print(len(a))\n",
    "    #print(pos_count, neg_count)\n",
    "    acc=(pos_count+neg_count)/(pos_length+neg_length)\n",
    "    #print(\"Accuracy\", acc*100)\n",
    "    return acc"
   ]
  },
  {
   "cell_type": "code",
   "execution_count": 4,
   "metadata": {},
   "outputs": [
    {
     "name": "stdout",
     "output_type": "stream",
     "text": [
      "['poisonous(A) :-   cap_surface(A,smooth), gill_spacing(A,close), gill_size(A,narrow)', 'poisonous(A) :-   bruises(A,bruises), habitat(A,urban)', 'poisonous(A) :-   population(A,several), habitat(A,grasses)', 'poisonous(A) :-   gill_size(A,narrow), population(A,scattered)', 'poisonous(A) :-   gill_spacing(A,close), stalk_surface_above_ring(A,silky)', 'poisonous(A) :-   bruises(A,no), stalk_surface_below_ring(A,smooth), habitat(A,woods)', 'poisonous(A) :-   odor(A,foul)', 'poisonous(A) :-   spore_print_color(A,green)', 'poisonous(A) :-   gill_color(A,buff)', 'poisonous(A) :-   gill_size(A,narrow), population(A,clustered)']\n"
     ]
    },
    {
     "ename": "ZeroDivisionError",
     "evalue": "division by zero",
     "output_type": "error",
     "traceback": [
      "\u001b[1;31m---------------------------------------------------------------------------\u001b[0m",
      "\u001b[1;31mZeroDivisionError\u001b[0m                         Traceback (most recent call last)",
      "\u001b[1;32m<ipython-input-4-af4511e8c54f>\u001b[0m in \u001b[0;36m<module>\u001b[1;34m\u001b[0m\n\u001b[0;32m     10\u001b[0m \u001b[0mtheory\u001b[0m\u001b[1;33m=\u001b[0m\u001b[0mgenerate_theory_aleph\u001b[0m\u001b[1;33m(\u001b[0m\u001b[0mfile_name\u001b[0m\u001b[1;33m)\u001b[0m\u001b[1;33m\u001b[0m\u001b[1;33m\u001b[0m\u001b[0m\n\u001b[0;32m     11\u001b[0m \u001b[0mprint\u001b[0m\u001b[1;33m(\u001b[0m\u001b[0mtheory\u001b[0m\u001b[1;33m)\u001b[0m\u001b[1;33m\u001b[0m\u001b[1;33m\u001b[0m\u001b[0m\n\u001b[1;32m---> 12\u001b[1;33m \u001b[0macc\u001b[0m\u001b[1;33m=\u001b[0m\u001b[0mevaluate_theory\u001b[0m\u001b[1;33m(\u001b[0m\u001b[0mfile_name\u001b[0m\u001b[1;33m,\u001b[0m \u001b[0mtheory\u001b[0m\u001b[1;33m)\u001b[0m\u001b[1;33m\u001b[0m\u001b[1;33m\u001b[0m\u001b[0m\n\u001b[0m\u001b[0;32m     13\u001b[0m \u001b[0mprint\u001b[0m\u001b[1;33m(\u001b[0m\u001b[1;34m\"accuracy : \"\u001b[0m\u001b[1;33m,\u001b[0m \u001b[0macc\u001b[0m\u001b[1;33m)\u001b[0m\u001b[1;33m\u001b[0m\u001b[1;33m\u001b[0m\u001b[0m\n",
      "\u001b[1;32m<ipython-input-1-fa0aabbbf1c6>\u001b[0m in \u001b[0;36mevaluate_theory\u001b[1;34m(file_name, hypo)\u001b[0m\n\u001b[0;32m     73\u001b[0m             \u001b[1;31m#print(len(a))\u001b[0m\u001b[1;33m\u001b[0m\u001b[1;33m\u001b[0m\u001b[1;33m\u001b[0m\u001b[0m\n\u001b[0;32m     74\u001b[0m     \u001b[1;31m#print(pos_count, neg_count)\u001b[0m\u001b[1;33m\u001b[0m\u001b[1;33m\u001b[0m\u001b[1;33m\u001b[0m\u001b[0m\n\u001b[1;32m---> 75\u001b[1;33m     \u001b[0macc\u001b[0m\u001b[1;33m=\u001b[0m\u001b[1;33m(\u001b[0m\u001b[0mpos_count\u001b[0m\u001b[1;33m+\u001b[0m\u001b[0mneg_count\u001b[0m\u001b[1;33m)\u001b[0m\u001b[1;33m/\u001b[0m\u001b[1;33m(\u001b[0m\u001b[0mpos_length\u001b[0m\u001b[1;33m+\u001b[0m\u001b[0mneg_length\u001b[0m\u001b[1;33m)\u001b[0m\u001b[1;33m\u001b[0m\u001b[1;33m\u001b[0m\u001b[0m\n\u001b[0m\u001b[0;32m     76\u001b[0m     \u001b[1;31m#print(\"Accuracy\", acc*100)\u001b[0m\u001b[1;33m\u001b[0m\u001b[1;33m\u001b[0m\u001b[1;33m\u001b[0m\u001b[0m\n\u001b[0;32m     77\u001b[0m     \u001b[1;32mreturn\u001b[0m \u001b[0macc\u001b[0m\u001b[1;33m\u001b[0m\u001b[1;33m\u001b[0m\u001b[0m\n",
      "\u001b[1;31mZeroDivisionError\u001b[0m: division by zero"
     ]
    }
   ],
   "source": [
    "from pyswip import Prolog, Variable, Functor\n",
    "import os\n",
    "#from utils import *\n",
    "import pandas as pd\n",
    "import re\n",
    "\n",
    "\n",
    "file_name=\"mushrooms.pl\"\n",
    "learn(file_name)\n",
    "theory=generate_theory_aleph(file_name)\n",
    "print(theory)\n",
    "acc=evaluate_theory(file_name, theory)\n",
    "print(\"accuracy : \", acc)"
   ]
  },
  {
   "cell_type": "code",
   "execution_count": 3,
   "metadata": {},
   "outputs": [
    {
     "ename": "NameError",
     "evalue": "name 'mushrooms' is not defined",
     "output_type": "error",
     "traceback": [
      "\u001b[1;31m---------------------------------------------------------------------------\u001b[0m",
      "\u001b[1;31mNameError\u001b[0m                                 Traceback (most recent call last)",
      "\u001b[1;32m<ipython-input-3-538de84af2f1>\u001b[0m in \u001b[0;36m<module>\u001b[1;34m\u001b[0m\n\u001b[1;32m----> 1\u001b[1;33m \u001b[0mmushrooms\u001b[0m\u001b[1;33m.\u001b[0m\u001b[0mhead\u001b[0m\u001b[1;33m(\u001b[0m\u001b[1;33m)\u001b[0m\u001b[1;33m\u001b[0m\u001b[1;33m\u001b[0m\u001b[0m\n\u001b[0m",
      "\u001b[1;31mNameError\u001b[0m: name 'mushrooms' is not defined"
     ]
    }
   ],
   "source": []
  },
  {
   "cell_type": "code",
   "execution_count": null,
   "metadata": {},
   "outputs": [],
   "source": []
  }
 ],
 "metadata": {
  "kernelspec": {
   "display_name": "Python 3",
   "language": "python",
   "name": "python3"
  },
  "language_info": {
   "codemirror_mode": {
    "name": "ipython",
    "version": 3
   },
   "file_extension": ".py",
   "mimetype": "text/x-python",
   "name": "python",
   "nbconvert_exporter": "python",
   "pygments_lexer": "ipython3",
   "version": "3.7.6"
  }
 },
 "nbformat": 4,
 "nbformat_minor": 4
}
