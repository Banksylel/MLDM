{
 "cells": [
  {
   "cell_type": "markdown",
   "metadata": {},
   "source": [
    "# Functions"
   ]
  },
  {
   "cell_type": "code",
   "execution_count": 1,
   "metadata": {},
   "outputs": [],
   "source": [
    "# imports\n",
    "import pandas as pd\n",
    "import numpy as np\n",
    "import matplotlib.pyplot as plt\n",
    "from sklearn.preprocessing import StandardScaler\n",
    "from sklearn.preprocessing import MinMaxScaler"
   ]
  },
  {
   "cell_type": "code",
   "execution_count": 2,
   "metadata": {},
   "outputs": [],
   "source": [
    "# Functions for binning (discreetising) numeric fields\n",
    "\n",
    "def distance_binning(dataset, field, no_of_bins):\n",
    "    \n",
    "    # Buckets numerical field data into equally sized bucket thresholds\n",
    "    # Returns updated dataframe\n",
    "    \n",
    "    # Inputs: \n",
    "    #    dataset:     Pandas dataframe containing dataset \n",
    "    #    field:       Field to be binned\n",
    "    #    no_of_bins:  Required number of bins\n",
    "    \n",
    "    bins = np.linspace(dataset[field].min(),dataset[field].max(),no_of_bins+1)\n",
    "    labels = [i for i in range(1,no_of_bins+1)]\n",
    "    dataset_new = dataset.copy()\n",
    "    dataset_new[field] = pd.cut(dataset_new[field], bins=bins, labels=labels, include_lowest=True)\n",
    "    return dataset_new\n",
    "\n",
    "def frequency_binning(dataset, field, no_of_bins):\n",
    "    \n",
    "    # Buckets numerical field data into buckets containing roughly equal number of records\n",
    "    # Returns updated dataframe\n",
    "    \n",
    "    # Inputs: \n",
    "    #    dataset:     Pandas dataframe containing dataset \n",
    "    #    field:       Field to be binned\n",
    "    #    no_of_bins:  Required number of bins\n",
    "    \n",
    "    labels = [i for i in range(1,no_of_bins+1)]\n",
    "    dataset_new = dataset.copy()\n",
    "    dataset_new[field] = pd.qcut(dataset_new[field], q=no_of_bins, labels=labels)\n",
    "    return dataset_new\n",
    "\n",
    "\n",
    "# Normalises the dataset\n",
    "# you have to remove all non-numerical columns before you call this function\n",
    "# data : the dataset you want to normalise \n",
    "# omit : colums to omit from the normalisation (as a 1d list)\n",
    "def NormaliseDS(data, omit=[]):\n",
    "    if (len(omit)>0):\n",
    "        temp = data[omit]\n",
    "        data = data.drop(columns=omit, axis=1)\n",
    "    column = list(data.columns)\n",
    "    transform = MinMaxScaler().fit_transform(data)\n",
    "    newDF = pd.DataFrame(transform, columns=column)\n",
    "    if (len(omit)>0):\n",
    "        dataF = pd.concat([newDF, temp], axis=1)\n",
    "        return(dataF)\n",
    "    else:\n",
    "        return(newDF)\n",
    "\n",
    "# standardises the dataset\n",
    "# you have to remove all non-numerical columns before you call this function\n",
    "# data : the dataset you want to standardise\n",
    "def StandardiseDS(data, omit=[]):\n",
    "    if (len(omit)>0):\n",
    "        temp = data[omit]\n",
    "        data = data.drop(columns=omit, axis=1)\n",
    "    column = list(data.columns)\n",
    "    strdDS = StandardScaler().fit_transform(data)\n",
    "    strdDF = pd.DataFrame(strdDS, columns=column)\n",
    "    if (len(omit)>0):\n",
    "        dataF = pd.concat([strdDF, temp], axis=1)\n",
    "        return(dataF)\n",
    "    else:\n",
    "        return(strdDF)\n",
    "\n",
    "# renames the column names in a dataset so it is one word instead of a space\n",
    "# data : the dataset you want to rename \n",
    "# cols : a dictionary of the current columns you want to rename and the name you want to rename it to (new name should have no spaces)\n",
    "def RenameFields(data, cols):\n",
    "    data2 = data.rename(columns=cols)\n",
    "    return(data2)\n",
    "\n",
    "# this fucntion divides the possible results of the dataset (ie the quality of a wine) and up-samples the dataset so the data is balanced\n",
    "# dataset (dataframe) : the dataset you want to up-sample\n",
    "# targetClass (string) : the name of the column that has the results\n",
    "# startPoint (int) : the lowest class by number in the dataset(for wine lowest quality is 3, Highest quality is 9 )\n",
    "# biggestClass (int) : the class that has the highest number of rows\n",
    "def OverSample (dataset, targetClass, startPoint, biggestClass):\n",
    "    temp = []\n",
    "    temp2 = []\n",
    "    loopRange = (startPoint + len(dataset[targetClass].value_counts()))\n",
    "    for i in range(startPoint, loopRange):\n",
    "        temp.append(dataset[dataset[targetClass] == i])\n",
    "    for j in temp:\n",
    "        temp2.append(j.sample(len(temp[(biggestClass-startPoint)]), replace=True))\n",
    "        \n",
    "    final = pd.concat(temp2)\n",
    "    return(final)\n"
   ]
  },
  {
   "cell_type": "markdown",
   "metadata": {},
   "source": [
    "# Pre-Processing"
   ]
  },
  {
   "cell_type": "code",
   "execution_count": 3,
   "metadata": {},
   "outputs": [
    {
     "name": "stdout",
     "output_type": "stream",
     "text": [
      "class                       0\n",
      "cap-shape                   0\n",
      "cap-surface                 0\n",
      "cap-color                   0\n",
      "bruises                     0\n",
      "odor                        0\n",
      "gill-attachment             0\n",
      "gill-spacing                0\n",
      "gill-size                   0\n",
      "gill-color                  0\n",
      "stalk-shape                 0\n",
      "stalk-root                  0\n",
      "stalk-surface-above-ring    0\n",
      "stalk-surface-below-ring    0\n",
      "stalk-color-above-ring      0\n",
      "stalk-color-below-ring      0\n",
      "veil-type                   0\n",
      "veil-color                  0\n",
      "ring-number                 0\n",
      "ring-type                   0\n",
      "spore-print-color           0\n",
      "population                  0\n",
      "habitat                     0\n",
      "dtype: int64\n",
      "type                     0\n",
      "fixed-acidity           10\n",
      "volatile-acidity         8\n",
      "citric-acid              3\n",
      "residual-sugar           2\n",
      "chlorides                2\n",
      "free-sulfur-dioxide      0\n",
      "total-sulfur-dioxide     0\n",
      "density                  0\n",
      "pH                       9\n",
      "sulphates                4\n",
      "alcohol                  0\n",
      "quality                  0\n",
      "dtype: int64\n",
      "     cap-shape cap-surface cap-color bruises odor gill-attachment  \\\n",
      "0            x           s         n       t    p               f   \n",
      "1            x           s         y       t    a               f   \n",
      "2            b           s         w       t    l               f   \n",
      "3            x           y         w       t    p               f   \n",
      "4            x           s         g       f    n               f   \n",
      "...        ...         ...       ...     ...  ...             ...   \n",
      "8119         k           s         n       f    n               a   \n",
      "8120         x           s         n       f    n               a   \n",
      "8121         f           s         n       f    n               a   \n",
      "8122         k           y         n       f    y               f   \n",
      "8123         x           s         n       f    n               a   \n",
      "\n",
      "     gill-spacing gill-size gill-color stalk-shape  ...  \\\n",
      "0               c         n          k           e  ...   \n",
      "1               c         b          k           e  ...   \n",
      "2               c         b          n           e  ...   \n",
      "3               c         n          n           e  ...   \n",
      "4               w         b          k           t  ...   \n",
      "...           ...       ...        ...         ...  ...   \n",
      "8119            c         b          y           e  ...   \n",
      "8120            c         b          y           e  ...   \n",
      "8121            c         b          n           e  ...   \n",
      "8122            c         n          b           t  ...   \n",
      "8123            c         b          y           e  ...   \n",
      "\n",
      "     stalk-color-above-ring stalk-color-below-ring veil-type veil-color  \\\n",
      "0                         w                      w         p          w   \n",
      "1                         w                      w         p          w   \n",
      "2                         w                      w         p          w   \n",
      "3                         w                      w         p          w   \n",
      "4                         w                      w         p          w   \n",
      "...                     ...                    ...       ...        ...   \n",
      "8119                      o                      o         p          o   \n",
      "8120                      o                      o         p          n   \n",
      "8121                      o                      o         p          o   \n",
      "8122                      w                      w         p          w   \n",
      "8123                      o                      o         p          o   \n",
      "\n",
      "     ring-number ring-type spore-print-color population habitat class  \n",
      "0              o         p                 k          s       u     1  \n",
      "1              o         p                 n          n       g     0  \n",
      "2              o         p                 n          n       m     0  \n",
      "3              o         p                 k          s       u     1  \n",
      "4              o         e                 n          a       g     0  \n",
      "...          ...       ...               ...        ...     ...   ...  \n",
      "8119           o         p                 b          c       l     0  \n",
      "8120           o         p                 b          v       l     0  \n",
      "8121           o         p                 b          c       l     0  \n",
      "8122           o         e                 w          v       l     1  \n",
      "8123           o         p                 o          c       l     0  \n",
      "\n",
      "[8124 rows x 23 columns]\n",
      "      fixed-acidity  volatile-acidity  citric-acid  residual-sugar  chlorides  \\\n",
      "0               7.0             0.270         0.36            20.7      0.045   \n",
      "1               6.3             0.300         0.34             1.6      0.049   \n",
      "2               8.1             0.280         0.40             6.9      0.050   \n",
      "3               7.2             0.230         0.32             8.5      0.058   \n",
      "4               7.2             0.230         0.32             8.5      0.058   \n",
      "...             ...               ...          ...             ...        ...   \n",
      "6491            6.8             0.620         0.08             1.9      0.068   \n",
      "6492            6.2             0.600         0.08             2.0      0.090   \n",
      "6494            6.3             0.510         0.13             2.3      0.076   \n",
      "6495            5.9             0.645         0.12             2.0      0.075   \n",
      "6496            6.0             0.310         0.47             3.6      0.067   \n",
      "\n",
      "      free-sulfur-dioxide  total-sulfur-dioxide  density    pH  sulphates  \\\n",
      "0                    45.0                 170.0  1.00100  3.00       0.45   \n",
      "1                    14.0                 132.0  0.99400  3.30       0.49   \n",
      "2                    30.0                  97.0  0.99510  3.26       0.44   \n",
      "3                    47.0                 186.0  0.99560  3.19       0.40   \n",
      "4                    47.0                 186.0  0.99560  3.19       0.40   \n",
      "...                   ...                   ...      ...   ...        ...   \n",
      "6491                 28.0                  38.0  0.99651  3.42       0.82   \n",
      "6492                 32.0                  44.0  0.99490  3.45       0.58   \n",
      "6494                 29.0                  40.0  0.99574  3.42       0.75   \n",
      "6495                 32.0                  44.0  0.99547  3.57       0.71   \n",
      "6496                 18.0                  42.0  0.99549  3.39       0.66   \n",
      "\n",
      "      alcohol  quality  type  \n",
      "0         8.8        6     1  \n",
      "1         9.5        6     1  \n",
      "2        10.1        6     1  \n",
      "3         9.9        6     1  \n",
      "4         9.9        6     1  \n",
      "...       ...      ...   ...  \n",
      "6491      9.5        6     0  \n",
      "6492     10.5        5     0  \n",
      "6494     11.0        6     0  \n",
      "6495     10.2        5     0  \n",
      "6496     11.0        6     0  \n",
      "\n",
      "[6463 rows x 13 columns]\n",
      "standard\n",
      "      fixed-acidity  volatile-acidity  citric-acid  residual-sugar  chlorides  \\\n",
      "0         -0.167786         -0.422710     0.283959        3.207420  -0.315228   \n",
      "1         -0.707155         -0.240479     0.146257       -0.808151  -0.201180   \n",
      "2          0.679794         -0.361966     0.559363        0.306117  -0.172668   \n",
      "3         -0.013681         -0.665684     0.008554        0.642500   0.055427   \n",
      "4         -0.013681         -0.665684     0.008554        0.642500   0.055427   \n",
      "...             ...               ...          ...             ...        ...   \n",
      "6492            NaN               NaN          NaN             NaN        NaN   \n",
      "6493            NaN               NaN          NaN             NaN        NaN   \n",
      "6494            NaN               NaN          NaN             NaN        NaN   \n",
      "6495            NaN               NaN          NaN             NaN        NaN   \n",
      "6496            NaN               NaN          NaN             NaN        NaN   \n",
      "\n",
      "      free-sulfur-dioxide  total-sulfur-dioxide   density        pH  \\\n",
      "0                0.815609              0.960779  2.099926 -1.359160   \n",
      "1               -0.930138              0.288479 -0.232465  0.508399   \n",
      "2               -0.029107             -0.330745  0.134053  0.259391   \n",
      "3                0.928238              1.243853  0.300653 -0.176373   \n",
      "4                0.928238              1.243853  0.300653 -0.176373   \n",
      "...                   ...                   ...       ...       ...   \n",
      "6492                  NaN                   NaN       NaN       NaN   \n",
      "6493                  NaN                   NaN       NaN       NaN   \n",
      "6494                  NaN                   NaN       NaN       NaN   \n",
      "6495                  NaN                   NaN       NaN       NaN   \n",
      "6496                  NaN                   NaN       NaN       NaN   \n",
      "\n",
      "      sulphates   alcohol  quality  type  \n",
      "0     -0.544987 -1.418922      6.0   1.0  \n",
      "1     -0.276354 -0.832184      6.0   1.0  \n",
      "2     -0.612146 -0.329265      6.0   1.0  \n",
      "3     -0.880779 -0.496905      6.0   1.0  \n",
      "4     -0.880779 -0.496905      6.0   1.0  \n",
      "...         ...       ...      ...   ...  \n",
      "6492        NaN       NaN      5.0   0.0  \n",
      "6493        NaN       NaN      NaN   NaN  \n",
      "6494        NaN       NaN      6.0   0.0  \n",
      "6495        NaN       NaN      5.0   0.0  \n",
      "6496        NaN       NaN      6.0   0.0  \n",
      "\n",
      "[6497 rows x 13 columns]\n",
      "6.0    2820\n",
      "5.0    2128\n",
      "7.0    1074\n",
      "4.0     214\n",
      "8.0     192\n",
      "3.0      30\n",
      "9.0       5\n",
      "Name: quality, dtype: int64\n",
      "7.0    2820\n",
      "5.0    2820\n",
      "9.0    2820\n",
      "8.0    2820\n",
      "6.0    2820\n",
      "4.0    2820\n",
      "3.0    2820\n",
      "Name: quality, dtype: int64\n",
      "0    4208\n",
      "1    3916\n",
      "Name: class, dtype: int64\n",
      "   class  cap-shape_b  cap-shape_c  cap-shape_f  cap-shape_k  cap-shape_s  \\\n",
      "0      1            0            0            0            0            0   \n",
      "1      0            0            0            0            0            0   \n",
      "2      0            1            0            0            0            0   \n",
      "3      1            0            0            0            0            0   \n",
      "4      0            0            0            0            0            0   \n",
      "\n",
      "   cap-shape_x  cap-surface_f  cap-surface_g  cap-surface_s  ...  \\\n",
      "0            1              0              0              1  ...   \n",
      "1            1              0              0              1  ...   \n",
      "2            0              0              0              1  ...   \n",
      "3            1              0              0              0  ...   \n",
      "4            1              0              0              1  ...   \n",
      "\n",
      "   population_s  population_v  population_y  habitat_d  habitat_g  habitat_l  \\\n",
      "0             1             0             0          0          0          0   \n",
      "1             0             0             0          0          1          0   \n",
      "2             0             0             0          0          0          0   \n",
      "3             1             0             0          0          0          0   \n",
      "4             0             0             0          0          1          0   \n",
      "\n",
      "   habitat_m  habitat_p  habitat_u  habitat_w  \n",
      "0          0          0          1          0  \n",
      "1          0          0          0          0  \n",
      "2          1          0          0          0  \n",
      "3          0          0          1          0  \n",
      "4          0          0          0          0  \n",
      "\n"
     ]
    },
    {
     "name": "stdout",
     "output_type": "stream",
     "text": [
      "[5 rows x 108 columns]\n"
     ]
    }
   ],
   "source": [
    "# Loads the datasets\n",
    "wine = pd.read_csv('winequalityN.csv')\n",
    "mushrooms = pd.read_csv('mushrooms.csv')\n",
    "\n",
    "# renames the columns\n",
    "dsCols = {'fixed acidity': 'fixed-acidity', 'volatile acidity': 'volatile-acidity', 'citric acid': 'citric-acid', 'residual sugar':'residual-sugar', 'free sulfur dioxide':'free-sulfur-dioxide', 'total sulfur dioxide':'total-sulfur-dioxide'}\n",
    "wine = RenameFields(wine, dsCols)\n",
    "\n",
    "################ NULL Checks ################\n",
    "print(mushrooms.isnull().sum())\n",
    "print(wine.isnull().sum())\n",
    "# removes rows with null values\n",
    "wine = wine.dropna()\n",
    "\n",
    "\n",
    "mushroomsTemp = mushrooms['class'].replace(['p', 'e'],[1, 0])\n",
    "mushrooms.drop('class', inplace=True, axis=1)\n",
    "mushrooms = pd.concat([mushrooms, mushroomsTemp], axis=1)\n",
    "print(mushrooms)\n",
    "\n",
    "################ Normalisation and Standardisation ################\n",
    "\n",
    "# temp removes the worded fields\n",
    "wineTemp = wine['type'].replace(['white', 'red'],[1, 0])   # binary encodes white and red wine types (white=1, red=0)\n",
    "wine.drop('type', inplace=True, axis=1)\n",
    "wine = pd.concat([wine, wineTemp], axis=1)\n",
    "print(wine)\n",
    "\n",
    "#normalises the dataset (omit is used to remove colums that do not need to be normalised ie bool, one hot, etc)\n",
    "normalwine = NormaliseDS(wine, omit=['quality', 'type'])\n",
    "#standardises the dataset (omit is used to remove colums that do not need to be normalised ie bool, one hot, etc)\n",
    "standardwine = StandardiseDS(normalwine, omit=['quality', 'type'])\n",
    "print(\"standard\")\n",
    "print(standardwine)\n",
    "\n",
    "\n",
    "################ Balancing ################                COULD ALSO TRY BUCKTING TO BALANCE THE DATA\n",
    "\n",
    "# prints the distribution of wine quality (quality is between 3 and 9, has most of the wines inbetween )\n",
    "print(standardwine.quality.value_counts())      # Doing this we can see that the lowest quality is 3 (so that is the startPoint), and the class with the most rows is 6 (so 6 is the biggestClass)\n",
    "\n",
    "balancedDataWine = OverSample(standardwine, 'quality', startPoint=3, biggestClass=6)\n",
    "print(balancedDataWine.quality.value_counts())     # we can now see that the results are up Sampled to match the biggest dataset\n",
    "\n",
    "# balancing for mushroom dataset (MUSHROOMS IS ALREADY KINDA BALANCED)\n",
    "print(mushrooms['class'].value_counts())      # dataset is already balanced enough\n",
    " \n",
    "\n",
    "\n",
    "######## OPTIONAL Wine Binning ########\n",
    "#wine_data = pd.read_csv('winequalityN.csv')\n",
    "\n",
    "#wine_data_binned = distance_binning(wine_data, 'pH', 5)\n",
    "#print(\"Value counts\")\n",
    "#print(wine_data_binned['pH'].value_counts())\n",
    "#print(\"\\nBucket Min Max Size\")\n",
    "#for i in wine_data_binned['pH'].unique():\n",
    "#    max = wine_data[wine_data_binned['pH']==i]['pH'].max()\n",
    "#    min = wine_data[wine_data_binned['pH']==i]['pH'].min()  \n",
    "#    print(str(i) + \" \" + str(min) + \" \" + str(max) + \" \" + str(round(max-min,2)))\n",
    "    \n",
    "    \n",
    "#wine_data_binned = frequency_binning(wine_data, 'pH', 5)\n",
    "#print(\"Value counts\")\n",
    "#print(wine_data_binned['pH'].value_counts())\n",
    "#print(\"\\nBucket Min Max Size\")\n",
    "#for i in wine_data_binned['pH'].unique():\n",
    "#    max = wine_data[wine_data_binned['pH']==i]['pH'].max()\n",
    "#    min = wine_data[wine_data_binned['pH']==i]['pH'].min()  \n",
    "#    print(str(i) + \" \" + str(min) + \" \" + str(max) + \" \" + str(round(max-min,2)))\n",
    "\n",
    "\n",
    "############### Mushroom Dataset Encoding ###############\n",
    "# list of headinds that need to be one hot encoded\n",
    "prefixList = ['cap-shape', 'cap-surface', 'cap-color', 'bruises', 'gill-attachment', 'gill-spacing', 'gill-size', \n",
    "              'gill-color', 'stalk-shape', 'stalk-root', 'stalk-surface-above-ring', 'stalk-surface-below-ring', \n",
    "              'stalk-color-above-ring', 'stalk-color-below-ring', 'veil-color', 'ring-number', 'ring-type', \n",
    "              'spore-print-color', 'population', 'habitat']\n",
    "\n",
    "# veil-type column is not taken forward because each row has the same values making it useless for the models\n",
    "mushroomsNew = mushrooms['class'] # the first enoded column (poisonus = 1, edible = 2)\n",
    "# loop to convert onehot for all relevent \n",
    "for pref in prefixList:\n",
    "    tempEncode = pd.get_dummies(mushrooms[pref], prefix=pref)\n",
    "    mushroomsNew = pd.concat([mushroomsNew, tempEncode], axis=1)\n",
    "#print(mushroomsNew.head())\n",
    "# saves new datasets\n",
    "mushroomsNew.to_csv('newMushroom.csv', index=False)\n",
    "balancedDataWine.to_csv('newWine.csv', index=False)\n"
   ]
  },
  {
   "cell_type": "markdown",
   "metadata": {},
   "source": [
    "### Extracting Dependent and Independent variables"
   ]
  },
  {
   "cell_type": "code",
   "execution_count": 4,
   "metadata": {
    "scrolled": true
   },
   "outputs": [],
   "source": [
    "y= mushroomsNew.iloc[:, :1]\n",
    "y= np.ravel(y)\n",
    "X=mushroomsNew.iloc[:, 1:].values\n",
    "from sklearn.model_selection import train_test_split\n",
    "X_train, X_test, y_train, y_test = train_test_split(X, y, test_size = 0.25, random_state = 0)"
   ]
  },
  {
   "cell_type": "markdown",
   "metadata": {},
   "source": [
    "### Stratified KFold Validation"
   ]
  },
  {
   "cell_type": "code",
   "execution_count": 7,
   "metadata": {},
   "outputs": [],
   "source": [
    "from sklearn.svm import SVC\n",
    "linear_ = SVC(kernel='linear', probability=True)\n",
    "rbf_ = SVC(kernel='rbf', gamma='auto', probability=True)\n",
    "poly_ = SVC(kernel='poly', probability=True)\n",
    "sig_ = SVC(kernel='sigmoid', probability=True)\n",
    "\n",
    "from sklearn.model_selection import StratifiedKFold, KFold\n",
    "from sklearn.model_selection import cross_validate\n",
    "from sklearn.metrics import make_scorer\n",
    "from sklearn.metrics import accuracy_score, precision_score, recall_score, f1_score\n",
    "\n",
    "kfold = StratifiedKFold(n_splits=10)\n",
    "linear_results = cross_validate(linear_, X_train, y_train, cv=kfold, scoring = {'accuracy' : make_scorer(accuracy_score),\n",
    "'precision' : make_scorer(precision_score, average = 'weighted'),\n",
    "'recall' : make_scorer(recall_score, average = 'weighted'),\n",
    "'f1_score' : make_scorer(f1_score, average = 'weighted')})\n",
    "\n",
    "rbf_results = cross_validate(rbf_, X_train, y_train, cv=kfold, scoring = {'accuracy' : make_scorer(accuracy_score),\n",
    "'precision' : make_scorer(precision_score, average = 'weighted'),\n",
    "'recall' : make_scorer(recall_score, average = 'weighted'),\n",
    "'f1_score' : make_scorer(f1_score, average = 'weighted')})\n",
    "\n",
    "poly_results = cross_validate(poly_, X_train, y_train, cv=kfold, scoring = {'accuracy' : make_scorer(accuracy_score),\n",
    "'precision' : make_scorer(precision_score, average = 'weighted'),\n",
    "'recall' : make_scorer(recall_score, average = 'weighted'),\n",
    "'f1_score' : make_scorer(f1_score, average = 'weighted')})\n",
    "\n",
    "sig_results = cross_validate(sig_, X_train, y_train, cv=kfold, scoring = {'accuracy' : make_scorer(accuracy_score),\n",
    "'precision' : make_scorer(precision_score, average = 'weighted'),\n",
    "'recall' : make_scorer(recall_score, average = 'weighted'),\n",
    "'f1_score' : make_scorer(f1_score, average = 'weighted')})"
   ]
  },
  {
   "cell_type": "markdown",
   "metadata": {},
   "source": [
    "### Regular Model training"
   ]
  },
  {
   "cell_type": "code",
   "execution_count": 6,
   "metadata": {},
   "outputs": [],
   "source": [
    "from sklearn.svm import SVC\n",
    "linear = SVC(kernel='linear', probability=True).fit(X_train, y_train)\n",
    "rbf = SVC(kernel='rbf', gamma='auto', probability=True).fit(X_train, y_train)\n",
    "poly = SVC(kernel='poly', probability=True).fit(X_train, y_train)\n",
    "sig = SVC(kernel='sigmoid', probability=True).fit(X_train, y_train)"
   ]
  },
  {
   "cell_type": "code",
   "execution_count": 8,
   "metadata": {},
   "outputs": [
    {
     "name": "stdout",
     "output_type": "stream",
     "text": [
      "Accuracy Linear Kernel: 1.0\n",
      "Accuracy Polynomial Kernel: 1.0\n",
      "Accuracy Radial Basis Kernel: 0.9950763170851797\n",
      "Accuracy Sigmoid Kernel: 0.8906942392909897\n"
     ]
    }
   ],
   "source": [
    "linear_pred = linear.predict(X_test)\n",
    "poly_pred = poly.predict(X_test)\n",
    "rbf_pred = rbf.predict(X_test)\n",
    "sig_pred = sig.predict(X_test)"
   ]
  },
  {
   "cell_type": "markdown",
   "metadata": {},
   "source": [
    "### Confusion Matrix"
   ]
  },
  {
   "cell_type": "code",
   "execution_count": 16,
   "metadata": {},
   "outputs": [
    {
     "data": {
      "text/plain": [
       "<sklearn.metrics._plot.confusion_matrix.ConfusionMatrixDisplay at 0x22889c11550>"
      ]
     },
     "execution_count": 16,
     "metadata": {},
     "output_type": "execute_result"
    },
    {
     "data": {
      "image/png": "[encoded data removed]",
      "text/plain": [
       "<Figure size 432x288 with 2 Axes>"
      ]
     },
     "metadata": {
      "needs_background": "light"
     },
     "output_type": "display_data"
    },
    {
     "data": {
      "image/png": "[encoded data removed]",
      "text/plain": [
       "<Figure size 432x288 with 2 Axes>"
      ]
     },
     "metadata": {
      "needs_background": "light"
     },
     "output_type": "display_data"
    },
    {
     "data": {
      "image/png": "[encoded data removed]",
      "text/plain": [
       "<Figure size 432x288 with 2 Axes>"
      ]
     },
     "metadata": {
      "needs_background": "light"
     },
     "output_type": "display_data"
    },
    {
     "data": {
      "image/png": "[encoded data removed]",
      "text/plain": [
       "<Figure size 432x288 with 2 Axes>"
      ]
     },
     "metadata": {
      "needs_background": "light"
     },
     "output_type": "display_data"
    }
   ],
   "source": [
    "from sklearn.metrics import confusion_matrix, ConfusionMatrixDisplay\n",
    "cm_lin = confusion_matrix(y_test, linear_pred)\n",
    "cm_poly = confusion_matrix(y_test, poly_pred)\n",
    "cm_rbf = confusion_matrix(y_test, rbf_pred)\n",
    "cm_sig = confusion_matrix(y_test, sig_pred)\n",
    "\n",
    "cpl= ConfusionMatrixDisplay(confusion_matrix= cm_lin, display_labels=linear.classes_)\n",
    "cpp= ConfusionMatrixDisplay(confusion_matrix= cm_poly, display_labels=poly.classes_)\n",
    "cpr= ConfusionMatrixDisplay(confusion_matrix= cm_rbf, display_labels=rbf.classes_)\n",
    "cps= ConfusionMatrixDisplay(confusion_matrix= cm_sig, display_labels=sig.classes_)\n",
    "\n",
    "cpl.plot()\n",
    "cpp.plot()\n",
    "cpr.plot()\n",
    "cps.plot()"
   ]
  },
  {
   "cell_type": "markdown",
   "metadata": {},
   "source": [
    "### Evaluation Metrics"
   ]
  },
  {
   "cell_type": "code",
   "execution_count": 11,
   "metadata": {},
   "outputs": [
    {
     "name": "stdout",
     "output_type": "stream",
     "text": [
      "-----------------LINEAR SVM EVALUATION METRICS--------------\n",
      "Accuracy: 1.0\n",
      "StratifoldKFoldAccuracy: 1.0 +/-0.0\n",
      "StratifoldKFoldf1score:  1.0 +/-0.0\n",
      "F-score:  1.0\n"
     ]
    }
   ],
   "source": [
    "from sklearn import metrics\n",
    "accuracy= metrics.accuracy_score(y_test, linear_pred)\n",
    "precision= metrics.precision_score(y_test, linear_pred)\n",
    "recall= metrics.recall_score(y_test, linear_pred)\n",
    "fscore= 2 * ((precision * recall)/ (precision + recall))\n",
    "print(\"-----------------LINEAR SVM EVALUATION METRICS--------------\")\n",
    "print(\"Accuracy:\", round(accuracy,2))\n",
    "print(\"StratifoldKFoldAccuracy:\", str(round(linear_results['test_accuracy'].mean(), 2))+ str(' +/-') + str(round(linear_results['test_accuracy'].std(), 3)))\n",
    "print(\"StratifoldKFoldf1score: \", str(round(linear_results['test_f1_score'].mean(), 2)) + str(' +/-') + str(round(linear_results['test_f1_score'].std(), 3)))\n",
    "print(\"F-score: \", round(fscore, 2))"
   ]
  },
  {
   "cell_type": "code",
   "execution_count": 12,
   "metadata": {},
   "outputs": [
    {
     "name": "stdout",
     "output_type": "stream",
     "text": [
      "-----------------POLYNOMIAL SVM EVALUATION METRICS--------------\n",
      "Accuracy: 1.0\n",
      "StratifoldKFoldAccuracy: 1.0 +/-0.0\n",
      "StratifoldKFoldf1score:  1.0 +/-0.0\n",
      "F-score:  1.0\n"
     ]
    }
   ],
   "source": [
    "from sklearn import metrics\n",
    "accuracy= metrics.accuracy_score(y_test, poly_pred)\n",
    "precision= metrics.precision_score(y_test, poly_pred)\n",
    "recall= metrics.recall_score(y_test, poly_pred)\n",
    "fscore= 2 * ((precision * recall)/ (precision + recall))\n",
    "print(\"-----------------POLYNOMIAL SVM EVALUATION METRICS--------------\")\n",
    "print(\"Accuracy:\", round(accuracy,2))\n",
    "print(\"StratifoldKFoldAccuracy:\", str(round(poly_results['test_accuracy'].mean(), 2))+ str(' +/-') + str(round(poly_results['test_accuracy'].std(), 3)))\n",
    "print(\"StratifoldKFoldf1score: \", str(round(poly_results['test_f1_score'].mean(), 2)) + str(' +/-') + str(round(poly_results['test_f1_score'].std(), 3)))\n",
    "print(\"F-score: \", round(fscore, 2))"
   ]
  },
  {
   "cell_type": "code",
   "execution_count": 13,
   "metadata": {},
   "outputs": [
    {
     "name": "stdout",
     "output_type": "stream",
     "text": [
      "-----------------RBF SVM EVALUATION METRICS--------------\n",
      "Accuracy: 1.0\n",
      "StratifoldKFoldAccuracy: 0.99 +/-0.003\n",
      "StratifoldKFoldf1score:  0.99 +/-0.003\n",
      "F-score:  0.99\n"
     ]
    }
   ],
   "source": [
    "from sklearn import metrics\n",
    "accuracy= metrics.accuracy_score(y_test, rbf_pred)\n",
    "precision= metrics.precision_score(y_test, rbf_pred)\n",
    "recall= metrics.recall_score(y_test, rbf_pred)\n",
    "fscore= 2 * ((precision * recall)/ (precision + recall))\n",
    "print(\"-----------------RBF SVM EVALUATION METRICS--------------\")\n",
    "print(\"Accuracy:\", round(accuracy,2))\n",
    "print(\"StratifoldKFoldAccuracy:\", str(round(rbf_results['test_accuracy'].mean(), 2))+ str(' +/-') + str(round(rbf_results['test_accuracy'].std(), 3)))\n",
    "print(\"StratifoldKFoldf1score: \", str(round(rbf_results['test_f1_score'].mean(), 2)) + str(' +/-') + str(round(rbf_results['test_f1_score'].std(), 3)))\n",
    "print(\"F-score: \", round(fscore, 2))"
   ]
  },
  {
   "cell_type": "code",
   "execution_count": 14,
   "metadata": {},
   "outputs": [
    {
     "name": "stdout",
     "output_type": "stream",
     "text": [
      "-----------------SIGMOID SVM EVALUATION METRICS--------------\n",
      "Accuracy: 0.89\n",
      "StratifoldKFoldAccuracy: 0.89 +/-0.012\n",
      "StratifoldKFoldf1score:  0.89 +/-0.012\n",
      "F-score:  0.89\n"
     ]
    }
   ],
   "source": [
    "from sklearn import metrics\n",
    "accuracy= metrics.accuracy_score(y_test, sig_pred)\n",
    "precision= metrics.precision_score(y_test, sig_pred)\n",
    "recall= metrics.recall_score(y_test, sig_pred)\n",
    "fscore= 2 * ((precision * recall)/ (precision + recall))\n",
    "print(\"-----------------SIGMOID SVM EVALUATION METRICS--------------\")\n",
    "print(\"Accuracy:\", round(accuracy,2))\n",
    "print(\"StratifoldKFoldAccuracy:\", str(round(sig_results['test_accuracy'].mean(), 2))+ str(' +/-') + str(round(sig_results['test_accuracy'].std(), 3)))\n",
    "print(\"StratifoldKFoldf1score: \", str(round(sig_results['test_f1_score'].mean(), 2)) + str(' +/-') + str(round(sig_results['test_f1_score'].std(), 3)) )\n",
    "print(\"F-score: \", round(fscore, 2))"
   ]
  },
  {
   "cell_type": "markdown",
   "metadata": {},
   "source": [
    "### ROC Curves"
   ]
  },
  {
   "cell_type": "code",
   "execution_count": 10,
   "metadata": {},
   "outputs": [
    {
     "data": {
      "image/png": "[encoded data removed]",
      "text/plain": [
       "<Figure size 432x288 with 1 Axes>"
      ]
     },
     "metadata": {
      "needs_background": "light"
     },
     "output_type": "display_data"
    },
    {
     "data": {
      "image/png": "[encoded data removed]",
      "text/plain": [
       "<Figure size 432x288 with 1 Axes>"
      ]
     },
     "metadata": {
      "needs_background": "light"
     },
     "output_type": "display_data"
    },
    {
     "data": {
      "image/png": "[encoded data removed]",
      "text/plain": [
       "<Figure size 432x288 with 1 Axes>"
      ]
     },
     "metadata": {
      "needs_background": "light"
     },
     "output_type": "display_data"
    },
    {
     "data": {
      "image/png": "[encoded data removed]",
      "text/plain": [
       "<Figure size 432x288 with 1 Axes>"
      ]
     },
     "metadata": {
      "needs_background": "light"
     },
     "output_type": "display_data"
    }
   ],
   "source": [
    "import matplotlib.pyplot as plt\n",
    "import sklearn\n",
    "from sklearn.metrics import roc_curve, auc\n",
    "CLASS_MAP= {'Linear': ('-', SVC(kernel='linear', probability=True)), \n",
    "            'rbf':('--', SVC(kernel='rbf', gamma='auto',  probability=True)),\n",
    "            'poly':('--', SVC(kernel='poly',   probability=True)),\n",
    "            'sigmoid':('--', SVC(kernel='sigmoid', probability=True))}\n",
    "for name, (line_fmt, model) in CLASS_MAP.items():\n",
    "    model.fit(X_train, y_train)\n",
    "    preds= model.predict_proba(X_test)\n",
    "    pred= pd.Series(preds[:,1])\n",
    "    fpr, tpr, thresholds= roc_curve(y_test, pred)\n",
    "    auc_score= auc(fpr, tpr)\n",
    "    label='%s: auc=%f' % (name, auc_score)\n",
    "    plt.plot(fpr, tpr, line_fmt, linewidth=5, label=label)\n",
    "    plt.legend(loc='lower right')\n",
    "    plt.title('Comparing Classifiers')\n",
    "    plt.plot([0,1], [0,1], 'k--')\n",
    "    plt.xlim([0.0, 1.0])\n",
    "    plt.ylim([0.0, 1.05])\n",
    "    plt.xlabel('False Positive Rate')\n",
    "    plt.ylabel('True Positive Rate')\n",
    "    plt.show()"
   ]
  }
 ],
 "metadata": {
  "kernelspec": {
   "display_name": "Python 3",
   "language": "python",
   "name": "python3"
  },
  "language_info": {
   "codemirror_mode": {
    "name": "ipython",
    "version": 3
   },
   "file_extension": ".py",
   "mimetype": "text/x-python",
   "name": "python",
   "nbconvert_exporter": "python",
   "pygments_lexer": "ipython3",
   "version": "3.8.3"
  }
 },
 "nbformat": 4,
 "nbformat_minor": 4
}
