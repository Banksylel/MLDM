{
 "cells": [
  {
   "cell_type": "markdown",
   "metadata": {},
   "source": [
    "### Binning Functions\n",
    "The functions below bin (or discretise) features, either into bins of equal size or bins containing an equal number of records. This can be used in any of our models for remediating outliers in the wine dataset."
   ]
  },
  {
   "cell_type": "code",
   "execution_count": null,
   "metadata": {},
   "outputs": [],
   "source": [
    "# Functions for binning (discreetising) numeric fields\n",
    "\n",
    "def distance_binning(dataset, field, no_of_bins):\n",
    "    \n",
    "    # Buckets numerical field data into equally sized bucket thresholds\n",
    "    # Returns updated dataframe\n",
    "    \n",
    "    # Inputs: \n",
    "    #    dataset:     Pandas dataframe containing dataset \n",
    "    #    field:       Field to be binned\n",
    "    #    no_of_bins:  Required number of bins\n",
    "    \n",
    "    import pandas as pd\n",
    "    import numpy as np\n",
    "    \n",
    "    bins = np.linspace(dataset[field].min(),dataset[field].max(),no_of_bins+1)\n",
    "    labels = [i for i in range(1,no_of_bins+1)]\n",
    "    dataset_new = dataset.copy()\n",
    "    dataset_new[field] = pd.cut(dataset_new[field], bins=bins, labels=labels, include_lowest=True)\n",
    "    return dataset_new\n",
    "\n",
    "def frequency_binning(dataset, field, no_of_bins):\n",
    "    \n",
    "    # Buckets numerical field data into buckets containing roughly equal number of records\n",
    "    # Returns updated dataframe\n",
    "    \n",
    "    # Inputs: \n",
    "    #    dataset:     Pandas dataframe containing dataset \n",
    "    #    field:       Field to be binned\n",
    "    #    no_of_bins:  Required number of bins\n",
    "    \n",
    "    import pandas as pd\n",
    "    import numpy as np\n",
    "    \n",
    "    labels = [i for i in range(1,no_of_bins+1)]\n",
    "    dataset_new = dataset.copy()\n",
    "    dataset_new[field] = pd.qcut(dataset_new[field], q=no_of_bins, labels=labels)\n",
    "    return dataset_new\n",
    "\n",
    " "
   ]
  },
  {
   "cell_type": "markdown",
   "metadata": {},
   "source": [
    "#### Examples and testing"
   ]
  },
  {
   "cell_type": "code",
   "execution_count": null,
   "metadata": {},
   "outputs": [],
   "source": [
    "# Examples and testing\n",
    "import pandas as pd\n",
    "wine_data = pd.read_csv('winequalityN.csv')\n",
    "\n",
    "wine_data_binned = distance_binning(wine_data, 'pH', 5)\n",
    "print(\"Value counts\")\n",
    "print(wine_data_binned['pH'].value_counts())\n",
    "print(\"\\nBucket Min Max Size\")\n",
    "for i in wine_data_binned['pH'].unique():\n",
    "    max = wine_data[wine_data_binned['pH']==i]['pH'].max()\n",
    "    min = wine_data[wine_data_binned['pH']==i]['pH'].min()  \n",
    "    print(str(i) + \" \" + str(min) + \" \" + str(max) + \" \" + str(round(max-min,2)))\n",
    "    \n",
    "    \n",
    "wine_data_binned = frequency_binning(wine_data, 'pH', 5)\n",
    "print(\"Value counts\")\n",
    "print(wine_data_binned['pH'].value_counts())\n",
    "print(\"\\nBucket Min Max Size\")\n",
    "for i in wine_data_binned['pH'].unique():\n",
    "    max = wine_data[wine_data_binned['pH']==i]['pH'].max()\n",
    "    min = wine_data[wine_data_binned['pH']==i]['pH'].min()  \n",
    "    print(str(i) + \" \" + str(min) + \" \" + str(max) + \" \" + str(round(max-min,2)))"
   ]
  },
  {
   "cell_type": "code",
   "execution_count": null,
   "metadata": {},
   "outputs": [],
   "source": [
    "# To bucket all numerical fields in dataset\n",
    "wine_data = pd.read_csv('winequalityN.csv')\n",
    "categ = ('type', 'quality')  # Exclude categorical fields\n",
    "cols = wine_data.columns\n",
    "for col in [i for i in cols if (i not in categ)]:\n",
    "    wine_data = frequency_binning(wine_data, col, 5)\n",
    "wine_data"
   ]
  }
 ],
 "metadata": {
  "kernelspec": {
   "display_name": "Python 3",
   "language": "python",
   "name": "python3"
  },
  "language_info": {
   "codemirror_mode": {
    "name": "ipython",
    "version": 3
   },
   "file_extension": ".py",
   "mimetype": "text/x-python",
   "name": "python",
   "nbconvert_exporter": "python",
   "pygments_lexer": "ipython3",
   "version": "3.7.6"
  }
 },
 "nbformat": 4,
 "nbformat_minor": 4
}
