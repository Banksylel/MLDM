{
 "cells": [
  {
   "cell_type": "markdown",
   "metadata": {},
   "source": [
    "# Mushroom Classification With Artificial Neural Networks"
   ]
  },
  {
   "cell_type": "markdown",
   "metadata": {},
   "source": [
    "## Introduction\n",
    "In this notebook, we use neural networks in an attempt to classify mushrooms as poisonous or edible based on observed physical characteristics of the mushrooms."
   ]
  },
  {
   "cell_type": "markdown",
   "metadata": {},
   "source": [
    "#### Import required libraries"
   ]
  },
  {
   "cell_type": "code",
   "execution_count": 31,
   "metadata": {},
   "outputs": [],
   "source": [
    "import pandas as pd\n",
    "import numpy as np\n",
    "import seaborn as sns\n",
    "import matplotlib.pyplot as plt\n",
    "from sklearn.preprocessing import OneHotEncoder, StandardScaler, MinMaxScaler\n",
    "from sklearn.compose import ColumnTransformer \n",
    "from sklearn.preprocessing import LabelBinarizer\n",
    "from sklearn.neural_network import MLPClassifier, MLPRegressor\n",
    "from sklearn.metrics import classification_report, make_scorer, accuracy_score, precision_score, recall_score, f1_score\n",
    "from sklearn.model_selection import StratifiedKFold, KFold, cross_val_score, cross_validate, train_test_split, GridSearchCV\n",
    "from sklearn.linear_model import Perceptron\n"
   ]
  },
  {
   "cell_type": "code",
   "execution_count": 32,
   "metadata": {},
   "outputs": [],
   "source": [
    "# Ignore warnings\n",
    "import warnings\n",
    "warnings.filterwarnings(\"ignore\")"
   ]
  },
  {
   "cell_type": "markdown",
   "metadata": {},
   "source": [
    "The latest Pandas version is required "
   ]
  },
  {
   "cell_type": "code",
   "execution_count": 33,
   "metadata": {},
   "outputs": [],
   "source": [
    "# Requires Pandas 1.2.4\n",
    "#!pip install --upgrade pandas==1.2.4 --user\n",
    "#pd.__version__"
   ]
  },
  {
   "cell_type": "markdown",
   "metadata": {},
   "source": [
    "#### Define functions used later"
   ]
  },
  {
   "cell_type": "code",
   "execution_count": 34,
   "metadata": {},
   "outputs": [],
   "source": [
    "def one_hot_encode(data, fields):\n",
    "    # One-hot encodes categorical data with n unique values\n",
    "    # into n new fields\n",
    "    \n",
    "    # Inputs: \n",
    "    #    data:   Pandas dataframe containing dataset \n",
    "    #    fields: Fields to encode\n",
    "    \n",
    "    # Returns: Updated dataset\n",
    "    \n",
    "    onehot = pd.get_dummies(data[fields])\n",
    "    data = pd.concat([onehot, data], axis=1)\n",
    "    data = data.drop(columns=fields, axis=1)\n",
    "    data = data.reset_index(drop=True)\n",
    "    return data\n",
    "\n",
    " \n",
    "\n",
    "def update_results(description, metrics, results_table=pd.DataFrame()):\n",
    "    \n",
    "    # Updates results in Pandas dataframe\n",
    "    \n",
    "    # Inputs: \n",
    "    #    description:   Pandas dataframe containing dataset \n",
    "    #    metrics:       Field to be binned\n",
    "    #    results_table: Required number of bins\n",
    "    \n",
    "    # Returns: Updated results table\n",
    "    \n",
    "    u = pd.DataFrame(metrics).mean(axis=0)\n",
    "    v = pd.Series({'Description' : description})\n",
    "    t = pd.DataFrame(v.append(u)).transpose()\n",
    "    return results_table.append(t)\n"
   ]
  },
  {
   "cell_type": "markdown",
   "metadata": {},
   "source": [
    "#### Define globals here"
   ]
  },
  {
   "cell_type": "code",
   "execution_count": 35,
   "metadata": {},
   "outputs": [],
   "source": [
    "# Globals\n",
    "# Scoring for kfolds cross validation\n",
    "scoring = {'accuracy' : make_scorer(accuracy_score), \n",
    "           'precision' : make_scorer(precision_score, average = 'weighted'),\n",
    "           'recall' : make_scorer(recall_score, average = 'weighted'), \n",
    "           'f1_score' : make_scorer(f1_score, average = 'weighted')} \n",
    "\n",
    "# Set variables to hold results for tests to follow\n",
    "results = []\n",
    "names = []"
   ]
  },
  {
   "cell_type": "markdown",
   "metadata": {},
   "source": [
    "#### Load dataset"
   ]
  },
  {
   "cell_type": "code",
   "execution_count": 36,
   "metadata": {},
   "outputs": [],
   "source": [
    "mushroom_data = pd.read_csv('newMushroom.csv')"
   ]
  },
  {
   "cell_type": "code",
   "execution_count": 37,
   "metadata": {},
   "outputs": [
    {
     "data": {
      "text/plain": [
       "(8124, 117)"
      ]
     },
     "execution_count": 37,
     "metadata": {},
     "output_type": "execute_result"
    }
   ],
   "source": [
    "mushroom_data.shape"
   ]
  },
  {
   "cell_type": "code",
   "execution_count": 38,
   "metadata": {},
   "outputs": [
    {
     "data": {
      "text/html": [
       "<div>\n",
       "<style scoped>\n",
       "    .dataframe tbody tr th:only-of-type {\n",
       "        vertical-align: middle;\n",
       "    }\n",
       "\n",
       "    .dataframe tbody tr th {\n",
       "        vertical-align: top;\n",
       "    }\n",
       "\n",
       "    .dataframe thead th {\n",
       "        text-align: right;\n",
       "    }\n",
       "</style>\n",
       "<table border=\"1\" class=\"dataframe\">\n",
       "  <thead>\n",
       "    <tr style=\"text-align: right;\">\n",
       "      <th></th>\n",
       "      <th>class</th>\n",
       "      <th>cap-shape_b</th>\n",
       "      <th>cap-shape_c</th>\n",
       "      <th>cap-shape_f</th>\n",
       "      <th>cap-shape_k</th>\n",
       "      <th>cap-shape_s</th>\n",
       "      <th>cap-shape_x</th>\n",
       "      <th>cap-surface_f</th>\n",
       "      <th>cap-surface_g</th>\n",
       "      <th>cap-surface_s</th>\n",
       "      <th>...</th>\n",
       "      <th>population_s</th>\n",
       "      <th>population_v</th>\n",
       "      <th>population_y</th>\n",
       "      <th>habitat_d</th>\n",
       "      <th>habitat_g</th>\n",
       "      <th>habitat_l</th>\n",
       "      <th>habitat_m</th>\n",
       "      <th>habitat_p</th>\n",
       "      <th>habitat_u</th>\n",
       "      <th>habitat_w</th>\n",
       "    </tr>\n",
       "  </thead>\n",
       "  <tbody>\n",
       "    <tr>\n",
       "      <th>0</th>\n",
       "      <td>1</td>\n",
       "      <td>0</td>\n",
       "      <td>0</td>\n",
       "      <td>0</td>\n",
       "      <td>0</td>\n",
       "      <td>0</td>\n",
       "      <td>1</td>\n",
       "      <td>0</td>\n",
       "      <td>0</td>\n",
       "      <td>1</td>\n",
       "      <td>...</td>\n",
       "      <td>1</td>\n",
       "      <td>0</td>\n",
       "      <td>0</td>\n",
       "      <td>0</td>\n",
       "      <td>0</td>\n",
       "      <td>0</td>\n",
       "      <td>0</td>\n",
       "      <td>0</td>\n",
       "      <td>1</td>\n",
       "      <td>0</td>\n",
       "    </tr>\n",
       "    <tr>\n",
       "      <th>1</th>\n",
       "      <td>0</td>\n",
       "      <td>0</td>\n",
       "      <td>0</td>\n",
       "      <td>0</td>\n",
       "      <td>0</td>\n",
       "      <td>0</td>\n",
       "      <td>1</td>\n",
       "      <td>0</td>\n",
       "      <td>0</td>\n",
       "      <td>1</td>\n",
       "      <td>...</td>\n",
       "      <td>0</td>\n",
       "      <td>0</td>\n",
       "      <td>0</td>\n",
       "      <td>0</td>\n",
       "      <td>1</td>\n",
       "      <td>0</td>\n",
       "      <td>0</td>\n",
       "      <td>0</td>\n",
       "      <td>0</td>\n",
       "      <td>0</td>\n",
       "    </tr>\n",
       "    <tr>\n",
       "      <th>2</th>\n",
       "      <td>0</td>\n",
       "      <td>1</td>\n",
       "      <td>0</td>\n",
       "      <td>0</td>\n",
       "      <td>0</td>\n",
       "      <td>0</td>\n",
       "      <td>0</td>\n",
       "      <td>0</td>\n",
       "      <td>0</td>\n",
       "      <td>1</td>\n",
       "      <td>...</td>\n",
       "      <td>0</td>\n",
       "      <td>0</td>\n",
       "      <td>0</td>\n",
       "      <td>0</td>\n",
       "      <td>0</td>\n",
       "      <td>0</td>\n",
       "      <td>1</td>\n",
       "      <td>0</td>\n",
       "      <td>0</td>\n",
       "      <td>0</td>\n",
       "    </tr>\n",
       "    <tr>\n",
       "      <th>3</th>\n",
       "      <td>1</td>\n",
       "      <td>0</td>\n",
       "      <td>0</td>\n",
       "      <td>0</td>\n",
       "      <td>0</td>\n",
       "      <td>0</td>\n",
       "      <td>1</td>\n",
       "      <td>0</td>\n",
       "      <td>0</td>\n",
       "      <td>0</td>\n",
       "      <td>...</td>\n",
       "      <td>1</td>\n",
       "      <td>0</td>\n",
       "      <td>0</td>\n",
       "      <td>0</td>\n",
       "      <td>0</td>\n",
       "      <td>0</td>\n",
       "      <td>0</td>\n",
       "      <td>0</td>\n",
       "      <td>1</td>\n",
       "      <td>0</td>\n",
       "    </tr>\n",
       "    <tr>\n",
       "      <th>4</th>\n",
       "      <td>0</td>\n",
       "      <td>0</td>\n",
       "      <td>0</td>\n",
       "      <td>0</td>\n",
       "      <td>0</td>\n",
       "      <td>0</td>\n",
       "      <td>1</td>\n",
       "      <td>0</td>\n",
       "      <td>0</td>\n",
       "      <td>1</td>\n",
       "      <td>...</td>\n",
       "      <td>0</td>\n",
       "      <td>0</td>\n",
       "      <td>0</td>\n",
       "      <td>0</td>\n",
       "      <td>1</td>\n",
       "      <td>0</td>\n",
       "      <td>0</td>\n",
       "      <td>0</td>\n",
       "      <td>0</td>\n",
       "      <td>0</td>\n",
       "    </tr>\n",
       "  </tbody>\n",
       "</table>\n",
       "<p>5 rows × 117 columns</p>\n",
       "</div>"
      ],
      "text/plain": [
       "   class  cap-shape_b  cap-shape_c  cap-shape_f  cap-shape_k  cap-shape_s  \\\n",
       "0      1            0            0            0            0            0   \n",
       "1      0            0            0            0            0            0   \n",
       "2      0            1            0            0            0            0   \n",
       "3      1            0            0            0            0            0   \n",
       "4      0            0            0            0            0            0   \n",
       "\n",
       "   cap-shape_x  cap-surface_f  cap-surface_g  cap-surface_s  ...  \\\n",
       "0            1              0              0              1  ...   \n",
       "1            1              0              0              1  ...   \n",
       "2            0              0              0              1  ...   \n",
       "3            1              0              0              0  ...   \n",
       "4            1              0              0              1  ...   \n",
       "\n",
       "   population_s  population_v  population_y  habitat_d  habitat_g  habitat_l  \\\n",
       "0             1             0             0          0          0          0   \n",
       "1             0             0             0          0          1          0   \n",
       "2             0             0             0          0          0          0   \n",
       "3             1             0             0          0          0          0   \n",
       "4             0             0             0          0          1          0   \n",
       "\n",
       "   habitat_m  habitat_p  habitat_u  habitat_w  \n",
       "0          0          0          1          0  \n",
       "1          0          0          0          0  \n",
       "2          1          0          0          0  \n",
       "3          0          0          1          0  \n",
       "4          0          0          0          0  \n",
       "\n",
       "[5 rows x 117 columns]"
      ]
     },
     "execution_count": 38,
     "metadata": {},
     "output_type": "execute_result"
    }
   ],
   "source": [
    "mushroom_data.head()"
   ]
  },
  {
   "cell_type": "markdown",
   "metadata": {},
   "source": [
    "#### Correlated features\n",
    "Check for perfectly correlated feature vectors."
   ]
  },
  {
   "cell_type": "code",
   "execution_count": 39,
   "metadata": {},
   "outputs": [],
   "source": [
    "cols = mushroom_data.columns\n",
    "dupes = []\n",
    "for i in cols:\n",
    "    for j in cols:\n",
    "        if (sum(mushroom_data[i] != mushroom_data[j]) == 0) & (cols.to_list().index(j) > cols.to_list().index(i)):\n",
    "            dupes.append(j)\n",
    "dupes = set(dupes)"
   ]
  },
  {
   "cell_type": "markdown",
   "metadata": {},
   "source": [
    "The following features have been identified as 100% correlated with others and can therefore be removed as they provide no additional information for our models."
   ]
  },
  {
   "cell_type": "code",
   "execution_count": 40,
   "metadata": {
    "scrolled": true
   },
   "outputs": [
    {
     "data": {
      "text/plain": [
       "{'ring-number_n',\n",
       " 'ring-type_n',\n",
       " 'stalk-color-above-ring_c',\n",
       " 'stalk-color-below-ring_c',\n",
       " 'stalk-color-below-ring_o',\n",
       " 'veil-color_y'}"
      ]
     },
     "execution_count": 40,
     "metadata": {},
     "output_type": "execute_result"
    }
   ],
   "source": [
    "dupes"
   ]
  },
  {
   "cell_type": "code",
   "execution_count": 41,
   "metadata": {},
   "outputs": [
    {
     "data": {
      "text/plain": [
       "(8124, 111)"
      ]
     },
     "execution_count": 41,
     "metadata": {},
     "output_type": "execute_result"
    }
   ],
   "source": [
    "# Drop correlated columns\n",
    "\n",
    "mushroom_data = mushroom_data.drop(dupes, axis=1)\n",
    "mushroom_data.shape"
   ]
  },
  {
   "cell_type": "code",
   "execution_count": 42,
   "metadata": {},
   "outputs": [
    {
     "data": {
      "text/plain": [
       "(8124, 111)"
      ]
     },
     "execution_count": 42,
     "metadata": {},
     "output_type": "execute_result"
    }
   ],
   "source": [
    "# Drop any duplicate rows created by the column removal\n",
    "mushroom_data = mushroom_data[~mushroom_data.duplicated()]\n",
    "mushroom_data.shape"
   ]
  },
  {
   "cell_type": "markdown",
   "metadata": {},
   "source": [
    "#### Define dataset columns"
   ]
  },
  {
   "cell_type": "code",
   "execution_count": 43,
   "metadata": {},
   "outputs": [],
   "source": [
    "# Define column types\n",
    "target_col = ['class']\n",
    "categorical_cols = [i for i in mushroom_data.columns if i not in ['class']]"
   ]
  },
  {
   "cell_type": "markdown",
   "metadata": {},
   "source": [
    "#### Set aside data for final test evaluation"
   ]
  },
  {
   "cell_type": "code",
   "execution_count": 44,
   "metadata": {},
   "outputs": [],
   "source": [
    "y = mushroom_data[target_col]\n",
    "X = mushroom_data[categorical_cols]\n",
    "\n",
    "\n",
    "#Create unseen holdout set for final evaluation\n",
    "X, X_unseen, y, y_unseen = train_test_split(X, y, test_size=0.1, random_state=19, stratify=y, shuffle=True)\n",
    "\n",
    "# Reset X and y indices for later merging\n",
    "y = y.reset_index(drop=True)\n",
    "X = X.reset_index(drop=True)"
   ]
  },
  {
   "cell_type": "markdown",
   "metadata": {},
   "source": [
    "#### Benchmark Model\n",
    "Here we train a benchmark single-layer perceptron model, the results from which will be used to gauge the performance of later model variations. \n"
   ]
  },
  {
   "cell_type": "code",
   "execution_count": 45,
   "metadata": {
    "scrolled": true
   },
   "outputs": [],
   "source": [
    "# Benchmark MLP model\n",
    "\n",
    "name = 'Benchmark'\n",
    "model = MLPClassifier(random_state=14)\n",
    "kfold = StratifiedKFold(n_splits=5, random_state=15, shuffle=True)\n",
    "metrics = cross_validate(model, X, y.values.ravel(), cv=kfold, scoring = scoring)\n",
    "\n",
    "results.append(metrics)\n",
    "names.append(name)\n",
    "table = update_results(name, metrics)"
   ]
  },
  {
   "cell_type": "code",
   "execution_count": 46,
   "metadata": {},
   "outputs": [
    {
     "data": {
      "text/html": [
       "<div>\n",
       "<style scoped>\n",
       "    .dataframe tbody tr th:only-of-type {\n",
       "        vertical-align: middle;\n",
       "    }\n",
       "\n",
       "    .dataframe tbody tr th {\n",
       "        vertical-align: top;\n",
       "    }\n",
       "\n",
       "    .dataframe thead th {\n",
       "        text-align: right;\n",
       "    }\n",
       "</style>\n",
       "<table border=\"1\" class=\"dataframe\">\n",
       "  <thead>\n",
       "    <tr style=\"text-align: right;\">\n",
       "      <th></th>\n",
       "      <th>Description</th>\n",
       "      <th>fit_time</th>\n",
       "      <th>score_time</th>\n",
       "      <th>test_accuracy</th>\n",
       "      <th>test_precision</th>\n",
       "      <th>test_recall</th>\n",
       "      <th>test_f1_score</th>\n",
       "    </tr>\n",
       "  </thead>\n",
       "  <tbody>\n",
       "    <tr>\n",
       "      <th>0</th>\n",
       "      <td>Benchmark</td>\n",
       "      <td>1.674918</td>\n",
       "      <td>0.007857</td>\n",
       "      <td>1.0</td>\n",
       "      <td>1.0</td>\n",
       "      <td>1.0</td>\n",
       "      <td>1.0</td>\n",
       "    </tr>\n",
       "  </tbody>\n",
       "</table>\n",
       "</div>"
      ],
      "text/plain": [
       "  Description  fit_time score_time test_accuracy test_precision test_recall  \\\n",
       "0   Benchmark  1.674918   0.007857           1.0            1.0         1.0   \n",
       "\n",
       "  test_f1_score  \n",
       "0           1.0  "
      ]
     },
     "execution_count": 46,
     "metadata": {},
     "output_type": "execute_result"
    }
   ],
   "source": [
    "table"
   ]
  },
  {
   "cell_type": "markdown",
   "metadata": {},
   "source": [
    "##### Comment\n",
    "Our benchmark model has, apparently, returned perfect results, correctly classifying 7311 records in our data.  This might initially seem implausible - that a function exists that perfectly separates poisonous from edible varieties. To convince ourselves that this isn't due to some kind of systemic problem or an anomaly with the input data, we rerun the experiment with a single-layer perceptron handicapped by limiting the number of epochs. If our handicapped model makes classification errors, it will give us more confidence that, with sufficient epochs, weights are converging in order to give the perfect result observed above."
   ]
  },
  {
   "cell_type": "code",
   "execution_count": 77,
   "metadata": {},
   "outputs": [
    {
     "data": {
      "text/html": [
       "<div>\n",
       "<style scoped>\n",
       "    .dataframe tbody tr th:only-of-type {\n",
       "        vertical-align: middle;\n",
       "    }\n",
       "\n",
       "    .dataframe tbody tr th {\n",
       "        vertical-align: top;\n",
       "    }\n",
       "\n",
       "    .dataframe thead th {\n",
       "        text-align: right;\n",
       "    }\n",
       "</style>\n",
       "<table border=\"1\" class=\"dataframe\">\n",
       "  <thead>\n",
       "    <tr style=\"text-align: right;\">\n",
       "      <th></th>\n",
       "      <th>Description</th>\n",
       "      <th>fit_time</th>\n",
       "      <th>score_time</th>\n",
       "      <th>test_accuracy</th>\n",
       "      <th>test_precision</th>\n",
       "      <th>test_recall</th>\n",
       "      <th>test_f1_score</th>\n",
       "    </tr>\n",
       "  </thead>\n",
       "  <tbody>\n",
       "    <tr>\n",
       "      <th>0</th>\n",
       "      <td>Handicapped MLP</td>\n",
       "      <td>0.151434</td>\n",
       "      <td>0.009587</td>\n",
       "      <td>0.979755</td>\n",
       "      <td>0.979962</td>\n",
       "      <td>0.979755</td>\n",
       "      <td>0.979744</td>\n",
       "    </tr>\n",
       "  </tbody>\n",
       "</table>\n",
       "</div>"
      ],
      "text/plain": [
       "       Description  fit_time score_time test_accuracy test_precision  \\\n",
       "0  Handicapped MLP  0.151434   0.009587      0.979755       0.979962   \n",
       "\n",
       "  test_recall test_f1_score  \n",
       "0    0.979755      0.979744  "
      ]
     },
     "execution_count": 77,
     "metadata": {},
     "output_type": "execute_result"
    }
   ],
   "source": [
    "# Hancicapped MLP\n",
    "\n",
    "name = 'Handicapped MLP'\n",
    "model = MLPClassifier(random_state=14, max_iter=2)\n",
    "kfold = StratifiedKFold(n_splits=5, random_state=15, shuffle=True)\n",
    "metrics = cross_validate(model, X, y.values.ravel(), cv=kfold, scoring = scoring)\n",
    "\n",
    "results.append(metrics)\n",
    "names.append(name)\n",
    "table = update_results(name, metrics)\n",
    "table"
   ]
  },
  {
   "cell_type": "markdown",
   "metadata": {},
   "source": [
    "##### Comment\n",
    "Our model trained over just two epochs makes some classification errors. After max_iter is adjusted back to 15 (not shown), the model's weights converge to provide a perfect classifier .  Below we evaluate on unseen test data."
   ]
  },
  {
   "cell_type": "code",
   "execution_count": 78,
   "metadata": {},
   "outputs": [
    {
     "name": "stdout",
     "output_type": "stream",
     "text": [
      "F1 score: 1.0\n",
      "Accuracy: 1.0\n"
     ]
    }
   ],
   "source": [
    "# Test on unseen data\n",
    "model = MLPClassifier(random_state=14)\n",
    "y_pred = model.fit(X,y).predict(X_unseen)\n",
    "print(\"F1 score: \" + str(f1_score(y_unseen, y_pred, average='weighted',zero_division=0).round(3)))\n",
    "print(\"Accuracy: \" + str(accuracy_score(y_unseen, y_pred).round(3)))"
   ]
  },
  {
   "cell_type": "markdown",
   "metadata": {},
   "source": [
    "Again, we observe perfect f1 and accuracy scores."
   ]
  },
  {
   "cell_type": "markdown",
   "metadata": {},
   "source": [
    "Below, we simplify further to determine if a single Perceptron is capable of similar predictive performance."
   ]
  },
  {
   "cell_type": "code",
   "execution_count": 79,
   "metadata": {},
   "outputs": [],
   "source": [
    "# Single Perceptron model\n",
    "\n",
    "name = 'Single Perceptron'\n",
    "model = Perceptron(random_state=14)\n",
    "kfold = StratifiedKFold(n_splits=5, random_state=15, shuffle=True)\n",
    "metrics = cross_validate(model, X, y.values.ravel(), cv=kfold, scoring = scoring)\n",
    "\n",
    "results.append(metrics)\n",
    "names.append(name)\n",
    "table = update_results(name, metrics)"
   ]
  },
  {
   "cell_type": "code",
   "execution_count": 80,
   "metadata": {},
   "outputs": [
    {
     "data": {
      "text/html": [
       "<div>\n",
       "<style scoped>\n",
       "    .dataframe tbody tr th:only-of-type {\n",
       "        vertical-align: middle;\n",
       "    }\n",
       "\n",
       "    .dataframe tbody tr th {\n",
       "        vertical-align: top;\n",
       "    }\n",
       "\n",
       "    .dataframe thead th {\n",
       "        text-align: right;\n",
       "    }\n",
       "</style>\n",
       "<table border=\"1\" class=\"dataframe\">\n",
       "  <thead>\n",
       "    <tr style=\"text-align: right;\">\n",
       "      <th></th>\n",
       "      <th>Description</th>\n",
       "      <th>fit_time</th>\n",
       "      <th>score_time</th>\n",
       "      <th>test_accuracy</th>\n",
       "      <th>test_precision</th>\n",
       "      <th>test_recall</th>\n",
       "      <th>test_f1_score</th>\n",
       "    </tr>\n",
       "  </thead>\n",
       "  <tbody>\n",
       "    <tr>\n",
       "      <th>0</th>\n",
       "      <td>Single Perceptron</td>\n",
       "      <td>0.03041</td>\n",
       "      <td>0.005219</td>\n",
       "      <td>0.999863</td>\n",
       "      <td>0.999863</td>\n",
       "      <td>0.999863</td>\n",
       "      <td>0.999863</td>\n",
       "    </tr>\n",
       "  </tbody>\n",
       "</table>\n",
       "</div>"
      ],
      "text/plain": [
       "         Description fit_time score_time test_accuracy test_precision  \\\n",
       "0  Single Perceptron  0.03041   0.005219      0.999863       0.999863   \n",
       "\n",
       "  test_recall test_f1_score  \n",
       "0    0.999863      0.999863  "
      ]
     },
     "execution_count": 80,
     "metadata": {},
     "output_type": "execute_result"
    }
   ],
   "source": [
    "table"
   ]
  },
  {
   "cell_type": "markdown",
   "metadata": {},
   "source": [
    "#### Results from individual k-folds"
   ]
  },
  {
   "cell_type": "code",
   "execution_count": 50,
   "metadata": {},
   "outputs": [
    {
     "data": {
      "text/plain": [
       "{'fit_time': array([0.03490567, 0.02497244, 0.02091146, 0.02197433, 0.02289772]),\n",
       " 'score_time': array([0.00698018, 0.00497937, 0.00498652, 0.00396681, 0.00488615]),\n",
       " 'test_accuracy': array([0.99931647, 1.        , 1.        , 1.        , 1.        ]),\n",
       " 'test_precision': array([0.99931744, 1.        , 1.        , 1.        , 1.        ]),\n",
       " 'test_recall': array([0.99931647, 1.        , 1.        , 1.        , 1.        ]),\n",
       " 'test_f1_score': array([0.99931649, 1.        , 1.        , 1.        , 1.        ])}"
      ]
     },
     "execution_count": 50,
     "metadata": {},
     "output_type": "execute_result"
    }
   ],
   "source": [
    "metrics"
   ]
  },
  {
   "cell_type": "markdown",
   "metadata": {},
   "source": [
    "##### Comment\n",
    "Whilst one of the k-fold validations above returned less-than-perfect results, the other four achieved f1 scores of 1. This points to there being a linear combination of the one-hot-encoded inputs that determines if a mushroom is poisonous or edible. Below we test the Perceptron on unseen test data."
   ]
  },
  {
   "cell_type": "code",
   "execution_count": 51,
   "metadata": {},
   "outputs": [
    {
     "name": "stdout",
     "output_type": "stream",
     "text": [
      "F1 score: 1.0\n",
      "Accuracy: 1.0\n"
     ]
    }
   ],
   "source": [
    "# Test on unseen data\n",
    "model = Perceptron(random_state=14)\n",
    "y_pred = model.fit(X,y).predict(X_unseen)\n",
    "f1_score(y_unseen, y_pred, average='micro',zero_division=0)\n",
    "print(\"F1 score: \" + str(f1_score(y_unseen, y_pred, average='weighted',zero_division=0).round(3)))\n",
    "print(\"Accuracy: \" + str(accuracy_score(y_unseen, y_pred).round(3)))"
   ]
  },
  {
   "cell_type": "markdown",
   "metadata": {},
   "source": [
    "Once again, our perceptron model has made no predictive errors, even on data that it has never seen before."
   ]
  },
  {
   "cell_type": "markdown",
   "metadata": {},
   "source": [
    "Below are the converged model weights of this trained Perceptron. A linear combination of these and the binary feature input values determines a mushroom's classification. In other words, edible and poisonous mushrooms are linearly separable."
   ]
  },
  {
   "cell_type": "code",
   "execution_count": 52,
   "metadata": {},
   "outputs": [
    {
     "data": {
      "text/plain": [
       "array([[  2.,   1.,   0.,   1.,  -2.,  -1.,  -2.,   2.,   0.,   1.,   4.,\n",
       "         -4.,   0.,   0.,  -2.,   4.,  -2.,  -1.,   2.,   0.,   0.,   1.,\n",
       "          1.,   0.,   7.,  -6.,  -8.,   9.,   6.,  -1.,   0.,  -2.,  -2.,\n",
       "         -2.,   0.,  -2.,   3.,   0.,  -1.,   2., -11.,  11.,  12., -11.,\n",
       "          2., -13.,   7.,   1.,   3.,   3.,  -2.,  -1.,   9.,  -2.,  -1.,\n",
       "         -4.,  -3.,   7.,  -4.,   1.,  -5.,   2.,  -2.,   6.,   0.,  -2.,\n",
       "         -1.,  -2.,  -1.,   2.,  -1.,   4.,   1.,  -1.,   0.,  -5.,   1.,\n",
       "          0.,   4.,  -1.,   0.,  -2.,  -1.,   0.,   3.,  -6.,   1.,   1.,\n",
       "         -1.,   4.,  -5.,  -6.,   0.,  13.,  -6.,   2.,   0.,  -1.,   7.,\n",
       "         -2.,   3.,   1.,  -7.,  -1.,   2.,   2.,   3.,  -4.,   2.,  -3.]])"
      ]
     },
     "execution_count": 52,
     "metadata": {},
     "output_type": "execute_result"
    }
   ],
   "source": [
    "model.coef_"
   ]
  }
 ],
 "metadata": {
  "kernelspec": {
   "display_name": "Python 3",
   "language": "python",
   "name": "python3"
  },
  "language_info": {
   "codemirror_mode": {
    "name": "ipython",
    "version": 3
   },
   "file_extension": ".py",
   "mimetype": "text/x-python",
   "name": "python",
   "nbconvert_exporter": "python",
   "pygments_lexer": "ipython3",
   "version": "3.7.6"
  }
 },
 "nbformat": 4,
 "nbformat_minor": 4
}
