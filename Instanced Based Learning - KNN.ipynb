{
 "cells": [
  {
   "cell_type": "code",
   "execution_count": 210,
   "metadata": {},
   "outputs": [],
   "source": [
    "#Imports\n",
    "import pandas as pd\n",
    "import numpy as np\n",
    "from sklearn import model_selection\n",
    "from sklearn import neighbors\n",
    "from sklearn import metrics\n",
    "from sklearn.model_selection import cross_val_predict\n",
    "from sklearn.neighbors import KNeighborsClassifier\n",
    "from sklearn.metrics import f1_score\n",
    "from sklearn.metrics import confusion_matrix\n",
    "from sklearn.metrics import ConfusionMatrixDisplay\n",
    "from sklearn.model_selection import StratifiedKFold\n",
    "from sklearn.model_selection import cross_validate"
   ]
  },
  {
   "cell_type": "code",
   "execution_count": 211,
   "metadata": {},
   "outputs": [],
   "source": [
    "#Call preprocessed datasets\n",
    "mushroom = pd.read_csv(\"newMushroom.csv\")\n",
    "wine = pd.read_csv(\"newWine.csv\")"
   ]
  },
  {
   "cell_type": "code",
   "execution_count": 212,
   "metadata": {},
   "outputs": [],
   "source": [
    "#Set X and y for wine modelling\n",
    "Xw = np.array(wine.drop(['quality'],1))\n",
    "yw = np.array(wine['quality'])"
   ]
  },
  {
   "cell_type": "code",
   "execution_count": 247,
   "metadata": {},
   "outputs": [
    {
     "name": "stdout",
     "output_type": "stream",
     "text": [
      "0.771979695431472\n"
     ]
    }
   ],
   "source": [
    "#Run KNN and print accuracy\n",
    "X_train, X_test, y_train, y_test = model_selection.train_test_split(Xw,yw,test_size=0.25)\n",
    "\n",
    "wclass = neighbors.KNeighborsClassifier(n_neighbors=5)\n",
    "wclass.fit(X_train, y_train)\n",
    "\n",
    "waccuracy = wclass.score(X_test, y_test)\n",
    "print(waccuracy)"
   ]
  },
  {
   "cell_type": "code",
   "execution_count": 241,
   "metadata": {
    "scrolled": true
   },
   "outputs": [
    {
     "data": {
      "text/plain": [
       "0.5934812575869065"
      ]
     },
     "execution_count": 241,
     "metadata": {},
     "output_type": "execute_result"
    }
   ],
   "source": [
    "#Cross validate and produce f1 score\n",
    "y_pred = cross_val_predict(wclass,X_test,y_test,cv=10)\n",
    "f1_score(y_test, y_pred, average='weighted')"
   ]
  },
  {
   "cell_type": "code",
   "execution_count": 237,
   "metadata": {},
   "outputs": [
    {
     "name": "stdout",
     "output_type": "stream",
     "text": [
      "[[753   0   0   0   0   0   0]\n",
      " [ 17 554  40  34  21  57   3]\n",
      " [ 27 150 160 105 101 117   2]\n",
      " [ 24 165 137 186 118  84   2]\n",
      " [ 20 118 118 130 184  94   1]\n",
      " [  5  45  39  42  42 510   3]\n",
      " [  0   0   0   0   0   0 717]]\n"
     ]
    }
   ],
   "source": [
    "#Generate confusion matrix\n",
    "cw = confusion_matrix(y_test, y_pred)\n",
    "print(c)"
   ]
  },
  {
   "cell_type": "code",
   "execution_count": 220,
   "metadata": {
    "scrolled": true
   },
   "outputs": [
    {
     "data": {
      "text/plain": [
       "<sklearn.metrics._plot.confusion_matrix.ConfusionMatrixDisplay at 0x1ca80bee040>"
      ]
     },
     "execution_count": 220,
     "metadata": {},
     "output_type": "execute_result"
    },
    {
     "data": {
      "image/png": "[encoded data removed]",
      "text/plain": [
       "<Figure size 432x288 with 2 Axes>"
      ]
     },
     "metadata": {
      "needs_background": "light"
     },
     "output_type": "display_data"
    }
   ],
   "source": [
    "#Plot confusion matrix\n",
    "cwp = ConfusionMatrixDisplay(confusion_matrix=cw, display_labels=clf.classes_)\n",
    "cwp.plot() "
   ]
  },
  {
   "cell_type": "code",
   "execution_count": 221,
   "metadata": {},
   "outputs": [],
   "source": [
    "#Set X and y for mushroom modelling\n",
    "Xm = np.array(mushroom.drop(['class'],1))\n",
    "ym = np.array(mushroom['class'])"
   ]
  },
  {
   "cell_type": "code",
   "execution_count": 222,
   "metadata": {},
   "outputs": [
    {
     "name": "stdout",
     "output_type": "stream",
     "text": [
      "1.0\n"
     ]
    }
   ],
   "source": [
    "#Run KNN and print accuracy\n",
    "X_train, X_test, y_train, y_test = model_selection.train_test_split(Xm,ym,test_size=0.25)\n",
    "\n",
    "mclass = neighbors.KNeighborsClassifier(n_neighbors=5)\n",
    "mclass.fit(X_train, y_train)\n",
    "\n",
    "maccuracy = mclass.score(X_test, y_test)\n",
    "print(maccuracy)"
   ]
  },
  {
   "cell_type": "code",
   "execution_count": null,
   "metadata": {},
   "outputs": [],
   "source": []
  }
 ],
 "metadata": {
  "kernelspec": {
   "display_name": "Python 3",
   "language": "python",
   "name": "python3"
  },
  "language_info": {
   "codemirror_mode": {
    "name": "ipython",
    "version": 3
   },
   "file_extension": ".py",
   "mimetype": "text/x-python",
   "name": "python",
   "nbconvert_exporter": "python",
   "pygments_lexer": "ipython3",
   "version": "3.8.3"
  }
 },
 "nbformat": 4,
 "nbformat_minor": 4
}
