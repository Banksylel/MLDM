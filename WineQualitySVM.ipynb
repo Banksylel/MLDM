{
 "cells": [
  {
   "cell_type": "markdown",
   "metadata": {},
   "source": [
    "# Wine quality"
   ]
  },
  {
   "cell_type": "markdown",
   "metadata": {},
   "source": [
    "### Importing Dataset"
   ]
  },
  {
   "cell_type": "code",
   "execution_count": 1,
   "metadata": {},
   "outputs": [],
   "source": [
    "import pandas as pd\n",
    "raw_data= pd.read_csv('winequalityN.csv')"
   ]
  },
  {
   "cell_type": "code",
   "execution_count": 2,
   "metadata": {},
   "outputs": [
    {
     "data": {
      "text/html": [
       "<div>\n",
       "<style scoped>\n",
       "    .dataframe tbody tr th:only-of-type {\n",
       "        vertical-align: middle;\n",
       "    }\n",
       "\n",
       "    .dataframe tbody tr th {\n",
       "        vertical-align: top;\n",
       "    }\n",
       "\n",
       "    .dataframe thead th {\n",
       "        text-align: right;\n",
       "    }\n",
       "</style>\n",
       "<table border=\"1\" class=\"dataframe\">\n",
       "  <thead>\n",
       "    <tr style=\"text-align: right;\">\n",
       "      <th></th>\n",
       "      <th>type</th>\n",
       "      <th>fixed acidity</th>\n",
       "      <th>volatile acidity</th>\n",
       "      <th>citric acid</th>\n",
       "      <th>residual sugar</th>\n",
       "      <th>chlorides</th>\n",
       "      <th>free sulfur dioxide</th>\n",
       "      <th>total sulfur dioxide</th>\n",
       "      <th>density</th>\n",
       "      <th>pH</th>\n",
       "      <th>sulphates</th>\n",
       "      <th>alcohol</th>\n",
       "      <th>quality</th>\n",
       "    </tr>\n",
       "  </thead>\n",
       "  <tbody>\n",
       "    <tr>\n",
       "      <th>0</th>\n",
       "      <td>white</td>\n",
       "      <td>7.0</td>\n",
       "      <td>0.27</td>\n",
       "      <td>0.36</td>\n",
       "      <td>20.7</td>\n",
       "      <td>0.045</td>\n",
       "      <td>45.0</td>\n",
       "      <td>170.0</td>\n",
       "      <td>1.0010</td>\n",
       "      <td>3.00</td>\n",
       "      <td>0.45</td>\n",
       "      <td>8.8</td>\n",
       "      <td>6</td>\n",
       "    </tr>\n",
       "    <tr>\n",
       "      <th>1</th>\n",
       "      <td>white</td>\n",
       "      <td>6.3</td>\n",
       "      <td>0.30</td>\n",
       "      <td>0.34</td>\n",
       "      <td>1.6</td>\n",
       "      <td>0.049</td>\n",
       "      <td>14.0</td>\n",
       "      <td>132.0</td>\n",
       "      <td>0.9940</td>\n",
       "      <td>3.30</td>\n",
       "      <td>0.49</td>\n",
       "      <td>9.5</td>\n",
       "      <td>6</td>\n",
       "    </tr>\n",
       "    <tr>\n",
       "      <th>2</th>\n",
       "      <td>white</td>\n",
       "      <td>8.1</td>\n",
       "      <td>0.28</td>\n",
       "      <td>0.40</td>\n",
       "      <td>6.9</td>\n",
       "      <td>0.050</td>\n",
       "      <td>30.0</td>\n",
       "      <td>97.0</td>\n",
       "      <td>0.9951</td>\n",
       "      <td>3.26</td>\n",
       "      <td>0.44</td>\n",
       "      <td>10.1</td>\n",
       "      <td>6</td>\n",
       "    </tr>\n",
       "    <tr>\n",
       "      <th>3</th>\n",
       "      <td>white</td>\n",
       "      <td>7.2</td>\n",
       "      <td>0.23</td>\n",
       "      <td>0.32</td>\n",
       "      <td>8.5</td>\n",
       "      <td>0.058</td>\n",
       "      <td>47.0</td>\n",
       "      <td>186.0</td>\n",
       "      <td>0.9956</td>\n",
       "      <td>3.19</td>\n",
       "      <td>0.40</td>\n",
       "      <td>9.9</td>\n",
       "      <td>6</td>\n",
       "    </tr>\n",
       "    <tr>\n",
       "      <th>4</th>\n",
       "      <td>white</td>\n",
       "      <td>7.2</td>\n",
       "      <td>0.23</td>\n",
       "      <td>0.32</td>\n",
       "      <td>8.5</td>\n",
       "      <td>0.058</td>\n",
       "      <td>47.0</td>\n",
       "      <td>186.0</td>\n",
       "      <td>0.9956</td>\n",
       "      <td>3.19</td>\n",
       "      <td>0.40</td>\n",
       "      <td>9.9</td>\n",
       "      <td>6</td>\n",
       "    </tr>\n",
       "  </tbody>\n",
       "</table>\n",
       "</div>"
      ],
      "text/plain": [
       "    type  fixed acidity  volatile acidity  citric acid  residual sugar  \\\n",
       "0  white            7.0              0.27         0.36            20.7   \n",
       "1  white            6.3              0.30         0.34             1.6   \n",
       "2  white            8.1              0.28         0.40             6.9   \n",
       "3  white            7.2              0.23         0.32             8.5   \n",
       "4  white            7.2              0.23         0.32             8.5   \n",
       "\n",
       "   chlorides  free sulfur dioxide  total sulfur dioxide  density    pH  \\\n",
       "0      0.045                 45.0                 170.0   1.0010  3.00   \n",
       "1      0.049                 14.0                 132.0   0.9940  3.30   \n",
       "2      0.050                 30.0                  97.0   0.9951  3.26   \n",
       "3      0.058                 47.0                 186.0   0.9956  3.19   \n",
       "4      0.058                 47.0                 186.0   0.9956  3.19   \n",
       "\n",
       "   sulphates  alcohol  quality  \n",
       "0       0.45      8.8        6  \n",
       "1       0.49      9.5        6  \n",
       "2       0.44     10.1        6  \n",
       "3       0.40      9.9        6  \n",
       "4       0.40      9.9        6  "
      ]
     },
     "execution_count": 2,
     "metadata": {},
     "output_type": "execute_result"
    }
   ],
   "source": [
    "raw_data.head()"
   ]
  },
  {
   "cell_type": "code",
   "execution_count": 3,
   "metadata": {},
   "outputs": [
    {
     "data": {
      "text/html": [
       "<div>\n",
       "<style scoped>\n",
       "    .dataframe tbody tr th:only-of-type {\n",
       "        vertical-align: middle;\n",
       "    }\n",
       "\n",
       "    .dataframe tbody tr th {\n",
       "        vertical-align: top;\n",
       "    }\n",
       "\n",
       "    .dataframe thead th {\n",
       "        text-align: right;\n",
       "    }\n",
       "</style>\n",
       "<table border=\"1\" class=\"dataframe\">\n",
       "  <thead>\n",
       "    <tr style=\"text-align: right;\">\n",
       "      <th></th>\n",
       "      <th>fixed acidity</th>\n",
       "      <th>volatile acidity</th>\n",
       "      <th>citric acid</th>\n",
       "      <th>residual sugar</th>\n",
       "      <th>chlorides</th>\n",
       "      <th>free sulfur dioxide</th>\n",
       "      <th>total sulfur dioxide</th>\n",
       "      <th>density</th>\n",
       "      <th>pH</th>\n",
       "      <th>sulphates</th>\n",
       "      <th>alcohol</th>\n",
       "      <th>quality</th>\n",
       "    </tr>\n",
       "  </thead>\n",
       "  <tbody>\n",
       "    <tr>\n",
       "      <th>count</th>\n",
       "      <td>6487.000000</td>\n",
       "      <td>6489.000000</td>\n",
       "      <td>6494.000000</td>\n",
       "      <td>6495.000000</td>\n",
       "      <td>6495.000000</td>\n",
       "      <td>6497.000000</td>\n",
       "      <td>6497.000000</td>\n",
       "      <td>6497.000000</td>\n",
       "      <td>6488.000000</td>\n",
       "      <td>6493.000000</td>\n",
       "      <td>6497.000000</td>\n",
       "      <td>6497.000000</td>\n",
       "    </tr>\n",
       "    <tr>\n",
       "      <th>mean</th>\n",
       "      <td>7.216579</td>\n",
       "      <td>0.339691</td>\n",
       "      <td>0.318722</td>\n",
       "      <td>5.444326</td>\n",
       "      <td>0.056042</td>\n",
       "      <td>30.525319</td>\n",
       "      <td>115.744574</td>\n",
       "      <td>0.994697</td>\n",
       "      <td>3.218395</td>\n",
       "      <td>0.531215</td>\n",
       "      <td>10.491801</td>\n",
       "      <td>5.818378</td>\n",
       "    </tr>\n",
       "    <tr>\n",
       "      <th>std</th>\n",
       "      <td>1.296750</td>\n",
       "      <td>0.164649</td>\n",
       "      <td>0.145265</td>\n",
       "      <td>4.758125</td>\n",
       "      <td>0.035036</td>\n",
       "      <td>17.749400</td>\n",
       "      <td>56.521855</td>\n",
       "      <td>0.002999</td>\n",
       "      <td>0.160748</td>\n",
       "      <td>0.148814</td>\n",
       "      <td>1.192712</td>\n",
       "      <td>0.873255</td>\n",
       "    </tr>\n",
       "    <tr>\n",
       "      <th>min</th>\n",
       "      <td>3.800000</td>\n",
       "      <td>0.080000</td>\n",
       "      <td>0.000000</td>\n",
       "      <td>0.600000</td>\n",
       "      <td>0.009000</td>\n",
       "      <td>1.000000</td>\n",
       "      <td>6.000000</td>\n",
       "      <td>0.987110</td>\n",
       "      <td>2.720000</td>\n",
       "      <td>0.220000</td>\n",
       "      <td>8.000000</td>\n",
       "      <td>3.000000</td>\n",
       "    </tr>\n",
       "    <tr>\n",
       "      <th>25%</th>\n",
       "      <td>6.400000</td>\n",
       "      <td>0.230000</td>\n",
       "      <td>0.250000</td>\n",
       "      <td>1.800000</td>\n",
       "      <td>0.038000</td>\n",
       "      <td>17.000000</td>\n",
       "      <td>77.000000</td>\n",
       "      <td>0.992340</td>\n",
       "      <td>3.110000</td>\n",
       "      <td>0.430000</td>\n",
       "      <td>9.500000</td>\n",
       "      <td>5.000000</td>\n",
       "    </tr>\n",
       "    <tr>\n",
       "      <th>50%</th>\n",
       "      <td>7.000000</td>\n",
       "      <td>0.290000</td>\n",
       "      <td>0.310000</td>\n",
       "      <td>3.000000</td>\n",
       "      <td>0.047000</td>\n",
       "      <td>29.000000</td>\n",
       "      <td>118.000000</td>\n",
       "      <td>0.994890</td>\n",
       "      <td>3.210000</td>\n",
       "      <td>0.510000</td>\n",
       "      <td>10.300000</td>\n",
       "      <td>6.000000</td>\n",
       "    </tr>\n",
       "    <tr>\n",
       "      <th>75%</th>\n",
       "      <td>7.700000</td>\n",
       "      <td>0.400000</td>\n",
       "      <td>0.390000</td>\n",
       "      <td>8.100000</td>\n",
       "      <td>0.065000</td>\n",
       "      <td>41.000000</td>\n",
       "      <td>156.000000</td>\n",
       "      <td>0.996990</td>\n",
       "      <td>3.320000</td>\n",
       "      <td>0.600000</td>\n",
       "      <td>11.300000</td>\n",
       "      <td>6.000000</td>\n",
       "    </tr>\n",
       "    <tr>\n",
       "      <th>max</th>\n",
       "      <td>15.900000</td>\n",
       "      <td>1.580000</td>\n",
       "      <td>1.660000</td>\n",
       "      <td>65.800000</td>\n",
       "      <td>0.611000</td>\n",
       "      <td>289.000000</td>\n",
       "      <td>440.000000</td>\n",
       "      <td>1.038980</td>\n",
       "      <td>4.010000</td>\n",
       "      <td>2.000000</td>\n",
       "      <td>14.900000</td>\n",
       "      <td>9.000000</td>\n",
       "    </tr>\n",
       "  </tbody>\n",
       "</table>\n",
       "</div>"
      ],
      "text/plain": [
       "       fixed acidity  volatile acidity  citric acid  residual sugar  \\\n",
       "count    6487.000000       6489.000000  6494.000000     6495.000000   \n",
       "mean        7.216579          0.339691     0.318722        5.444326   \n",
       "std         1.296750          0.164649     0.145265        4.758125   \n",
       "min         3.800000          0.080000     0.000000        0.600000   \n",
       "25%         6.400000          0.230000     0.250000        1.800000   \n",
       "50%         7.000000          0.290000     0.310000        3.000000   \n",
       "75%         7.700000          0.400000     0.390000        8.100000   \n",
       "max        15.900000          1.580000     1.660000       65.800000   \n",
       "\n",
       "         chlorides  free sulfur dioxide  total sulfur dioxide      density  \\\n",
       "count  6495.000000          6497.000000           6497.000000  6497.000000   \n",
       "mean      0.056042            30.525319            115.744574     0.994697   \n",
       "std       0.035036            17.749400             56.521855     0.002999   \n",
       "min       0.009000             1.000000              6.000000     0.987110   \n",
       "25%       0.038000            17.000000             77.000000     0.992340   \n",
       "50%       0.047000            29.000000            118.000000     0.994890   \n",
       "75%       0.065000            41.000000            156.000000     0.996990   \n",
       "max       0.611000           289.000000            440.000000     1.038980   \n",
       "\n",
       "                pH    sulphates      alcohol      quality  \n",
       "count  6488.000000  6493.000000  6497.000000  6497.000000  \n",
       "mean      3.218395     0.531215    10.491801     5.818378  \n",
       "std       0.160748     0.148814     1.192712     0.873255  \n",
       "min       2.720000     0.220000     8.000000     3.000000  \n",
       "25%       3.110000     0.430000     9.500000     5.000000  \n",
       "50%       3.210000     0.510000    10.300000     6.000000  \n",
       "75%       3.320000     0.600000    11.300000     6.000000  \n",
       "max       4.010000     2.000000    14.900000     9.000000  "
      ]
     },
     "execution_count": 3,
     "metadata": {},
     "output_type": "execute_result"
    }
   ],
   "source": [
    "raw_data.describe()"
   ]
  },
  {
   "cell_type": "code",
   "execution_count": 4,
   "metadata": {},
   "outputs": [
    {
     "data": {
      "text/plain": [
       "6    2836\n",
       "5    2138\n",
       "7    1079\n",
       "4     216\n",
       "8     193\n",
       "3      30\n",
       "9       5\n",
       "Name: quality, dtype: int64"
      ]
     },
     "execution_count": 4,
     "metadata": {},
     "output_type": "execute_result"
    },
    {
     "data": {
      "image/png": "[encoded data removed]",
      "text/plain": [
       "<Figure size 432x288 with 1 Axes>"
      ]
     },
     "metadata": {
      "needs_background": "light"
     },
     "output_type": "display_data"
    }
   ],
   "source": [
    "raw_data['quality'].value_counts().plot(kind='bar')\n",
    "raw_data['quality'].value_counts()"
   ]
  },
  {
   "cell_type": "code",
   "execution_count": 6,
   "metadata": {},
   "outputs": [
    {
     "data": {
      "text/plain": [
       "(6463, 13)"
      ]
     },
     "execution_count": 6,
     "metadata": {},
     "output_type": "execute_result"
    }
   ],
   "source": [
    "raw_data= raw_data.dropna()"
   ]
  },
  {
   "cell_type": "markdown",
   "metadata": {},
   "source": [
    "### Extracting the dependent and independent variables"
   ]
  },
  {
   "cell_type": "code",
   "execution_count": 7,
   "metadata": {},
   "outputs": [],
   "source": [
    "import numpy as np\n",
    "X= raw_data.iloc[:, :-1].values\n",
    "y= raw_data.iloc[:, -1:]\n",
    "y= np.ravel(y)"
   ]
  },
  {
   "cell_type": "markdown",
   "metadata": {},
   "source": [
    "### One hot encoding"
   ]
  },
  {
   "cell_type": "code",
   "execution_count": 8,
   "metadata": {},
   "outputs": [],
   "source": [
    "import pandas\n",
    "import numpy\n",
    "from sklearn.preprocessing import OneHotEncoder \n",
    "from sklearn.compose import ColumnTransformer\n",
    "ct = ColumnTransformer([('encoder', OneHotEncoder(),[0])], remainder='passthrough')   \n",
    "X= ct.fit_transform(X)"
   ]
  },
  {
   "cell_type": "markdown",
   "metadata": {},
   "source": [
    "### Standardising the data"
   ]
  },
  {
   "cell_type": "code",
   "execution_count": 9,
   "metadata": {},
   "outputs": [],
   "source": [
    "from sklearn.preprocessing import StandardScaler\n",
    "sc = StandardScaler()\n",
    "X[:, 2:]=sc.fit_transform(X[:, 2:])"
   ]
  },
  {
   "cell_type": "markdown",
   "metadata": {},
   "source": [
    "### Train Test split"
   ]
  },
  {
   "cell_type": "code",
   "execution_count": 23,
   "metadata": {},
   "outputs": [],
   "source": [
    "from sklearn.model_selection import train_test_split\n",
    "X_train, X_test, y_train, y_test = train_test_split(X, y, test_size = 0.25, random_state = 0)"
   ]
  },
  {
   "cell_type": "markdown",
   "metadata": {},
   "source": [
    "### Stratified KFold Validation"
   ]
  },
  {
   "cell_type": "code",
   "execution_count": 11,
   "metadata": {},
   "outputs": [],
   "source": [
    "import warnings\n",
    "warnings.filterwarnings(\"ignore\")\n",
    "from sklearn.svm import SVC\n",
    "\n",
    "linear_ = SVC(kernel='linear',  decision_function_shape='ovo', probability=True)\n",
    "rbf_ = SVC(kernel='rbf', gamma='auto',  decision_function_shape='ovo', probability=True)\n",
    "poly_ = SVC(kernel='poly', degree=3,  decision_function_shape='ovo', probability=True)\n",
    "sig_ = SVC(kernel='sigmoid',  decision_function_shape='ovo', probability=True)\n",
    "\n",
    "from sklearn.model_selection import StratifiedKFold, KFold\n",
    "from sklearn.model_selection import cross_validate\n",
    "from sklearn.metrics import make_scorer\n",
    "from sklearn.metrics import accuracy_score, precision_score, recall_score, f1_score\n",
    "\n",
    "kfold = StratifiedKFold(n_splits=10)\n",
    "linear_results = cross_validate(linear_, X_train, y_train, cv=kfold, scoring = {'accuracy' : make_scorer(accuracy_score),\n",
    "'precision' : make_scorer(precision_score, average = 'weighted'),\n",
    "'recall' : make_scorer(recall_score, average = 'weighted'),\n",
    "'f1_score' : make_scorer(f1_score, average = 'weighted')})\n",
    "\n",
    "rbf_results = cross_validate(rbf_, X_train, y_train, cv=kfold, scoring = {'accuracy' : make_scorer(accuracy_score),\n",
    "'precision' : make_scorer(precision_score, average = 'weighted'),\n",
    "'recall' : make_scorer(recall_score, average = 'weighted'),\n",
    "'f1_score' : make_scorer(f1_score, average = 'weighted')})\n",
    "\n",
    "poly_results = cross_validate(poly_, X_train, y_train, cv=kfold, scoring = {'accuracy' : make_scorer(accuracy_score),\n",
    "'precision' : make_scorer(precision_score, average = 'weighted'),\n",
    "'recall' : make_scorer(recall_score, average = 'weighted'),\n",
    "'f1_score' : make_scorer(f1_score, average = 'weighted')})\n",
    "\n",
    "sig_results = cross_validate(sig_, X_train, y_train, cv=kfold, scoring = {'accuracy' : make_scorer(accuracy_score),\n",
    "'precision' : make_scorer(precision_score, average = 'weighted'),\n",
    "'recall' : make_scorer(recall_score, average = 'weighted'),\n",
    "'f1_score' : make_scorer(f1_score, average = 'weighted')})"
   ]
  },
  {
   "cell_type": "markdown",
   "metadata": {},
   "source": [
    "### Regular Model training"
   ]
  },
  {
   "cell_type": "code",
   "execution_count": 12,
   "metadata": {},
   "outputs": [],
   "source": [
    "from sklearn.svm import SVC\n",
    "linear = SVC(kernel='linear',  decision_function_shape='ovo', probability=True).fit(X_train, y_train)\n",
    "rbf = SVC(kernel='rbf', gamma='auto',  decision_function_shape='ovo', probability=True).fit(X_train, y_train)\n",
    "poly = SVC(kernel='poly', degree=3,  decision_function_shape='ovo', probability=True).fit(X_train, y_train)\n",
    "sig = SVC(kernel='sigmoid',  decision_function_shape='ovo', probability=True).fit(X_train, y_train)"
   ]
  },
  {
   "cell_type": "code",
   "execution_count": 13,
   "metadata": {},
   "outputs": [
    {
     "name": "stdout",
     "output_type": "stream",
     "text": [
      "Accuracy Linear Kernel: 0.55\n",
      "Accuracy Polynomial Kernel: 0.56\n",
      "Accuracy Radial Basis Kernel: 0.58\n",
      "Accuracy Sigmoid Kernel: 0.42\n"
     ]
    }
   ],
   "source": [
    "linear_pred = linear.predict(X_test)\n",
    "poly_pred = poly.predict(X_test)\n",
    "rbf_pred = rbf.predict(X_test)\n",
    "sig_pred = sig.predict(X_test)"
   ]
  },
  {
   "cell_type": "markdown",
   "metadata": {},
   "source": [
    "### Evalution Metrics"
   ]
  },
  {
   "cell_type": "code",
   "execution_count": 14,
   "metadata": {},
   "outputs": [
    {
     "name": "stdout",
     "output_type": "stream",
     "text": [
      "-----------------LINEAR SVM EVALUATION METRICS--------------\n",
      "Accuracy: 0.55\n",
      "StratifoldKFoldAccuracy: 0.53 +/-0.017\n",
      "StratifoldKFoldf1score:  0.46 +/-0.016\n",
      "F-score:  0.55\n"
     ]
    }
   ],
   "source": [
    "from sklearn import metrics\n",
    "accuracy= metrics.accuracy_score(y_test, linear_pred)\n",
    "precision= metrics.precision_score(y_test, linear_pred, average= 'micro')\n",
    "recall= metrics.recall_score(y_test, linear_pred, average= 'micro')\n",
    "fscore= 2 * ((precision * recall)/ (precision + recall))\n",
    "print(\"-----------------LINEAR SVM EVALUATION METRICS--------------\")\n",
    "print(\"Accuracy:\", round(accuracy,2))\n",
    "print(\"StratifoldKFoldAccuracy:\", str(round(linear_results['test_accuracy'].mean(), 2))+ str(' +/-') + str(round(linear_results['test_accuracy'].std(), 3)))\n",
    "print(\"StratifoldKFoldf1score: \", str(round(linear_results['test_f1_score'].mean(), 2)) + str(' +/-') + str(round(linear_results['test_f1_score'].std(), 3)))\n",
    "print(\"F-score: \", round(fscore, 2))"
   ]
  },
  {
   "cell_type": "code",
   "execution_count": 15,
   "metadata": {},
   "outputs": [
    {
     "name": "stdout",
     "output_type": "stream",
     "text": [
      "-----------------POLYNOMIAL SVM EVALUATION METRICS--------------\n",
      "Accuracy: 0.56\n",
      "StratifoldKFoldAccuracy: 0.56 +/-0.023\n",
      "StratifoldKFoldf1score:  0.52 +/-0.024\n",
      "F-score:  0.56\n"
     ]
    }
   ],
   "source": [
    "from sklearn import metrics\n",
    "accuracy= metrics.accuracy_score(y_test, poly_pred)\n",
    "precision= metrics.precision_score(y_test, poly_pred, average= 'micro')\n",
    "recall= metrics.recall_score(y_test, poly_pred, average= 'micro')\n",
    "fscore= 2 * ((precision * recall)/ (precision + recall))\n",
    "print(\"-----------------POLYNOMIAL SVM EVALUATION METRICS--------------\")\n",
    "print(\"Accuracy:\", round(accuracy,2))\n",
    "print(\"StratifoldKFoldAccuracy:\", str(round(poly_results['test_accuracy'].mean(), 2))+ str(' +/-') + str(round(poly_results['test_accuracy'].std(), 3)))\n",
    "print(\"StratifoldKFoldf1score: \", str(round(poly_results['test_f1_score'].mean(), 2)) + str(' +/-') + str(round(poly_results['test_f1_score'].std(), 3)))\n",
    "print(\"F-score: \", round(fscore, 2))"
   ]
  },
  {
   "cell_type": "code",
   "execution_count": 16,
   "metadata": {},
   "outputs": [
    {
     "name": "stdout",
     "output_type": "stream",
     "text": [
      "-----------------RBF SVM EVALUATION METRICS--------------\n",
      "Accuracy: 0.58\n",
      "StratifoldKFoldAccuracy: 0.57 +/-0.022\n",
      "StratifoldKFoldf1score:  0.53 +/-0.021\n",
      "F-score:  0.58\n"
     ]
    }
   ],
   "source": [
    "from sklearn import metrics\n",
    "accuracy= metrics.accuracy_score(y_test, rbf_pred)\n",
    "precision= metrics.precision_score(y_test, rbf_pred, average= 'micro')\n",
    "recall= metrics.recall_score(y_test, rbf_pred, average= 'micro')\n",
    "fscore= 2 * ((precision * recall)/ (precision + recall))\n",
    "print(\"-----------------RBF SVM EVALUATION METRICS--------------\")\n",
    "print(\"Accuracy:\", round(accuracy,2))\n",
    "print(\"StratifoldKFoldAccuracy:\", str(round(rbf_results['test_accuracy'].mean(), 2))+ str(' +/-') + str(round(rbf_results['test_accuracy'].std(), 3)))\n",
    "print(\"StratifoldKFoldf1score: \", str(round(rbf_results['test_f1_score'].mean(), 2)) + str(' +/-') + str(round(rbf_results['test_f1_score'].std(), 3)))\n",
    "print(\"F-score: \", round(fscore, 2))"
   ]
  },
  {
   "cell_type": "code",
   "execution_count": 17,
   "metadata": {},
   "outputs": [
    {
     "name": "stdout",
     "output_type": "stream",
     "text": [
      "-----------------SIGMOID SVM EVALUATION METRICS--------------\n",
      "Accuracy: 0.42\n",
      "StratifoldKFoldAccuracy: 0.42 +/-0.019\n",
      "StratifoldKFoldf1score:  0.41 +/-0.02\n",
      "F-score:  0.42\n"
     ]
    }
   ],
   "source": [
    "from sklearn import metrics\n",
    "accuracy= metrics.accuracy_score(y_test, sig_pred)\n",
    "precision= metrics.precision_score(y_test, sig_pred, average= 'micro')\n",
    "recall= metrics.recall_score(y_test, sig_pred, average= 'micro')\n",
    "fscore= 2 * ((precision * recall)/ (precision + recall))\n",
    "print(\"-----------------SIGMOID SVM EVALUATION METRICS--------------\")\n",
    "print(\"Accuracy:\", round(accuracy,2))\n",
    "print(\"StratifoldKFoldAccuracy:\", str(round(sig_results['test_accuracy'].mean(), 2))+ str(' +/-') + str(round(sig_results['test_accuracy'].std(), 3)))\n",
    "print(\"StratifoldKFoldf1score: \", str(round(sig_results['test_f1_score'].mean(), 2)) + str(' +/-') + str(round(sig_results['test_f1_score'].std(), 3)) )\n",
    "print(\"F-score: \", round(fscore, 2))"
   ]
  },
  {
   "cell_type": "markdown",
   "metadata": {},
   "source": [
    "### Confusion Matrix"
   ]
  },
  {
   "cell_type": "code",
   "execution_count": 27,
   "metadata": {},
   "outputs": [
    {
     "data": {
      "text/plain": [
       "<sklearn.metrics._plot.confusion_matrix.ConfusionMatrixDisplay at 0x1425bd0c670>"
      ]
     },
     "execution_count": 27,
     "metadata": {},
     "output_type": "execute_result"
    },
    {
     "data": {
      "image/png": "[encoded data removed]",
      "text/plain": [
       "<Figure size 432x288 with 2 Axes>"
      ]
     },
     "metadata": {
      "needs_background": "light"
     },
     "output_type": "display_data"
    },
    {
     "data": {
      "image/png": "[encoded data removed]",
      "text/plain": [
       "<Figure size 432x288 with 2 Axes>"
      ]
     },
     "metadata": {
      "needs_background": "light"
     },
     "output_type": "display_data"
    },
    {
     "data": {
      "image/png": "[encoded data removed]",
      "text/plain": [
       "<Figure size 432x288 with 2 Axes>"
      ]
     },
     "metadata": {
      "needs_background": "light"
     },
     "output_type": "display_data"
    },
    {
     "data": {
      "image/png": "[encoded data removed]",
      "text/plain": [
       "<Figure size 432x288 with 2 Axes>"
      ]
     },
     "metadata": {
      "needs_background": "light"
     },
     "output_type": "display_data"
    }
   ],
   "source": [
    "from sklearn.metrics import confusion_matrix, ConfusionMatrixDisplay\n",
    "\n",
    "cm_lin = confusion_matrix(y_test, linear_pred)\n",
    "cm_poly = confusion_matrix(y_test, poly_pred)\n",
    "cm_rbf = confusion_matrix(y_test, rbf_pred)\n",
    "cm_sig = confusion_matrix(y_test, sig_pred)\n",
    "\n",
    "cpl= ConfusionMatrixDisplay(confusion_matrix= cm_lin, display_labels=linear.classes_)\n",
    "cpp= ConfusionMatrixDisplay(confusion_matrix= cm_poly, display_labels=poly.classes_)\n",
    "cpr= ConfusionMatrixDisplay(confusion_matrix= cm_rbf, display_labels=rbf.classes_)\n",
    "cps= ConfusionMatrixDisplay(confusion_matrix= cm_sig, display_labels=sig.classes_)\n",
    "cpl.plot()\n",
    "cpp.plot()\n",
    "cpr.plot()\n",
    "cps.plot()"
   ]
  },
  {
   "cell_type": "markdown",
   "metadata": {},
   "source": [
    "### ROC AUC Scores"
   ]
  },
  {
   "cell_type": "code",
   "execution_count": 53,
   "metadata": {},
   "outputs": [
    {
     "name": "stdout",
     "output_type": "stream",
     "text": [
      "One-vs-One ROC AUC scores:\n",
      "0.693901 (macro),\n",
      "0.682990 (weighted by prevalence)\n",
      "One-vs-Rest ROC AUC scores:\n",
      "0.739651 (macro),\n",
      "0.693240 (weighted by prevalence)\n"
     ]
    },
    {
     "data": {
      "image/png": "[encoded data removed]",
      "text/plain": [
       "<Figure size 432x288 with 1 Axes>"
      ]
     },
     "metadata": {
      "needs_background": "light"
     },
     "output_type": "display_data"
    }
   ],
   "source": [
    "from sklearn.metrics import roc_auc_score\n",
    "y_prob = linear.predict_proba(X_test)\n",
    "macro_roc_auc_ovo = roc_auc_score(y_test, y_prob, multi_class=\"ovo\", average=\"macro\")\n",
    "weighted_roc_auc_ovo = roc_auc_score(y_test, y_prob, multi_class=\"ovo\", average=\"weighted\")\n",
    "macro_roc_auc_ovr = roc_auc_score(y_test, y_prob, multi_class=\"ovr\", average=\"macro\")\n",
    "weighted_roc_auc_ovr = roc_auc_score(y_test, y_prob, multi_class=\"ovr\", average=\"weighted\")\n",
    "print(\"One-vs-One ROC AUC scores:\\n{:.6f} (macro),\\n{:.6f} \"\n",
    "      \"(weighted by prevalence)\"\n",
    "      .format(macro_roc_auc_ovo, weighted_roc_auc_ovo))\n",
    "print(\"One-vs-Rest ROC AUC scores:\\n{:.6f} (macro),\\n{:.6f} \"\n",
    "      \"(weighted by prevalence)\"\n",
    "      .format(macro_roc_auc_ovr, weighted_roc_auc_ovr))\n",
    "\n",
    "import numpy as np\n",
    "import matplotlib.pyplot as plt\n",
    "\n",
    "# data to plot\n",
    "n_groups = 2\n",
    "macro = (macro_roc_auc_ovo, macro_roc_auc_ovr )\n",
    "weighted = (weighted_roc_auc_ovo, weighted_roc_auc_ovr)\n",
    "\n",
    "# create plot\n",
    "fig, ax = plt.subplots()\n",
    "index = np.arange(n_groups)\n",
    "bar_width = 0.35\n",
    "opacity = 0.8\n",
    "\n",
    "rects1 = plt.bar(index, macro, bar_width,\n",
    "alpha=opacity,\n",
    "color='b',\n",
    "label='macro')\n",
    "\n",
    "rects2 = plt.bar(index + bar_width, weighted, bar_width,\n",
    "alpha=opacity,\n",
    "color='r',\n",
    "label='weighted')\n",
    "\n",
    "plt.xlabel('Method')\n",
    "plt.ylabel('Scores')\n",
    "plt.title('ROC Scores by multi-class method')\n",
    "plt.xticks(index + 0.17 , ( 'One-vs-one', 'One-vs-rest'))\n",
    "plt.legend(loc= 'lower right')\n",
    "\n",
    "plt.tight_layout()\n",
    "plt.show()"
   ]
  },
  {
   "cell_type": "code",
   "execution_count": 54,
   "metadata": {},
   "outputs": [
    {
     "name": "stdout",
     "output_type": "stream",
     "text": [
      "One-vs-One ROC AUC scores:\n",
      "0.782121 (macro),\n",
      "0.783220 (weighted by prevalence)\n",
      "One-vs-Rest ROC AUC scores:\n",
      "0.819854 (macro),\n",
      "0.752236 (weighted by prevalence)\n"
     ]
    },
    {
     "data": {
      "image/png": "[encoded data removed]",
      "text/plain": [
       "<Figure size 432x288 with 1 Axes>"
      ]
     },
     "metadata": {
      "needs_background": "light"
     },
     "output_type": "display_data"
    }
   ],
   "source": [
    "from sklearn.metrics import roc_auc_score\n",
    "y_prob = rbf.predict_proba(X_test)\n",
    "macro_roc_auc_ovo = roc_auc_score(y_test, y_prob, multi_class=\"ovo\", average=\"macro\")\n",
    "weighted_roc_auc_ovo = roc_auc_score(y_test, y_prob, multi_class=\"ovo\", average=\"weighted\")\n",
    "macro_roc_auc_ovr = roc_auc_score(y_test, y_prob, multi_class=\"ovr\", average=\"macro\")\n",
    "weighted_roc_auc_ovr = roc_auc_score(y_test, y_prob, multi_class=\"ovr\", average=\"weighted\")\n",
    "print(\"One-vs-One ROC AUC scores:\\n{:.6f} (macro),\\n{:.6f} \"\n",
    "      \"(weighted by prevalence)\"\n",
    "      .format(macro_roc_auc_ovo, weighted_roc_auc_ovo))\n",
    "print(\"One-vs-Rest ROC AUC scores:\\n{:.6f} (macro),\\n{:.6f} \"\n",
    "      \"(weighted by prevalence)\"\n",
    "      .format(macro_roc_auc_ovr, weighted_roc_auc_ovr))\n",
    "\n",
    "import numpy as np\n",
    "import matplotlib.pyplot as plt\n",
    "\n",
    "# data to plot\n",
    "n_groups = 2\n",
    "macro = (macro_roc_auc_ovo, macro_roc_auc_ovr )\n",
    "weighted = (weighted_roc_auc_ovo, weighted_roc_auc_ovr)\n",
    "\n",
    "# create plot\n",
    "fig, ax = plt.subplots()\n",
    "index = np.arange(n_groups)\n",
    "bar_width = 0.35\n",
    "opacity = 0.8\n",
    "\n",
    "rects1 = plt.bar(index, macro, bar_width,\n",
    "alpha=opacity,\n",
    "color='b',\n",
    "label='macro')\n",
    "\n",
    "rects2 = plt.bar(index + bar_width, weighted, bar_width,\n",
    "alpha=opacity,\n",
    "color='r',\n",
    "label='weighted')\n",
    "\n",
    "plt.xlabel('Method')\n",
    "plt.ylabel('Scores')\n",
    "plt.title('ROC Scores by multi-class method')\n",
    "plt.xticks(index + 0.17 , ( 'One-vs-one', 'One-vs-rest'))\n",
    "plt.legend(loc= 'lower right')\n",
    "\n",
    "plt.tight_layout()\n",
    "plt.show()"
   ]
  },
  {
   "cell_type": "code",
   "execution_count": 55,
   "metadata": {},
   "outputs": [
    {
     "name": "stdout",
     "output_type": "stream",
     "text": [
      "One-vs-One ROC AUC scores:\n",
      "0.747498 (macro),\n",
      "0.760496 (weighted by prevalence)\n",
      "One-vs-Rest ROC AUC scores:\n",
      "0.795317 (macro),\n",
      "0.739389 (weighted by prevalence)\n"
     ]
    },
    {
     "data": {
      "image/png": "[encoded data removed]",
      "text/plain": [
       "<Figure size 432x288 with 1 Axes>"
      ]
     },
     "metadata": {
      "needs_background": "light"
     },
     "output_type": "display_data"
    }
   ],
   "source": [
    "from sklearn.metrics import roc_auc_score\n",
    "y_prob = poly.predict_proba(X_test)\n",
    "macro_roc_auc_ovo = roc_auc_score(y_test, y_prob, multi_class=\"ovo\", average=\"macro\")\n",
    "weighted_roc_auc_ovo = roc_auc_score(y_test, y_prob, multi_class=\"ovo\", average=\"weighted\")\n",
    "macro_roc_auc_ovr = roc_auc_score(y_test, y_prob, multi_class=\"ovr\", average=\"macro\")\n",
    "weighted_roc_auc_ovr = roc_auc_score(y_test, y_prob, multi_class=\"ovr\", average=\"weighted\")\n",
    "print(\"One-vs-One ROC AUC scores:\\n{:.6f} (macro),\\n{:.6f} \"\n",
    "      \"(weighted by prevalence)\"\n",
    "      .format(macro_roc_auc_ovo, weighted_roc_auc_ovo))\n",
    "print(\"One-vs-Rest ROC AUC scores:\\n{:.6f} (macro),\\n{:.6f} \"\n",
    "      \"(weighted by prevalence)\"\n",
    "      .format(macro_roc_auc_ovr, weighted_roc_auc_ovr))\n",
    "\n",
    "import numpy as np\n",
    "import matplotlib.pyplot as plt\n",
    "\n",
    "# data to plot\n",
    "n_groups = 2\n",
    "macro = (macro_roc_auc_ovo, macro_roc_auc_ovr )\n",
    "weighted = (weighted_roc_auc_ovo, weighted_roc_auc_ovr)\n",
    "\n",
    "# create plot\n",
    "fig, ax = plt.subplots()\n",
    "index = np.arange(n_groups)\n",
    "bar_width = 0.35\n",
    "opacity = 0.8\n",
    "\n",
    "rects1 = plt.bar(index, macro, bar_width,\n",
    "alpha=opacity,\n",
    "color='b',\n",
    "label='macro')\n",
    "\n",
    "rects2 = plt.bar(index + bar_width, weighted, bar_width,\n",
    "alpha=opacity,\n",
    "color='r',\n",
    "label='weighted')\n",
    "\n",
    "plt.xlabel('Method')\n",
    "plt.ylabel('Scores')\n",
    "plt.title('ROC Scores by multi-class method')\n",
    "plt.xticks(index + 0.17 , ( 'One-vs-one', 'One-vs-rest'))\n",
    "plt.legend(loc= 'lower right')\n",
    "\n",
    "plt.tight_layout()\n",
    "plt.show()"
   ]
  },
  {
   "cell_type": "code",
   "execution_count": 56,
   "metadata": {},
   "outputs": [
    {
     "name": "stdout",
     "output_type": "stream",
     "text": [
      "One-vs-One ROC AUC scores:\n",
      "0.654844 (macro),\n",
      "0.649798 (weighted by prevalence)\n",
      "One-vs-Rest ROC AUC scores:\n",
      "0.691631 (macro),\n",
      "0.603083 (weighted by prevalence)\n"
     ]
    },
    {
     "data": {
      "image/png": "[encoded data removed]",
      "text/plain": [
       "<Figure size 432x288 with 1 Axes>"
      ]
     },
     "metadata": {
      "needs_background": "light"
     },
     "output_type": "display_data"
    }
   ],
   "source": [
    "from sklearn.metrics import roc_auc_score\n",
    "y_prob = sig.predict_proba(X_test)\n",
    "macro_roc_auc_ovo = roc_auc_score(y_test, y_prob, multi_class=\"ovo\", average=\"macro\")\n",
    "weighted_roc_auc_ovo = roc_auc_score(y_test, y_prob, multi_class=\"ovo\", average=\"weighted\")\n",
    "macro_roc_auc_ovr = roc_auc_score(y_test, y_prob, multi_class=\"ovr\", average=\"macro\")\n",
    "weighted_roc_auc_ovr = roc_auc_score(y_test, y_prob, multi_class=\"ovr\", average=\"weighted\")\n",
    "print(\"One-vs-One ROC AUC scores:\\n{:.6f} (macro),\\n{:.6f} \"\n",
    "      \"(weighted by prevalence)\"\n",
    "      .format(macro_roc_auc_ovo, weighted_roc_auc_ovo))\n",
    "print(\"One-vs-Rest ROC AUC scores:\\n{:.6f} (macro),\\n{:.6f} \"\n",
    "      \"(weighted by prevalence)\"\n",
    "      .format(macro_roc_auc_ovr, weighted_roc_auc_ovr))\n",
    "\n",
    "import numpy as np\n",
    "import matplotlib.pyplot as plt\n",
    "\n",
    "# data to plot\n",
    "n_groups = 2\n",
    "macro = (macro_roc_auc_ovo, macro_roc_auc_ovr )\n",
    "weighted = (weighted_roc_auc_ovo, weighted_roc_auc_ovr)\n",
    "\n",
    "# create plot\n",
    "fig, ax = plt.subplots()\n",
    "index = np.arange(n_groups)\n",
    "bar_width = 0.35\n",
    "opacity = 0.8\n",
    "\n",
    "rects1 = plt.bar(index, macro, bar_width,\n",
    "alpha=opacity,\n",
    "color='b',\n",
    "label='macro')\n",
    "\n",
    "rects2 = plt.bar(index + bar_width, weighted, bar_width,\n",
    "alpha=opacity,\n",
    "color='r',\n",
    "label='weighted')\n",
    "\n",
    "plt.xlabel('Method')\n",
    "plt.ylabel('Scores')\n",
    "plt.title('ROC Scores by multi-class method')\n",
    "plt.xticks(index + 0.17 , ( 'One-vs-one', 'One-vs-rest'))\n",
    "plt.legend(loc= 'lower right')\n",
    "\n",
    "plt.tight_layout()\n",
    "plt.show()"
   ]
  }
 ],
 "metadata": {
  "kernelspec": {
   "display_name": "Python 3",
   "language": "python",
   "name": "python3"
  },
  "language_info": {
   "codemirror_mode": {
    "name": "ipython",
    "version": 3
   },
   "file_extension": ".py",
   "mimetype": "text/x-python",
   "name": "python",
   "nbconvert_exporter": "python",
   "pygments_lexer": "ipython3",
   "version": "3.8.3"
  }
 },
 "nbformat": 4,
 "nbformat_minor": 4
}
