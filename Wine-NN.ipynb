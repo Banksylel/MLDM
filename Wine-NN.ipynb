{
 "cells": [
  {
   "cell_type": "markdown",
   "metadata": {},
   "source": [
    "# Wine Quality Classification With Artificial Neural Networks"
   ]
  },
  {
   "cell_type": "markdown",
   "metadata": {},
   "source": [
    "## Introduction\n",
    "In this notebook, we use neural networks in an attempt to classify the quality of red and white wines based on their physicochemical features and measure results of our classifiers against a quality rating assigned to those wines by human experts. "
   ]
  },
  {
   "cell_type": "markdown",
   "metadata": {},
   "source": [
    "#### Import required libraries"
   ]
  },
  {
   "cell_type": "code",
   "execution_count": 1,
   "metadata": {},
   "outputs": [],
   "source": [
    "import pandas as pd\n",
    "import numpy as np\n",
    "import seaborn as sns\n",
    "import matplotlib.pyplot as plt\n",
    "from sklearn.preprocessing import OneHotEncoder, StandardScaler, MinMaxScaler\n",
    "from sklearn.compose import ColumnTransformer \n",
    "from sklearn.preprocessing import LabelBinarizer\n",
    "from sklearn.neural_network import MLPClassifier, MLPRegressor\n",
    "from sklearn.metrics import classification_report, make_scorer, accuracy_score, precision_score, recall_score, f1_score, confusion_matrix\n",
    "from sklearn.model_selection import StratifiedKFold, KFold, cross_val_score, cross_validate, train_test_split, GridSearchCV\n"
   ]
  },
  {
   "cell_type": "code",
   "execution_count": null,
   "metadata": {},
   "outputs": [],
   "source": []
  },
  {
   "cell_type": "code",
   "execution_count": 2,
   "metadata": {},
   "outputs": [],
   "source": [
    "# Ignore warnings\n",
    "import warnings\n",
    "warnings.filterwarnings(\"ignore\")"
   ]
  },
  {
   "cell_type": "markdown",
   "metadata": {},
   "source": [
    "The latest Pandas version is required "
   ]
  },
  {
   "cell_type": "code",
   "execution_count": 3,
   "metadata": {},
   "outputs": [],
   "source": [
    "# Requires Pandas 1.2.4\n",
    "#!pip install --upgrade pandas==1.2.4 --user\n",
    "#pd.__version__"
   ]
  },
  {
   "cell_type": "markdown",
   "metadata": {},
   "source": [
    "#### Define functions used later"
   ]
  },
  {
   "cell_type": "code",
   "execution_count": 4,
   "metadata": {},
   "outputs": [],
   "source": [
    "def StandardiseDS(data, omit=[]):\n",
    "    # Fits numerical data to N(0,1)\n",
    "    # Note: Remove all non-numerical columns before you call this function.    \n",
    "    # Inputs: \n",
    "    #    data:   Pandas dataframe containing dataset \n",
    "    #    omit: Fields to omit\n",
    "    \n",
    "    # Returns: Updated dataframe\n",
    "    if (len(omit)>0):\n",
    "        temp = data[omit]\n",
    "        data = data.drop(columns=omit, axis=1)\n",
    "    column = list(data.columns)\n",
    "    strdDS = StandardScaler().fit_transform(data)\n",
    "    strdDF = pd.DataFrame(strdDS, columns=column)\n",
    "    if (len(omit)>0):\n",
    "        dataF = pd.concat([strdDF, temp], axis=1)\n",
    "        return(dataF)\n",
    "    else:\n",
    "        return(strdDF)\n",
    "\n",
    "# A different version of the above\n",
    "def standardise(data, fields):\n",
    "    # Fits numerical data to N(0,1)\n",
    "    \n",
    "    # Inputs: \n",
    "    #    data:   Pandas dataframe containing dataset \n",
    "    #    fields: Fields to scale\n",
    "    \n",
    "    # Returns: Updated dataset\n",
    "    \n",
    "    standardised = pd.DataFrame(StandardScaler().fit_transform(data[fields]))\n",
    "    standardised.columns = fields\n",
    "    data = data.drop(columns=fields, axis=1)\n",
    "    data = pd.concat([standardised, data], axis=1)\n",
    "    data = data.reset_index(drop=True)\n",
    "    return data\n",
    "\n",
    "    \n",
    "def one_hot_encode(data, fields):\n",
    "    # One-hot encodes categorical data with n unique values\n",
    "    # into n new fields\n",
    "    \n",
    "    # Inputs: \n",
    "    #    data:   Pandas dataframe containing dataset \n",
    "    #    fields: Fields to encode\n",
    "    \n",
    "    # Returns: Updated dataset\n",
    "    \n",
    "    onehot = pd.get_dummies(data[fields])\n",
    "    data = pd.concat([onehot, data], axis=1)\n",
    "    data = data.drop(columns=fields, axis=1)\n",
    "    data = data.reset_index(drop=True)\n",
    "    return data\n",
    "\n",
    "def min_max_scaler(data, fields):\n",
    "    # Scales numerical data into a range (0,1)\n",
    "    \n",
    "    # Inputs: \n",
    "    #    data:   Pandas dataframe containing dataset \n",
    "    #    fields: Fields to scale\n",
    "    \n",
    "    # Returns: Updated dataset\n",
    "    \n",
    "    scaled = pd.DataFrame(MinMaxScaler().fit_transform(data[fields]))\n",
    "    scaled.columns = fields\n",
    "    data = data.drop(columns=fields, axis=1)\n",
    "    data = pd.concat([scaled, data], axis=1)\n",
    "    data = data.reset_index(drop=True)\n",
    "    return data    \n",
    "\n",
    "def update_results(description, metrics, results_table=pd.DataFrame()):\n",
    "    \n",
    "    # Updates results in Pandas dataframe\n",
    "    \n",
    "    # Inputs: \n",
    "    #    description:   Pandas dataframe containing dataset \n",
    "    #    metrics:       Field to be binned\n",
    "    #    results_table: Required number of bins\n",
    "    \n",
    "    # Returns: Updated results table\n",
    "    \n",
    "    u = pd.DataFrame(metrics).mean(axis=0)\n",
    "    v = pd.Series({'Description' : description})\n",
    "    t = pd.DataFrame(v.append(u)).transpose()\n",
    "    return results_table.append(t)\n",
    "\n",
    "\n",
    "def distance_binning(dataset, field, no_of_bins):\n",
    "    \n",
    "    # Buckets numerical field data into equally sized bucket thresholds\n",
    "    # Returns updated dataframe\n",
    "    \n",
    "    # Inputs: \n",
    "    #    dataset:     Pandas dataframe containing dataset \n",
    "    #    field:       Field to be binned\n",
    "    #    no_of_bins:  Required number of bins\n",
    "   \n",
    "    bins = np.linspace(dataset[field].min(),dataset[field].max(),no_of_bins+1)\n",
    "    labels = [i for i in range(1,no_of_bins+1)]\n",
    "    dataset_new = dataset.copy()\n",
    "    dataset_new[field] = pd.cut(dataset_new[field], bins=bins, labels=labels, include_lowest=True)\n",
    "    return dataset_new\n",
    "\n",
    "def frequency_binning(dataset, field, no_of_bins):\n",
    "    \n",
    "    # Buckets numerical field data into buckets containing roughly equal number of records\n",
    "    # Returns updated dataframe\n",
    "    \n",
    "    # Inputs: \n",
    "    #    dataset:     Pandas dataframe containing dataset \n",
    "    #    field:       Field to be binned\n",
    "    #    no_of_bins:  Required number of bins\n",
    "    \n",
    "   \n",
    "    labels = [i for i in range(1,no_of_bins+1)]\n",
    "    dataset_new = dataset.copy()\n",
    "    dataset_new[field] = pd.qcut(dataset_new[field], q=no_of_bins, labels=labels)\n",
    "    return dataset_new\n"
   ]
  },
  {
   "cell_type": "markdown",
   "metadata": {},
   "source": [
    "#### Define globals here"
   ]
  },
  {
   "cell_type": "code",
   "execution_count": 5,
   "metadata": {},
   "outputs": [],
   "source": [
    "# Globals\n",
    "# Scoring for kfolds cross validation\n",
    "scoring = {'accuracy' : make_scorer(accuracy_score), \n",
    "           'precision' : make_scorer(precision_score, average = 'weighted'),\n",
    "           'recall' : make_scorer(recall_score, average = 'weighted'), \n",
    "           'f1_score' : make_scorer(f1_score, average = 'weighted')} \n",
    "\n",
    "# Set variables to hold results for tests to follow\n",
    "results = []\n",
    "names = []"
   ]
  },
  {
   "cell_type": "markdown",
   "metadata": {},
   "source": [
    "#### Load dataset"
   ]
  },
  {
   "cell_type": "code",
   "execution_count": 6,
   "metadata": {},
   "outputs": [],
   "source": [
    "wine_data = pd.read_csv('winequalityN.csv')"
   ]
  },
  {
   "cell_type": "markdown",
   "metadata": {},
   "source": [
    "#### Drop rows with missing data\n",
    "There are around 35 rows in this dataset where one or more fields is null, versus a dataset of size ~6500. There is no obvious commonality between rows with null values and because the number of rows involved is so small, the group decided to simply remove these from the dataset, rather than fill in with average values."
   ]
  },
  {
   "cell_type": "code",
   "execution_count": 7,
   "metadata": {},
   "outputs": [
    {
     "data": {
      "text/html": [
       "<div>\n",
       "<style scoped>\n",
       "    .dataframe tbody tr th:only-of-type {\n",
       "        vertical-align: middle;\n",
       "    }\n",
       "\n",
       "    .dataframe tbody tr th {\n",
       "        vertical-align: top;\n",
       "    }\n",
       "\n",
       "    .dataframe thead th {\n",
       "        text-align: right;\n",
       "    }\n",
       "</style>\n",
       "<table border=\"1\" class=\"dataframe\">\n",
       "  <thead>\n",
       "    <tr style=\"text-align: right;\">\n",
       "      <th></th>\n",
       "      <th>type</th>\n",
       "      <th>fixed acidity</th>\n",
       "      <th>volatile acidity</th>\n",
       "      <th>citric acid</th>\n",
       "      <th>residual sugar</th>\n",
       "      <th>chlorides</th>\n",
       "      <th>free sulfur dioxide</th>\n",
       "      <th>total sulfur dioxide</th>\n",
       "      <th>density</th>\n",
       "      <th>pH</th>\n",
       "      <th>sulphates</th>\n",
       "      <th>alcohol</th>\n",
       "      <th>quality</th>\n",
       "    </tr>\n",
       "  </thead>\n",
       "  <tbody>\n",
       "    <tr>\n",
       "      <th>0</th>\n",
       "      <td>white</td>\n",
       "      <td>7.0</td>\n",
       "      <td>0.27</td>\n",
       "      <td>0.36</td>\n",
       "      <td>20.7</td>\n",
       "      <td>0.045</td>\n",
       "      <td>45.0</td>\n",
       "      <td>170.0</td>\n",
       "      <td>1.0010</td>\n",
       "      <td>3.00</td>\n",
       "      <td>0.45</td>\n",
       "      <td>8.8</td>\n",
       "      <td>6</td>\n",
       "    </tr>\n",
       "    <tr>\n",
       "      <th>1</th>\n",
       "      <td>white</td>\n",
       "      <td>6.3</td>\n",
       "      <td>0.30</td>\n",
       "      <td>0.34</td>\n",
       "      <td>1.6</td>\n",
       "      <td>0.049</td>\n",
       "      <td>14.0</td>\n",
       "      <td>132.0</td>\n",
       "      <td>0.9940</td>\n",
       "      <td>3.30</td>\n",
       "      <td>0.49</td>\n",
       "      <td>9.5</td>\n",
       "      <td>6</td>\n",
       "    </tr>\n",
       "    <tr>\n",
       "      <th>2</th>\n",
       "      <td>white</td>\n",
       "      <td>8.1</td>\n",
       "      <td>0.28</td>\n",
       "      <td>0.40</td>\n",
       "      <td>6.9</td>\n",
       "      <td>0.050</td>\n",
       "      <td>30.0</td>\n",
       "      <td>97.0</td>\n",
       "      <td>0.9951</td>\n",
       "      <td>3.26</td>\n",
       "      <td>0.44</td>\n",
       "      <td>10.1</td>\n",
       "      <td>6</td>\n",
       "    </tr>\n",
       "    <tr>\n",
       "      <th>3</th>\n",
       "      <td>white</td>\n",
       "      <td>7.2</td>\n",
       "      <td>0.23</td>\n",
       "      <td>0.32</td>\n",
       "      <td>8.5</td>\n",
       "      <td>0.058</td>\n",
       "      <td>47.0</td>\n",
       "      <td>186.0</td>\n",
       "      <td>0.9956</td>\n",
       "      <td>3.19</td>\n",
       "      <td>0.40</td>\n",
       "      <td>9.9</td>\n",
       "      <td>6</td>\n",
       "    </tr>\n",
       "    <tr>\n",
       "      <th>4</th>\n",
       "      <td>white</td>\n",
       "      <td>7.2</td>\n",
       "      <td>0.23</td>\n",
       "      <td>0.32</td>\n",
       "      <td>8.5</td>\n",
       "      <td>0.058</td>\n",
       "      <td>47.0</td>\n",
       "      <td>186.0</td>\n",
       "      <td>0.9956</td>\n",
       "      <td>3.19</td>\n",
       "      <td>0.40</td>\n",
       "      <td>9.9</td>\n",
       "      <td>6</td>\n",
       "    </tr>\n",
       "  </tbody>\n",
       "</table>\n",
       "</div>"
      ],
      "text/plain": [
       "    type  fixed acidity  volatile acidity  citric acid  residual sugar  \\\n",
       "0  white            7.0              0.27         0.36            20.7   \n",
       "1  white            6.3              0.30         0.34             1.6   \n",
       "2  white            8.1              0.28         0.40             6.9   \n",
       "3  white            7.2              0.23         0.32             8.5   \n",
       "4  white            7.2              0.23         0.32             8.5   \n",
       "\n",
       "   chlorides  free sulfur dioxide  total sulfur dioxide  density    pH  \\\n",
       "0      0.045                 45.0                 170.0   1.0010  3.00   \n",
       "1      0.049                 14.0                 132.0   0.9940  3.30   \n",
       "2      0.050                 30.0                  97.0   0.9951  3.26   \n",
       "3      0.058                 47.0                 186.0   0.9956  3.19   \n",
       "4      0.058                 47.0                 186.0   0.9956  3.19   \n",
       "\n",
       "   sulphates  alcohol  quality  \n",
       "0       0.45      8.8        6  \n",
       "1       0.49      9.5        6  \n",
       "2       0.44     10.1        6  \n",
       "3       0.40      9.9        6  \n",
       "4       0.40      9.9        6  "
      ]
     },
     "execution_count": 7,
     "metadata": {},
     "output_type": "execute_result"
    }
   ],
   "source": [
    "wine_data = wine_data.dropna()\n",
    "# Reset index so that columns can be merged easily with others later.\n",
    "# This operation does not change the ordering of rows.\n",
    "wine_data = wine_data.reset_index(drop=True)\n",
    "\n",
    "# Check data\n",
    "wine_data.head()"
   ]
  },
  {
   "cell_type": "markdown",
   "metadata": {},
   "source": [
    "##### Comment \n",
    "The first few rows all appear to be white wines, which may suggest that the data have been ordered in some way. Remember to shuffle later."
   ]
  },
  {
   "cell_type": "markdown",
   "metadata": {},
   "source": [
    "#### Define dataset columns"
   ]
  },
  {
   "cell_type": "code",
   "execution_count": 9,
   "metadata": {},
   "outputs": [],
   "source": [
    "target_col = ['quality']\n",
    "continuous_cols = [i for i in wine_data.columns if i not in ['type', 'quality']]\n",
    "categorical_col = ['type']"
   ]
  },
  {
   "cell_type": "markdown",
   "metadata": {},
   "source": [
    "#### Check feature correlation\n",
    "The following heatmap shows the correlation between pairs of continuous numerical fields in the dataset. If two features are highly correlated, negatively or positively, the second may add unnecessary complexity to models without conveying much additional information and it may be beneficial to remove it."
   ]
  },
  {
   "cell_type": "code",
   "execution_count": 67,
   "metadata": {},
   "outputs": [
    {
     "data": {
      "image/png": "[encoded data removed]",
      "text/plain": [
       "<Figure size 576x432 with 2 Axes>"
      ]
     },
     "metadata": {
      "needs_background": "light"
     },
     "output_type": "display_data"
    }
   ],
   "source": [
    "fig, ax = plt.subplots(figsize=(8,6)) \n",
    "sns.heatmap(wine_data[continuous_cols].corr(), annot=True, square=True, cmap='coolwarm')\n",
    "plt.title('Correlation of continuous data fields', size=16)\n",
    "plt.show()"
   ]
  },
  {
   "cell_type": "markdown",
   "metadata": {},
   "source": [
    "##### Comment \n",
    "The most positively correlated field pairs are 'total sulfur dioxide' with 'free sulfur dioxide' and the most negatively correlated are 'alcohol' and 'density'. Neither pair however are sufficiently correlated to provide a compelling case to remove them, so we retain these fields for the experiments to follow. "
   ]
  },
  {
   "cell_type": "markdown",
   "metadata": {},
   "source": [
    "#### Initial data setup\n",
    "Split dataset into input and target fields.\n",
    "\n",
    "Set aside an 'unseen' portion of the dataset for final evaluation.\n",
    "\n",
    "One-hot encode the single categorical input field, 'type'\n"
   ]
  },
  {
   "cell_type": "code",
   "execution_count": 10,
   "metadata": {},
   "outputs": [],
   "source": [
    "y = wine_data[target_col]\n",
    "X = wine_data[categorical_col + continuous_cols]\n",
    "\n",
    "#Create unseen holdout set for final evaluation\n",
    "X, X_unseen, y, y_unseen = train_test_split(X, y, test_size=0.1, random_state=19, stratify=y, shuffle=True)\n",
    "\n",
    "# One-hot encode categorical input\n",
    "X = one_hot_encode(X,['type'])\n",
    "\n",
    "# Reset y index for later merging\n",
    "y = y.reset_index(drop=True)"
   ]
  },
  {
   "cell_type": "markdown",
   "metadata": {},
   "source": [
    "#### Benchmark Model\n",
    "Here we train a benchmark single-layer perceptron model, the results from which will be used to gauge the performance of later model variations. \n",
    "The only pre-processing is the necessary one-hot encoding of the single categorical input field, 'type'. Input data are neither normalised nor standardised and the model adopts the default parameter settings from the sklearn library."
   ]
  },
  {
   "cell_type": "code",
   "execution_count": 69,
   "metadata": {
    "scrolled": true
   },
   "outputs": [],
   "source": [
    "# Benchmark model\n",
    "\n",
    "name = 'Benchmark'\n",
    "model = MLPClassifier(random_state=14)\n",
    "kfold = StratifiedKFold(n_splits=5, random_state=15, shuffle=True)\n",
    "metrics = cross_validate(model, X, y.values.ravel(), cv=kfold, scoring = scoring)\n",
    "\n",
    "results.append(metrics)\n",
    "names.append(name)\n",
    "table = update_results(name, metrics)"
   ]
  },
  {
   "cell_type": "code",
   "execution_count": 70,
   "metadata": {},
   "outputs": [
    {
     "data": {
      "text/html": [
       "<div>\n",
       "<style scoped>\n",
       "    .dataframe tbody tr th:only-of-type {\n",
       "        vertical-align: middle;\n",
       "    }\n",
       "\n",
       "    .dataframe tbody tr th {\n",
       "        vertical-align: top;\n",
       "    }\n",
       "\n",
       "    .dataframe thead th {\n",
       "        text-align: right;\n",
       "    }\n",
       "</style>\n",
       "<table border=\"1\" class=\"dataframe\">\n",
       "  <thead>\n",
       "    <tr style=\"text-align: right;\">\n",
       "      <th></th>\n",
       "      <th>Description</th>\n",
       "      <th>fit_time</th>\n",
       "      <th>score_time</th>\n",
       "      <th>test_accuracy</th>\n",
       "      <th>test_precision</th>\n",
       "      <th>test_recall</th>\n",
       "      <th>test_f1_score</th>\n",
       "    </tr>\n",
       "  </thead>\n",
       "  <tbody>\n",
       "    <tr>\n",
       "      <th>0</th>\n",
       "      <td>Benchmark</td>\n",
       "      <td>2.960444</td>\n",
       "      <td>0.007605</td>\n",
       "      <td>0.523387</td>\n",
       "      <td>0.506763</td>\n",
       "      <td>0.523387</td>\n",
       "      <td>0.483819</td>\n",
       "    </tr>\n",
       "  </tbody>\n",
       "</table>\n",
       "</div>"
      ],
      "text/plain": [
       "  Description  fit_time score_time test_accuracy test_precision test_recall  \\\n",
       "0   Benchmark  2.960444   0.007605      0.523387       0.506763    0.523387   \n",
       "\n",
       "  test_f1_score  \n",
       "0      0.483819  "
      ]
     },
     "execution_count": 70,
     "metadata": {},
     "output_type": "execute_result"
    }
   ],
   "source": [
    "table"
   ]
  },
  {
   "cell_type": "markdown",
   "metadata": {},
   "source": [
    "#### Standardise input data\n",
    "Here, continuous numerical features are fit to a normal distribution with mean 0 and standard deviation 1. Analysis during data exploration for this project revealed that the distributions of wine input features are roughly Gaussian-shaped, so this technique is appropriate so that features of large scale/magnitude do not have a disproportionate effect on distance calculations made during model training. The dataset does have some rows with outlying feature values and the impact of these is at least partially reduced by standardisation. "
   ]
  },
  {
   "cell_type": "code",
   "execution_count": 71,
   "metadata": {},
   "outputs": [],
   "source": [
    "# Standardise data\n",
    "X_exp = standardise(X, continuous_cols)\n",
    "\n",
    "name = 'Standardised data'\n",
    "model = MLPClassifier(random_state=14)\n",
    "kfold = StratifiedKFold(n_splits=5, random_state=15, shuffle=True)\n",
    "metrics = cross_validate(model, X_exp, y.values.ravel(), cv=kfold, scoring = scoring)\n",
    "\n",
    "results.append(metrics)\n",
    "names.append(name)\n",
    "table = update_results(name, metrics, table)"
   ]
  },
  {
   "cell_type": "markdown",
   "metadata": {},
   "source": [
    "##### Comment\n",
    "Standardisation has improved f1_score and accuracy compared with the benchmark model. It is likely that larger-magnitude features such as those related to sulfur dioxide content were having a disproportionate effect on the gradient descent optimiser used in the benchmark model."
   ]
  },
  {
   "cell_type": "code",
   "execution_count": 72,
   "metadata": {},
   "outputs": [
    {
     "data": {
      "text/html": [
       "<div>\n",
       "<style scoped>\n",
       "    .dataframe tbody tr th:only-of-type {\n",
       "        vertical-align: middle;\n",
       "    }\n",
       "\n",
       "    .dataframe tbody tr th {\n",
       "        vertical-align: top;\n",
       "    }\n",
       "\n",
       "    .dataframe thead th {\n",
       "        text-align: right;\n",
       "    }\n",
       "</style>\n",
       "<table border=\"1\" class=\"dataframe\">\n",
       "  <thead>\n",
       "    <tr style=\"text-align: right;\">\n",
       "      <th></th>\n",
       "      <th>Description</th>\n",
       "      <th>fit_time</th>\n",
       "      <th>score_time</th>\n",
       "      <th>test_accuracy</th>\n",
       "      <th>test_precision</th>\n",
       "      <th>test_recall</th>\n",
       "      <th>test_f1_score</th>\n",
       "    </tr>\n",
       "  </thead>\n",
       "  <tbody>\n",
       "    <tr>\n",
       "      <th>0</th>\n",
       "      <td>Benchmark</td>\n",
       "      <td>2.960444</td>\n",
       "      <td>0.007605</td>\n",
       "      <td>0.523387</td>\n",
       "      <td>0.506763</td>\n",
       "      <td>0.523387</td>\n",
       "      <td>0.483819</td>\n",
       "    </tr>\n",
       "    <tr>\n",
       "      <th>0</th>\n",
       "      <td>Standardised data</td>\n",
       "      <td>4.971457</td>\n",
       "      <td>0.007531</td>\n",
       "      <td>0.568605</td>\n",
       "      <td>0.557039</td>\n",
       "      <td>0.568605</td>\n",
       "      <td>0.547289</td>\n",
       "    </tr>\n",
       "  </tbody>\n",
       "</table>\n",
       "</div>"
      ],
      "text/plain": [
       "         Description  fit_time score_time test_accuracy test_precision  \\\n",
       "0          Benchmark  2.960444   0.007605      0.523387       0.506763   \n",
       "0  Standardised data  4.971457   0.007531      0.568605       0.557039   \n",
       "\n",
       "  test_recall test_f1_score  \n",
       "0    0.523387      0.483819  \n",
       "0    0.568605      0.547289  "
      ]
     },
     "execution_count": 72,
     "metadata": {},
     "output_type": "execute_result"
    }
   ],
   "source": [
    "table"
   ]
  },
  {
   "cell_type": "markdown",
   "metadata": {},
   "source": [
    "#### Normalise input data\n",
    "Here, continuous numerical features are fit to a range (0,1). This does not affect the shape of feature distribution but does ensure that features of large scale/magnitude do not have a disproportionate effect on distance calculations made during model training. "
   ]
  },
  {
   "cell_type": "code",
   "execution_count": 73,
   "metadata": {},
   "outputs": [],
   "source": [
    "# Normalise data\n",
    "X_exp = min_max_scaler(X, continuous_cols)\n",
    "\n",
    "name = 'Normalised data'\n",
    "model = MLPClassifier(random_state=14)\n",
    "kfold = StratifiedKFold(n_splits=5, random_state=15, shuffle=True)\n",
    "metrics = cross_validate(model, X_exp, y.values.ravel(), cv=kfold, scoring = scoring)\n",
    "\n",
    "results.append(metrics)\n",
    "names.append(name)\n",
    "table = update_results(name, metrics, table)"
   ]
  },
  {
   "cell_type": "code",
   "execution_count": 74,
   "metadata": {},
   "outputs": [
    {
     "data": {
      "text/html": [
       "<div>\n",
       "<style scoped>\n",
       "    .dataframe tbody tr th:only-of-type {\n",
       "        vertical-align: middle;\n",
       "    }\n",
       "\n",
       "    .dataframe tbody tr th {\n",
       "        vertical-align: top;\n",
       "    }\n",
       "\n",
       "    .dataframe thead th {\n",
       "        text-align: right;\n",
       "    }\n",
       "</style>\n",
       "<table border=\"1\" class=\"dataframe\">\n",
       "  <thead>\n",
       "    <tr style=\"text-align: right;\">\n",
       "      <th></th>\n",
       "      <th>Description</th>\n",
       "      <th>fit_time</th>\n",
       "      <th>score_time</th>\n",
       "      <th>test_accuracy</th>\n",
       "      <th>test_precision</th>\n",
       "      <th>test_recall</th>\n",
       "      <th>test_f1_score</th>\n",
       "    </tr>\n",
       "  </thead>\n",
       "  <tbody>\n",
       "    <tr>\n",
       "      <th>0</th>\n",
       "      <td>Benchmark</td>\n",
       "      <td>2.960444</td>\n",
       "      <td>0.007605</td>\n",
       "      <td>0.523387</td>\n",
       "      <td>0.506763</td>\n",
       "      <td>0.523387</td>\n",
       "      <td>0.483819</td>\n",
       "    </tr>\n",
       "    <tr>\n",
       "      <th>0</th>\n",
       "      <td>Standardised data</td>\n",
       "      <td>4.971457</td>\n",
       "      <td>0.007531</td>\n",
       "      <td>0.568605</td>\n",
       "      <td>0.557039</td>\n",
       "      <td>0.568605</td>\n",
       "      <td>0.547289</td>\n",
       "    </tr>\n",
       "    <tr>\n",
       "      <th>0</th>\n",
       "      <td>Normalised data</td>\n",
       "      <td>4.281215</td>\n",
       "      <td>0.006807</td>\n",
       "      <td>0.561556</td>\n",
       "      <td>0.5409</td>\n",
       "      <td>0.561556</td>\n",
       "      <td>0.533151</td>\n",
       "    </tr>\n",
       "  </tbody>\n",
       "</table>\n",
       "</div>"
      ],
      "text/plain": [
       "         Description  fit_time score_time test_accuracy test_precision  \\\n",
       "0          Benchmark  2.960444   0.007605      0.523387       0.506763   \n",
       "0  Standardised data  4.971457   0.007531      0.568605       0.557039   \n",
       "0    Normalised data  4.281215   0.006807      0.561556         0.5409   \n",
       "\n",
       "  test_recall test_f1_score  \n",
       "0    0.523387      0.483819  \n",
       "0    0.568605      0.547289  \n",
       "0    0.561556      0.533151  "
      ]
     },
     "execution_count": 74,
     "metadata": {},
     "output_type": "execute_result"
    }
   ],
   "source": [
    "table"
   ]
  },
  {
   "cell_type": "markdown",
   "metadata": {},
   "source": [
    "##### Comment\n",
    "Normalising has improved model performance according to f1 score and accuracy metrics but to a lesser extent than standardisation in the previous experiment. Normalisation does not resolve outliers for the feature vectors in wine data where we have observed extreme values and will just have the effect of \"squashing\" the distributions into the 0-1 range.\n"
   ]
  },
  {
   "cell_type": "markdown",
   "metadata": {},
   "source": [
    "#### Train separate models for red and white wine\n",
    "Initial data exploration revealed that, not unexpectedly, red and white wines have quite distinct chemical compositions. Plots illustrated that wine of different types could be separated based on one or two features. It is possible therefore that by training separate models on red and white wines, the combined classification performance might improve. We use standardised input data henceforth as this has been shown to improve performance."
   ]
  },
  {
   "cell_type": "code",
   "execution_count": 75,
   "metadata": {},
   "outputs": [],
   "source": [
    "# MLP for red wine\n",
    "X_exp = standardise(X, continuous_cols)\n",
    "X_red = X_exp[X_exp['type_red']==1]\n",
    "y_red = y[X_exp['type_red']==1]\n",
    "\n",
    "name = 'Red wine'\n",
    "model = MLPClassifier(random_state=14)\n",
    "kfold = StratifiedKFold(n_splits=5, random_state=15, shuffle=True)\n",
    "metrics = cross_validate(model, X_red, y_red.values.ravel(), cv=kfold, scoring = scoring)\n",
    "\n",
    "results.append(metrics)\n",
    "names.append(name)\n",
    "table = update_results(name, metrics, table)"
   ]
  },
  {
   "cell_type": "code",
   "execution_count": 76,
   "metadata": {},
   "outputs": [],
   "source": [
    "# MLP for white wine\n",
    "X_exp = standardise(X, continuous_cols)\n",
    "X_white = X_exp[X_exp['type_white']==1]\n",
    "y_white = y[X_exp['type_white']==1]\n",
    "\n",
    "name = 'White wine'\n",
    "model = MLPClassifier(random_state=14)\n",
    "kfold = StratifiedKFold(n_splits=5, random_state=15, shuffle=True)\n",
    "metrics = cross_validate(model, X_white, y_white.values.ravel(), cv=kfold, scoring = scoring)\n",
    "\n",
    "results.append(metrics)\n",
    "names.append(name)\n",
    "table = update_results(name, metrics, table)"
   ]
  },
  {
   "cell_type": "markdown",
   "metadata": {},
   "source": [
    "##### Comment\n",
    "f1 score and accuracy for the red wine classifier are both significantly higher than those achieved in the previous experiment but metrics for white wine are only slightly lower. However, white wines outnumber red whites in the dataset by over 3 to 1 and when f1 and accuracy are adjusted to account for this, the combination of classifiers is shown not to have improved performance."
   ]
  },
  {
   "cell_type": "code",
   "execution_count": 77,
   "metadata": {},
   "outputs": [
    {
     "data": {
      "text/html": [
       "<div>\n",
       "<style scoped>\n",
       "    .dataframe tbody tr th:only-of-type {\n",
       "        vertical-align: middle;\n",
       "    }\n",
       "\n",
       "    .dataframe tbody tr th {\n",
       "        vertical-align: top;\n",
       "    }\n",
       "\n",
       "    .dataframe thead th {\n",
       "        text-align: right;\n",
       "    }\n",
       "</style>\n",
       "<table border=\"1\" class=\"dataframe\">\n",
       "  <thead>\n",
       "    <tr style=\"text-align: right;\">\n",
       "      <th></th>\n",
       "      <th>Description</th>\n",
       "      <th>fit_time</th>\n",
       "      <th>score_time</th>\n",
       "      <th>test_accuracy</th>\n",
       "      <th>test_precision</th>\n",
       "      <th>test_recall</th>\n",
       "      <th>test_f1_score</th>\n",
       "    </tr>\n",
       "  </thead>\n",
       "  <tbody>\n",
       "    <tr>\n",
       "      <th>0</th>\n",
       "      <td>Benchmark</td>\n",
       "      <td>2.960444</td>\n",
       "      <td>0.007605</td>\n",
       "      <td>0.523387</td>\n",
       "      <td>0.506763</td>\n",
       "      <td>0.523387</td>\n",
       "      <td>0.483819</td>\n",
       "    </tr>\n",
       "    <tr>\n",
       "      <th>0</th>\n",
       "      <td>Standardised data</td>\n",
       "      <td>4.971457</td>\n",
       "      <td>0.007531</td>\n",
       "      <td>0.568605</td>\n",
       "      <td>0.557039</td>\n",
       "      <td>0.568605</td>\n",
       "      <td>0.547289</td>\n",
       "    </tr>\n",
       "    <tr>\n",
       "      <th>0</th>\n",
       "      <td>Normalised data</td>\n",
       "      <td>4.281215</td>\n",
       "      <td>0.006807</td>\n",
       "      <td>0.561556</td>\n",
       "      <td>0.5409</td>\n",
       "      <td>0.561556</td>\n",
       "      <td>0.533151</td>\n",
       "    </tr>\n",
       "    <tr>\n",
       "      <th>0</th>\n",
       "      <td>Red wine</td>\n",
       "      <td>1.10032</td>\n",
       "      <td>0.003586</td>\n",
       "      <td>0.618885</td>\n",
       "      <td>0.591776</td>\n",
       "      <td>0.618885</td>\n",
       "      <td>0.60133</td>\n",
       "    </tr>\n",
       "    <tr>\n",
       "      <th>0</th>\n",
       "      <td>White wine</td>\n",
       "      <td>3.369077</td>\n",
       "      <td>0.005807</td>\n",
       "      <td>0.557514</td>\n",
       "      <td>0.538418</td>\n",
       "      <td>0.557514</td>\n",
       "      <td>0.535034</td>\n",
       "    </tr>\n",
       "  </tbody>\n",
       "</table>\n",
       "</div>"
      ],
      "text/plain": [
       "         Description  fit_time score_time test_accuracy test_precision  \\\n",
       "0          Benchmark  2.960444   0.007605      0.523387       0.506763   \n",
       "0  Standardised data  4.971457   0.007531      0.568605       0.557039   \n",
       "0    Normalised data  4.281215   0.006807      0.561556         0.5409   \n",
       "0           Red wine   1.10032   0.003586      0.618885       0.591776   \n",
       "0         White wine  3.369077   0.005807      0.557514       0.538418   \n",
       "\n",
       "  test_recall test_f1_score  \n",
       "0    0.523387      0.483819  \n",
       "0    0.568605      0.547289  \n",
       "0    0.561556      0.533151  \n",
       "0    0.618885       0.60133  \n",
       "0    0.557514      0.535034  "
      ]
     },
     "execution_count": 77,
     "metadata": {},
     "output_type": "execute_result"
    }
   ],
   "source": [
    "table"
   ]
  },
  {
   "cell_type": "code",
   "execution_count": null,
   "metadata": {},
   "outputs": [],
   "source": []
  },
  {
   "cell_type": "code",
   "execution_count": null,
   "metadata": {},
   "outputs": [],
   "source": []
  },
  {
   "cell_type": "markdown",
   "metadata": {},
   "source": [
    "#### Trim outliers\n",
    "Neural network models can create potentially complex functions to fit data. Where outliers exist in feature vectors, during training, models will attempt to fit these extreme data points and the more complex the model, the more it will be able to.\n",
    "Here we trim outliers from our dataset by measuring the Euclidean distance of feature vectors from the mean and removing those furthest away."
   ]
  },
  {
   "cell_type": "code",
   "execution_count": 78,
   "metadata": {},
   "outputs": [],
   "source": [
    "# Trim outliers according to Euclidean distance from mean\n",
    "X_std = standardise(X, continuous_cols)\n",
    "\n",
    "sq = ((X_std[continuous_cols]**2).sum(axis=1))**0.5\n",
    "#sum(sq>5)\n",
    "X_exp = X_std[(sq.rank(pct=True)<0.95)]\n",
    "y_exp = y[(sq.rank(pct=True)<0.95)]\n",
    "\n",
    "name = 'Remove outliers'\n",
    "model = MLPClassifier(random_state=14)\n",
    "kfold = StratifiedKFold(n_splits=5, random_state=15, shuffle=True)\n",
    "metrics = cross_validate(model, X_exp, y_exp.values.ravel(), cv=kfold, scoring = scoring)\n",
    "\n",
    "results.append(metrics)\n",
    "names.append(name)\n",
    "table = update_results(name, metrics, table)\n"
   ]
  },
  {
   "cell_type": "code",
   "execution_count": 79,
   "metadata": {},
   "outputs": [
    {
     "data": {
      "text/html": [
       "<div>\n",
       "<style scoped>\n",
       "    .dataframe tbody tr th:only-of-type {\n",
       "        vertical-align: middle;\n",
       "    }\n",
       "\n",
       "    .dataframe tbody tr th {\n",
       "        vertical-align: top;\n",
       "    }\n",
       "\n",
       "    .dataframe thead th {\n",
       "        text-align: right;\n",
       "    }\n",
       "</style>\n",
       "<table border=\"1\" class=\"dataframe\">\n",
       "  <thead>\n",
       "    <tr style=\"text-align: right;\">\n",
       "      <th></th>\n",
       "      <th>Description</th>\n",
       "      <th>fit_time</th>\n",
       "      <th>score_time</th>\n",
       "      <th>test_accuracy</th>\n",
       "      <th>test_precision</th>\n",
       "      <th>test_recall</th>\n",
       "      <th>test_f1_score</th>\n",
       "    </tr>\n",
       "  </thead>\n",
       "  <tbody>\n",
       "    <tr>\n",
       "      <th>0</th>\n",
       "      <td>Benchmark</td>\n",
       "      <td>2.960444</td>\n",
       "      <td>0.007605</td>\n",
       "      <td>0.523387</td>\n",
       "      <td>0.506763</td>\n",
       "      <td>0.523387</td>\n",
       "      <td>0.483819</td>\n",
       "    </tr>\n",
       "    <tr>\n",
       "      <th>0</th>\n",
       "      <td>Standardised data</td>\n",
       "      <td>4.971457</td>\n",
       "      <td>0.007531</td>\n",
       "      <td>0.568605</td>\n",
       "      <td>0.557039</td>\n",
       "      <td>0.568605</td>\n",
       "      <td>0.547289</td>\n",
       "    </tr>\n",
       "    <tr>\n",
       "      <th>0</th>\n",
       "      <td>Normalised data</td>\n",
       "      <td>4.281215</td>\n",
       "      <td>0.006807</td>\n",
       "      <td>0.561556</td>\n",
       "      <td>0.5409</td>\n",
       "      <td>0.561556</td>\n",
       "      <td>0.533151</td>\n",
       "    </tr>\n",
       "    <tr>\n",
       "      <th>0</th>\n",
       "      <td>Red wine</td>\n",
       "      <td>1.10032</td>\n",
       "      <td>0.003586</td>\n",
       "      <td>0.618885</td>\n",
       "      <td>0.591776</td>\n",
       "      <td>0.618885</td>\n",
       "      <td>0.60133</td>\n",
       "    </tr>\n",
       "    <tr>\n",
       "      <th>0</th>\n",
       "      <td>White wine</td>\n",
       "      <td>3.369077</td>\n",
       "      <td>0.005807</td>\n",
       "      <td>0.557514</td>\n",
       "      <td>0.538418</td>\n",
       "      <td>0.557514</td>\n",
       "      <td>0.535034</td>\n",
       "    </tr>\n",
       "    <tr>\n",
       "      <th>0</th>\n",
       "      <td>Remove outliers</td>\n",
       "      <td>4.294454</td>\n",
       "      <td>0.006198</td>\n",
       "      <td>0.574299</td>\n",
       "      <td>0.560693</td>\n",
       "      <td>0.574299</td>\n",
       "      <td>0.5528</td>\n",
       "    </tr>\n",
       "  </tbody>\n",
       "</table>\n",
       "</div>"
      ],
      "text/plain": [
       "         Description  fit_time score_time test_accuracy test_precision  \\\n",
       "0          Benchmark  2.960444   0.007605      0.523387       0.506763   \n",
       "0  Standardised data  4.971457   0.007531      0.568605       0.557039   \n",
       "0    Normalised data  4.281215   0.006807      0.561556         0.5409   \n",
       "0           Red wine   1.10032   0.003586      0.618885       0.591776   \n",
       "0         White wine  3.369077   0.005807      0.557514       0.538418   \n",
       "0    Remove outliers  4.294454   0.006198      0.574299       0.560693   \n",
       "\n",
       "  test_recall test_f1_score  \n",
       "0    0.523387      0.483819  \n",
       "0    0.568605      0.547289  \n",
       "0    0.561556      0.533151  \n",
       "0    0.618885       0.60133  \n",
       "0    0.557514      0.535034  \n",
       "0    0.574299        0.5528  "
      ]
     },
     "execution_count": 79,
     "metadata": {},
     "output_type": "execute_result"
    }
   ],
   "source": [
    "table"
   ]
  },
  {
   "cell_type": "markdown",
   "metadata": {},
   "source": [
    "##### Comment\n",
    "Whilst not all results are shown above, three experiments were conducted, removing 1%, 5% and 10% of the most extreme outlying rows according to their Euclidean distance from the mean. None were found to improve model performance. Moreover, there are shortcomings in the k-fold validation approach above in this case because outliers are removed from both train and test sets, which if anything would tend to improve the performance measured above. A more representative test would be to train an individual model using data with outliers removed then evaluate on unseen data which includes outlying rows. As there is no evidence of performance improvement based on the k-fold validation, outlier removal will not be explored further."
   ]
  },
  {
   "cell_type": "markdown",
   "metadata": {},
   "source": [
    "#### Frequency binning\n",
    "In this test, the ranges of all continuous numerical fields are divided into \"bins\" so that an equal number of rows exist in each. Some features in this data set have extreme outliers many standard deviations away from the mean. This technique aims to reduce the impact of extreme outliers by grouping them with less extreme ones and this may be preferable to other techniques involving changes to the dataset such as removing outlying rows altogether or by replacing extreme feature values with maximum or average values. We retrain models with 5, 10 and 20 bins for each feature."
   ]
  },
  {
   "cell_type": "code",
   "execution_count": 80,
   "metadata": {},
   "outputs": [],
   "source": [
    "# Frequency binning with 5,10 and 20 bins for each numerical field\n",
    "\n",
    "for bins in (5,10,20):\n",
    "    categ = ('type_red', 'type_white')  # Exclude categorical fields\n",
    "    X_binned = X\n",
    "    for col in [i for i in X.columns if (i not in categ)]:\n",
    "        X_binned = frequency_binning(X_binned, col, bins)\n",
    "\n",
    "    name = 'Frequency binned-{}'.format(bins)\n",
    "    model = MLPClassifier(random_state=14)\n",
    "    kfold = StratifiedKFold(n_splits=5, random_state=15, shuffle=True)\n",
    "    metrics = cross_validate(model, X_binned, y.values.ravel(), cv=kfold, scoring = scoring)\n",
    "\n",
    "    results.append(metrics)\n",
    "    names.append(name)\n",
    "    table = update_results(name, metrics, table)"
   ]
  },
  {
   "cell_type": "markdown",
   "metadata": {},
   "source": [
    "#### Distance binning\n",
    "In this test, the ranges of all continuous numerical fields are divided into \"bins\" so that the size of each bin is the same. In contrast to the the frequency binning technique above, this means that bins will contain different numbers of rows. Whilst this technique does reduce the impact of outliers to an extent, the disadvantage is that extreme outliers will form bins containing only a few rows whilst the majority of rows will be contained in bins in the centre of the feature distribution. For this reason distance binning is not expected to be as effective with this dataset. Again, we retrain models with 5, 10 and 20 bins for each feature."
   ]
  },
  {
   "cell_type": "code",
   "execution_count": 81,
   "metadata": {},
   "outputs": [],
   "source": [
    "# Distance binning with 5,10 and 20 bins for each numerical field\n",
    "\n",
    "for bins in (5,10,20):\n",
    "    categ = ('type_red', 'type_white')  # Exclude categorical fields\n",
    "    X_binned = X\n",
    "    for col in [i for i in X.columns if (i not in categ)]:\n",
    "        X_binned = distance_binning(X_binned, col, bins)\n",
    "\n",
    "    name = 'Distance binned-{}'.format(bins)\n",
    "    model = MLPClassifier(random_state=14)\n",
    "    kfold = StratifiedKFold(n_splits=5, random_state=15, shuffle=True)\n",
    "    metrics = cross_validate(model, X_binned, y.values.ravel(), cv=kfold, scoring = scoring)\n",
    "\n",
    "    results.append(metrics)\n",
    "    names.append(name)\n",
    "    table = update_results(name, metrics, table)"
   ]
  },
  {
   "cell_type": "markdown",
   "metadata": {},
   "source": [
    "##### Comment\n",
    "Results are displayed in the table below. Not unexpectedly, distance binning has proved to be the least effective of the two methods but neither method has improved f1 score or accuracy when compared with the simple benchmark with standardised input data."
   ]
  },
  {
   "cell_type": "markdown",
   "metadata": {},
   "source": [
    "#### Results from all experiments"
   ]
  },
  {
   "cell_type": "code",
   "execution_count": 82,
   "metadata": {},
   "outputs": [
    {
     "data": {
      "text/html": [
       "<div>\n",
       "<style scoped>\n",
       "    .dataframe tbody tr th:only-of-type {\n",
       "        vertical-align: middle;\n",
       "    }\n",
       "\n",
       "    .dataframe tbody tr th {\n",
       "        vertical-align: top;\n",
       "    }\n",
       "\n",
       "    .dataframe thead th {\n",
       "        text-align: right;\n",
       "    }\n",
       "</style>\n",
       "<table border=\"1\" class=\"dataframe\">\n",
       "  <thead>\n",
       "    <tr style=\"text-align: right;\">\n",
       "      <th></th>\n",
       "      <th>Description</th>\n",
       "      <th>fit_time</th>\n",
       "      <th>score_time</th>\n",
       "      <th>test_accuracy</th>\n",
       "      <th>test_precision</th>\n",
       "      <th>test_recall</th>\n",
       "      <th>test_f1_score</th>\n",
       "    </tr>\n",
       "  </thead>\n",
       "  <tbody>\n",
       "    <tr>\n",
       "      <th>0</th>\n",
       "      <td>Benchmark</td>\n",
       "      <td>2.960444</td>\n",
       "      <td>0.007605</td>\n",
       "      <td>0.523387</td>\n",
       "      <td>0.506763</td>\n",
       "      <td>0.523387</td>\n",
       "      <td>0.483819</td>\n",
       "    </tr>\n",
       "    <tr>\n",
       "      <th>0</th>\n",
       "      <td>Standardised data</td>\n",
       "      <td>4.971457</td>\n",
       "      <td>0.007531</td>\n",
       "      <td>0.568605</td>\n",
       "      <td>0.557039</td>\n",
       "      <td>0.568605</td>\n",
       "      <td>0.547289</td>\n",
       "    </tr>\n",
       "    <tr>\n",
       "      <th>0</th>\n",
       "      <td>Normalised data</td>\n",
       "      <td>4.281215</td>\n",
       "      <td>0.006807</td>\n",
       "      <td>0.561556</td>\n",
       "      <td>0.5409</td>\n",
       "      <td>0.561556</td>\n",
       "      <td>0.533151</td>\n",
       "    </tr>\n",
       "    <tr>\n",
       "      <th>0</th>\n",
       "      <td>Red wine</td>\n",
       "      <td>1.10032</td>\n",
       "      <td>0.003586</td>\n",
       "      <td>0.618885</td>\n",
       "      <td>0.591776</td>\n",
       "      <td>0.618885</td>\n",
       "      <td>0.60133</td>\n",
       "    </tr>\n",
       "    <tr>\n",
       "      <th>0</th>\n",
       "      <td>White wine</td>\n",
       "      <td>3.369077</td>\n",
       "      <td>0.005807</td>\n",
       "      <td>0.557514</td>\n",
       "      <td>0.538418</td>\n",
       "      <td>0.557514</td>\n",
       "      <td>0.535034</td>\n",
       "    </tr>\n",
       "    <tr>\n",
       "      <th>0</th>\n",
       "      <td>Remove outliers</td>\n",
       "      <td>4.294454</td>\n",
       "      <td>0.006198</td>\n",
       "      <td>0.574299</td>\n",
       "      <td>0.560693</td>\n",
       "      <td>0.574299</td>\n",
       "      <td>0.5528</td>\n",
       "    </tr>\n",
       "    <tr>\n",
       "      <th>0</th>\n",
       "      <td>Frequency binned-5</td>\n",
       "      <td>6.469393</td>\n",
       "      <td>0.011072</td>\n",
       "      <td>0.562414</td>\n",
       "      <td>0.561633</td>\n",
       "      <td>0.562414</td>\n",
       "      <td>0.541618</td>\n",
       "    </tr>\n",
       "    <tr>\n",
       "      <th>0</th>\n",
       "      <td>Frequency binned-10</td>\n",
       "      <td>5.640269</td>\n",
       "      <td>0.010778</td>\n",
       "      <td>0.568945</td>\n",
       "      <td>0.555115</td>\n",
       "      <td>0.568945</td>\n",
       "      <td>0.547979</td>\n",
       "    </tr>\n",
       "    <tr>\n",
       "      <th>0</th>\n",
       "      <td>Frequency binned-20</td>\n",
       "      <td>5.73098</td>\n",
       "      <td>0.009923</td>\n",
       "      <td>0.566539</td>\n",
       "      <td>0.55898</td>\n",
       "      <td>0.566539</td>\n",
       "      <td>0.549318</td>\n",
       "    </tr>\n",
       "    <tr>\n",
       "      <th>0</th>\n",
       "      <td>Distance binned-5</td>\n",
       "      <td>4.903658</td>\n",
       "      <td>0.008617</td>\n",
       "      <td>0.520807</td>\n",
       "      <td>0.514315</td>\n",
       "      <td>0.520807</td>\n",
       "      <td>0.490164</td>\n",
       "    </tr>\n",
       "    <tr>\n",
       "      <th>0</th>\n",
       "      <td>Distance binned-10</td>\n",
       "      <td>5.222963</td>\n",
       "      <td>0.009657</td>\n",
       "      <td>0.539034</td>\n",
       "      <td>0.519523</td>\n",
       "      <td>0.539034</td>\n",
       "      <td>0.514981</td>\n",
       "    </tr>\n",
       "    <tr>\n",
       "      <th>0</th>\n",
       "      <td>Distance binned-20</td>\n",
       "      <td>6.113761</td>\n",
       "      <td>0.011028</td>\n",
       "      <td>0.565853</td>\n",
       "      <td>0.552798</td>\n",
       "      <td>0.565853</td>\n",
       "      <td>0.542491</td>\n",
       "    </tr>\n",
       "  </tbody>\n",
       "</table>\n",
       "</div>"
      ],
      "text/plain": [
       "           Description  fit_time score_time test_accuracy test_precision  \\\n",
       "0            Benchmark  2.960444   0.007605      0.523387       0.506763   \n",
       "0    Standardised data  4.971457   0.007531      0.568605       0.557039   \n",
       "0      Normalised data  4.281215   0.006807      0.561556         0.5409   \n",
       "0             Red wine   1.10032   0.003586      0.618885       0.591776   \n",
       "0           White wine  3.369077   0.005807      0.557514       0.538418   \n",
       "0      Remove outliers  4.294454   0.006198      0.574299       0.560693   \n",
       "0   Frequency binned-5  6.469393   0.011072      0.562414       0.561633   \n",
       "0  Frequency binned-10  5.640269   0.010778      0.568945       0.555115   \n",
       "0  Frequency binned-20   5.73098   0.009923      0.566539        0.55898   \n",
       "0    Distance binned-5  4.903658   0.008617      0.520807       0.514315   \n",
       "0   Distance binned-10  5.222963   0.009657      0.539034       0.519523   \n",
       "0   Distance binned-20  6.113761   0.011028      0.565853       0.552798   \n",
       "\n",
       "  test_recall test_f1_score  \n",
       "0    0.523387      0.483819  \n",
       "0    0.568605      0.547289  \n",
       "0    0.561556      0.533151  \n",
       "0    0.618885       0.60133  \n",
       "0    0.557514      0.535034  \n",
       "0    0.574299        0.5528  \n",
       "0    0.562414      0.541618  \n",
       "0    0.568945      0.547979  \n",
       "0    0.566539      0.549318  \n",
       "0    0.520807      0.490164  \n",
       "0    0.539034      0.514981  \n",
       "0    0.565853      0.542491  "
      ]
     },
     "execution_count": 82,
     "metadata": {},
     "output_type": "execute_result"
    }
   ],
   "source": [
    "table"
   ]
  },
  {
   "cell_type": "markdown",
   "metadata": {},
   "source": [
    "#### Experiment Results Boxplot"
   ]
  },
  {
   "cell_type": "markdown",
   "metadata": {},
   "source": [
    "The following box plot shows cross-validation results from all experiments, with mean f1 scores highlighted in orange and the boxes indicating maxima, minima and inter-quartile ranges for the five-fold validations in each experiment."
   ]
  },
  {
   "cell_type": "code",
   "execution_count": 120,
   "metadata": {},
   "outputs": [
    {
     "data": {
      "image/png": "[encoded data removed]",
      "text/plain": [
       "<Figure size 864x432 with 1 Axes>"
      ]
     },
     "metadata": {
      "needs_background": "light"
     },
     "output_type": "display_data"
    }
   ],
   "source": [
    "fig, ax = plt.subplots(figsize=(12,6))\n",
    "plt.boxplot(res_c, labels=names)\n",
    "plt.title('5-fold cross-validation on wine dataset', size=16)\n",
    "plt.xticks(rotation='vertical')\n",
    "ax.set_xlabel(\"Experiment\", size=14)\n",
    "ax.set_ylabel(\"F1 score\", size=14)\n",
    "plt.show()"
   ]
  },
  {
   "cell_type": "markdown",
   "metadata": {},
   "source": [
    "#### Hyper-parameter Tuning\n",
    "<font color='red'>Warning: The grid searches in this section take several hours to run</font> \n",
    "\n",
    "Here we use a grid search to tune model hyper-parameters.  Grid searches are combinatorial, requiring the training many models, each of which is k-fold validated so, given model training times, it is not feasible to try all possible combinations. We initially try a range of values differing from the library defaults used in previous experiments with the intention of investigating further any parameter changes that appear to improve model performance."
   ]
  },
  {
   "cell_type": "code",
   "execution_count": 65,
   "metadata": {},
   "outputs": [
    {
     "data": {
      "text/plain": [
       "GridSearchCV(cv=5, error_score=nan,\n",
       "             estimator=MLPClassifier(activation='relu', alpha=0.0001,\n",
       "                                     batch_size='auto', beta_1=0.9,\n",
       "                                     beta_2=0.999, early_stopping=False,\n",
       "                                     epsilon=1e-08, hidden_layer_sizes=(100,),\n",
       "                                     learning_rate='constant',\n",
       "                                     learning_rate_init=0.001, max_fun=15000,\n",
       "                                     max_iter=200, momentum=0.9,\n",
       "                                     n_iter_no_change=10,\n",
       "                                     nesterovs_momentum=True, power_t=0.5,\n",
       "                                     random_state...\n",
       "                                     solver='adam', tol=0.0001,\n",
       "                                     validation_fraction=0.1, verbose=False,\n",
       "                                     warm_start=False),\n",
       "             iid='deprecated', n_jobs=None,\n",
       "             param_grid={'activation': ('logistic', 'tanh'),\n",
       "                         'alpha': (1e-05, 0.001, 0.1),\n",
       "                         'hidden_layer_sizes': (50, 200, 500, 1000),\n",
       "                         'max_iter': (100, 500, 1000),\n",
       "                         'solver': ('lbfgs', 'sgd')},\n",
       "             pre_dispatch='2*n_jobs', refit=True, return_train_score=False,\n",
       "             scoring='f1_micro', verbose=0)"
      ]
     },
     "execution_count": 65,
     "metadata": {},
     "output_type": "execute_result"
    }
   ],
   "source": [
    "# Grid Search for hyper-parameters 1\n",
    "X_exp = standardise(X, continuous_cols)\n",
    "\n",
    "\n",
    "parameters = {'hidden_layer_sizes':(50, 200, 500, 1000), \n",
    "              'activation':('logistic', 'tanh'),\n",
    "              'solver':('lbfgs', 'sgd'),\n",
    "              'max_iter':(100, 500, 1000),\n",
    "              'alpha': (1e-5, 1e-3, 1e-1)}\n",
    "\n",
    "\n",
    "model = MLPClassifier(random_state=14)\n",
    "clf = GridSearchCV(model, parameters, cv=5, scoring='f1_micro')\n",
    "clf.fit(X_exp,y.values)\n"
   ]
  },
  {
   "cell_type": "markdown",
   "metadata": {},
   "source": [
    "#### Optimal parameters from grid search"
   ]
  },
  {
   "cell_type": "code",
   "execution_count": 67,
   "metadata": {},
   "outputs": [
    {
     "data": {
      "text/plain": [
       "MLPClassifier(activation='tanh', alpha=0.1, batch_size='auto', beta_1=0.9,\n",
       "              beta_2=0.999, early_stopping=False, epsilon=1e-08,\n",
       "              hidden_layer_sizes=1000, learning_rate='constant',\n",
       "              learning_rate_init=0.001, max_fun=15000, max_iter=1000,\n",
       "              momentum=0.9, n_iter_no_change=10, nesterovs_momentum=True,\n",
       "              power_t=0.5, random_state=14, shuffle=True, solver='lbfgs',\n",
       "              tol=0.0001, validation_fraction=0.1, verbose=False,\n",
       "              warm_start=False)"
      ]
     },
     "execution_count": 67,
     "metadata": {},
     "output_type": "execute_result"
    }
   ],
   "source": [
    "clf.best_estimator_"
   ]
  },
  {
   "cell_type": "markdown",
   "metadata": {},
   "source": [
    "#### Train and evaluate optimal model determined by grid search"
   ]
  },
  {
   "cell_type": "code",
   "execution_count": 68,
   "metadata": {},
   "outputs": [],
   "source": [
    "# Test hyper-parameter tuned model 1\n",
    "X_exp = standardise(X, continuous_cols)\n",
    "\n",
    "\n",
    "model = clf.best_estimator_\n",
    "kfold = StratifiedKFold(n_splits=5, random_state=1)\n",
    "metrics = cross_validate(model, X_exp, y.values.ravel(), cv=kfold, scoring = scoring)"
   ]
  },
  {
   "cell_type": "code",
   "execution_count": 72,
   "metadata": {},
   "outputs": [
    {
     "data": {
      "text/html": [
       "<div>\n",
       "<style scoped>\n",
       "    .dataframe tbody tr th:only-of-type {\n",
       "        vertical-align: middle;\n",
       "    }\n",
       "\n",
       "    .dataframe tbody tr th {\n",
       "        vertical-align: top;\n",
       "    }\n",
       "\n",
       "    .dataframe thead th {\n",
       "        text-align: right;\n",
       "    }\n",
       "</style>\n",
       "<table border=\"1\" class=\"dataframe\">\n",
       "  <thead>\n",
       "    <tr style=\"text-align: right;\">\n",
       "      <th></th>\n",
       "      <th>Description</th>\n",
       "      <th>fit_time</th>\n",
       "      <th>score_time</th>\n",
       "      <th>test_accuracy</th>\n",
       "      <th>test_precision</th>\n",
       "      <th>test_recall</th>\n",
       "      <th>test_f1_score</th>\n",
       "    </tr>\n",
       "  </thead>\n",
       "  <tbody>\n",
       "    <tr>\n",
       "      <th>0</th>\n",
       "      <td>Tuned 1</td>\n",
       "      <td>305.641334</td>\n",
       "      <td>0.02577</td>\n",
       "      <td>0.632224</td>\n",
       "      <td>0.628974</td>\n",
       "      <td>0.632224</td>\n",
       "      <td>0.629522</td>\n",
       "    </tr>\n",
       "  </tbody>\n",
       "</table>\n",
       "</div>"
      ],
      "text/plain": [
       "  Description    fit_time score_time test_accuracy test_precision test_recall  \\\n",
       "0     Tuned 1  305.641334    0.02577      0.632224       0.628974    0.632224   \n",
       "\n",
       "  test_f1_score  \n",
       "0      0.629522  "
      ]
     },
     "execution_count": 72,
     "metadata": {},
     "output_type": "execute_result"
    }
   ],
   "source": [
    "name = 'Tuned 1'\n",
    "tuned = update_results(name, metrics)\n",
    "tuned"
   ]
  },
  {
   "cell_type": "markdown",
   "metadata": {},
   "source": [
    "##### Comment\n",
    "By tuning hyper-parameters, we observe a marked improvement in model performance measured by f1 score and accuracy. Of the parameters selected for the grid search, the combination of regularisation term, alpha, of 0.1, a hyperbolic tangent activation function, a quasi-Newton optimisation method, a maximum number of iterations of 1000 and a perceptron layer of 1000 nodes was found to be optimal. Note that the grid search 'chose' the largest possible maximum iteration and layer size parameters, so it is worth exploring higher values for these settings. A further grid search is conducted below."
   ]
  },
  {
   "cell_type": "code",
   "execution_count": 74,
   "metadata": {},
   "outputs": [
    {
     "data": {
      "text/plain": [
       "GridSearchCV(cv=5, error_score=nan,\n",
       "             estimator=MLPClassifier(activation='relu', alpha=0.0001,\n",
       "                                     batch_size='auto', beta_1=0.9,\n",
       "                                     beta_2=0.999, early_stopping=False,\n",
       "                                     epsilon=1e-08, hidden_layer_sizes=(100,),\n",
       "                                     learning_rate='constant',\n",
       "                                     learning_rate_init=0.001, max_fun=15000,\n",
       "                                     max_iter=200, momentum=0.9,\n",
       "                                     n_iter_no_change=10,\n",
       "                                     nesterovs_momentum=True, power_t=0.5,\n",
       "                                     random_state=14, shuffle=True,\n",
       "                                     solver='adam', tol=0.0001,\n",
       "                                     validation_fraction=0.1, verbose=False,\n",
       "                                     warm_start=False),\n",
       "             iid='deprecated', n_jobs=None,\n",
       "             param_grid={'activation': ('tanh',), 'alpha': (0.1,),\n",
       "                         'hidden_layer_sizes': (2000, 5000),\n",
       "                         'max_iter': (2000, 5000), 'solver': ('lbfgs',)},\n",
       "             pre_dispatch='2*n_jobs', refit=True, return_train_score=False,\n",
       "             scoring='f1_micro', verbose=0)"
      ]
     },
     "execution_count": 74,
     "metadata": {},
     "output_type": "execute_result"
    }
   ],
   "source": [
    "# Grid Search for hyper-parameters 2\n",
    "X_exp = standardise(X, continuous_cols)\n",
    "\n",
    "\n",
    "parameters = {'hidden_layer_sizes':(2000,5000), \n",
    "              'activation':('tanh',),\n",
    "              'solver':('lbfgs',),\n",
    "              'max_iter':(2000,5000),\n",
    "              'alpha': (0.1,)}\n",
    "\n",
    "\n",
    "model = MLPClassifier(random_state=14)\n",
    "clf = GridSearchCV(model, parameters, cv=5, scoring='f1_micro')\n",
    "clf.fit(X_exp,y.values)\n"
   ]
  },
  {
   "cell_type": "markdown",
   "metadata": {},
   "source": [
    "#### Optimal parameters from grid search"
   ]
  },
  {
   "cell_type": "code",
   "execution_count": 76,
   "metadata": {},
   "outputs": [
    {
     "data": {
      "text/plain": [
       "MLPClassifier(activation='tanh', alpha=0.1, batch_size='auto', beta_1=0.9,\n",
       "              beta_2=0.999, early_stopping=False, epsilon=1e-08,\n",
       "              hidden_layer_sizes=5000, learning_rate='constant',\n",
       "              learning_rate_init=0.001, max_fun=15000, max_iter=5000,\n",
       "              momentum=0.9, n_iter_no_change=10, nesterovs_momentum=True,\n",
       "              power_t=0.5, random_state=14, shuffle=True, solver='lbfgs',\n",
       "              tol=0.0001, validation_fraction=0.1, verbose=False,\n",
       "              warm_start=False)"
      ]
     },
     "execution_count": 76,
     "metadata": {},
     "output_type": "execute_result"
    }
   ],
   "source": [
    "clf.best_estimator_"
   ]
  },
  {
   "cell_type": "markdown",
   "metadata": {},
   "source": [
    "#### Train and evaluate optimal model determined by grid search"
   ]
  },
  {
   "cell_type": "code",
   "execution_count": 77,
   "metadata": {},
   "outputs": [],
   "source": [
    "# Test hyper-parameter tuned model 2\n",
    "X_exp = standardise(X, continuous_cols)\n",
    "\n",
    "\n",
    "model = clf.best_estimator_\n",
    "kfold = StratifiedKFold(n_splits=5, random_state=1)\n",
    "metrics = cross_validate(model, X_exp, y.values.ravel(), cv=kfold, scoring = scoring)"
   ]
  },
  {
   "cell_type": "code",
   "execution_count": 78,
   "metadata": {},
   "outputs": [
    {
     "data": {
      "text/html": [
       "<div>\n",
       "<style scoped>\n",
       "    .dataframe tbody tr th:only-of-type {\n",
       "        vertical-align: middle;\n",
       "    }\n",
       "\n",
       "    .dataframe tbody tr th {\n",
       "        vertical-align: top;\n",
       "    }\n",
       "\n",
       "    .dataframe thead th {\n",
       "        text-align: right;\n",
       "    }\n",
       "</style>\n",
       "<table border=\"1\" class=\"dataframe\">\n",
       "  <thead>\n",
       "    <tr style=\"text-align: right;\">\n",
       "      <th></th>\n",
       "      <th>Description</th>\n",
       "      <th>fit_time</th>\n",
       "      <th>score_time</th>\n",
       "      <th>test_accuracy</th>\n",
       "      <th>test_precision</th>\n",
       "      <th>test_recall</th>\n",
       "      <th>test_f1_score</th>\n",
       "    </tr>\n",
       "  </thead>\n",
       "  <tbody>\n",
       "    <tr>\n",
       "      <th>0</th>\n",
       "      <td>Tuned 2</td>\n",
       "      <td>2438.792224</td>\n",
       "      <td>0.24433</td>\n",
       "      <td>0.627063</td>\n",
       "      <td>0.623188</td>\n",
       "      <td>0.627063</td>\n",
       "      <td>0.624274</td>\n",
       "    </tr>\n",
       "  </tbody>\n",
       "</table>\n",
       "</div>"
      ],
      "text/plain": [
       "  Description     fit_time score_time test_accuracy test_precision  \\\n",
       "0     Tuned 2  2438.792224    0.24433      0.627063       0.623188   \n",
       "\n",
       "  test_recall test_f1_score  \n",
       "0    0.627063      0.624274  "
      ]
     },
     "execution_count": 78,
     "metadata": {},
     "output_type": "execute_result"
    }
   ],
   "source": [
    "name = 'Tuned 2'\n",
    "tuned = update_results(name, metrics)\n",
    "tuned"
   ]
  },
  {
   "cell_type": "markdown",
   "metadata": {},
   "source": [
    "##### Comment\n",
    "Increasing the maximum number of epochs and the hidden layer size has actually resulted in a small degradation in performance as measured by f1 score and accuracy and at significant cost in terms of model train times. We'll train a single model with the previous best parameters but with two hidden layers, rather than one, to see if deeper networks might be worth exploring."
   ]
  },
  {
   "cell_type": "code",
   "execution_count": 79,
   "metadata": {},
   "outputs": [],
   "source": [
    "# Test deeper NN\n",
    "X_exp = standardise(X, continuous_cols)\n",
    "\n",
    "model = MLPClassifier(random_state=14, activation='tanh', solver='lbfgs', \n",
    "                      alpha=0.1, max_iter=1000, hidden_layer_sizes=(500,500))\n",
    "kfold = StratifiedKFold(n_splits=5, random_state=1)\n",
    "metrics = cross_validate(model, X_exp, y.values.ravel(), cv=kfold, scoring = scoring)\n",
    "name = 'Deeper network'\n",
    "tuned = update_results(name, metrics)"
   ]
  },
  {
   "cell_type": "code",
   "execution_count": 80,
   "metadata": {},
   "outputs": [
    {
     "data": {
      "text/html": [
       "<div>\n",
       "<style scoped>\n",
       "    .dataframe tbody tr th:only-of-type {\n",
       "        vertical-align: middle;\n",
       "    }\n",
       "\n",
       "    .dataframe tbody tr th {\n",
       "        vertical-align: top;\n",
       "    }\n",
       "\n",
       "    .dataframe thead th {\n",
       "        text-align: right;\n",
       "    }\n",
       "</style>\n",
       "<table border=\"1\" class=\"dataframe\">\n",
       "  <thead>\n",
       "    <tr style=\"text-align: right;\">\n",
       "      <th></th>\n",
       "      <th>Description</th>\n",
       "      <th>fit_time</th>\n",
       "      <th>score_time</th>\n",
       "      <th>test_accuracy</th>\n",
       "      <th>test_precision</th>\n",
       "      <th>test_recall</th>\n",
       "      <th>test_f1_score</th>\n",
       "    </tr>\n",
       "  </thead>\n",
       "  <tbody>\n",
       "    <tr>\n",
       "      <th>0</th>\n",
       "      <td>Deeper network</td>\n",
       "      <td>171.789056</td>\n",
       "      <td>0.065424</td>\n",
       "      <td>0.629125</td>\n",
       "      <td>0.623108</td>\n",
       "      <td>0.629125</td>\n",
       "      <td>0.624824</td>\n",
       "    </tr>\n",
       "  </tbody>\n",
       "</table>\n",
       "</div>"
      ],
      "text/plain": [
       "      Description    fit_time score_time test_accuracy test_precision  \\\n",
       "0  Deeper network  171.789056   0.065424      0.629125       0.623108   \n",
       "\n",
       "  test_recall test_f1_score  \n",
       "0    0.629125      0.624824  "
      ]
     },
     "execution_count": 80,
     "metadata": {},
     "output_type": "execute_result"
    }
   ],
   "source": [
    "tuned"
   ]
  },
  {
   "cell_type": "markdown",
   "metadata": {},
   "source": [
    "##### Comment\n",
    "A model with two 500-node layers has made no discernable improvement to performance compared with an identical model with a single 1000-node layer. "
   ]
  },
  {
   "cell_type": "markdown",
   "metadata": {},
   "source": [
    "#### Final model evaluation\n",
    "Below we build a model with input data standardisation and hyper-parameters found to be optimal during experimentation and evaluate this on unseen data set aside at the beginning. We compare this with the benchmark model, again evaluated on the same unseen test data."
   ]
  },
  {
   "cell_type": "code",
   "execution_count": 11,
   "metadata": {},
   "outputs": [],
   "source": [
    "# Final model evaluation\n",
    "X_unseen_exp = one_hot_encode(X_unseen,['type'])\n",
    "X_unseen_exp = standardise(X_unseen_exp, continuous_cols)\n",
    "\n",
    "X_exp = standardise(X, continuous_cols)\n",
    "\n",
    "model_benchmark = MLPClassifier(random_state=14)\n",
    "model_final = MLPClassifier(random_state=14, activation='tanh', solver='lbfgs', \n",
    "                      alpha=0.1, max_iter=1000, hidden_layer_sizes=(1000,))\n",
    "\n",
    "y_pred_benchmark = model_benchmark.fit(X_exp,y).predict(X_unseen_exp)\n",
    "y_pred_final = model_final.fit(X_exp,y).predict(X_unseen_exp)"
   ]
  },
  {
   "cell_type": "markdown",
   "metadata": {},
   "source": [
    "By standardising input data and tuning model hyperparameters we observe improvements in both f1 score and accuracy as shown above."
   ]
  },
  {
   "cell_type": "code",
   "execution_count": 12,
   "metadata": {},
   "outputs": [
    {
     "name": "stdout",
     "output_type": "stream",
     "text": [
      "Benchmark model\n",
      "F1 score: 0.558\n",
      "Accuracy: 0.578\n",
      "\n",
      "Final model\n",
      "F1 score: 0.609\n",
      "Accuracy: 0.612\n"
     ]
    }
   ],
   "source": [
    "print(\"Benchmark model\")\n",
    "print(\"F1 score: \" + str(f1_score(y_unseen, y_pred_benchmark, average='weighted',zero_division=0).round(3)))\n",
    "print(\"Accuracy: \" + str(accuracy_score(y_unseen, y_pred_benchmark).round(3)))\n",
    "print(\"\\nFinal model\")\n",
    "print(\"F1 score: \" + str(f1_score(y_unseen, y_pred_final, average='weighted',zero_division=0).round(3)))\n",
    "print(\"Accuracy: \" + str(accuracy_score(y_unseen, y_pred_final).round(3)))"
   ]
  },
  {
   "cell_type": "markdown",
   "metadata": {},
   "source": [
    "Note that we expect f1 and accuracy from the evaluation on unseen test data to be lower than those obtained from k-folds validation."
   ]
  },
  {
   "cell_type": "markdown",
   "metadata": {},
   "source": [
    "#### Plot confusion matrix\n",
    "The confusion matrix below shows false and true, positive and negative predictions made by the final model."
   ]
  },
  {
   "cell_type": "code",
   "execution_count": 198,
   "metadata": {},
   "outputs": [],
   "source": [
    "labels=np.unique(y_unseen)\n",
    "cm = confusion_matrix(y_unseen,y_pred_final)"
   ]
  },
  {
   "cell_type": "code",
   "execution_count": 215,
   "metadata": {},
   "outputs": [
    {
     "data": {
      "image/png": "[encoded data removed]",
      "text/plain": [
       "<Figure size 432x432 with 2 Axes>"
      ]
     },
     "metadata": {
      "needs_background": "light"
     },
     "output_type": "display_data"
    }
   ],
   "source": [
    "fig, ax = plt.subplots(figsize=(6,6))\n",
    "sns.heatmap(cm, annot=True, cmap='coolwarm' ,fmt='g')\n",
    "plt.ylabel('Actual label', size=14)\n",
    "plt.xlabel('Predicted label', size=14)\n",
    "plt.title('Confusion matrix for final model', size=16)\n",
    "ax.set_xticklabels(labels)\n",
    "ax.set_yticklabels(labels)\n",
    "plt.show()"
   ]
  },
  {
   "cell_type": "markdown",
   "metadata": {},
   "source": [
    "#### Classification Report"
   ]
  },
  {
   "cell_type": "code",
   "execution_count": 222,
   "metadata": {},
   "outputs": [
    {
     "name": "stdout",
     "output_type": "stream",
     "text": [
      "              precision    recall  f1-score   support\n",
      "\n",
      "           3       0.00      0.00      0.00         3\n",
      "           4       0.27      0.19      0.22        21\n",
      "           5       0.65      0.66      0.66       213\n",
      "           6       0.65      0.66      0.66       282\n",
      "           7       0.53      0.49      0.51       108\n",
      "           8       0.43      0.63      0.51        19\n",
      "           9       0.00      0.00      0.00         1\n",
      "\n",
      "    accuracy                           0.61       647\n",
      "   macro avg       0.36      0.38      0.36       647\n",
      "weighted avg       0.61      0.61      0.61       647\n",
      "\n"
     ]
    }
   ],
   "source": [
    "print(classification_report(y_unseen,y_pred_final))"
   ]
  },
  {
   "cell_type": "markdown",
   "metadata": {},
   "source": [
    "##### Comment\n",
    "We observe better performance for more populous classes in our dataset - wines of quality ratings 5 and 6 - although even for these, our model still makes a significant number of errors.  The model performs poorly on minority classes, misclassifying all rows for wines of quality 3 and 9 and most rows for wines of quality 4, although one cannot draw firm conclusions from this given how few examples we have in our dataset."
   ]
  }
 ],
 "metadata": {
  "kernelspec": {
   "display_name": "Python 3",
   "language": "python",
   "name": "python3"
  },
  "language_info": {
   "codemirror_mode": {
    "name": "ipython",
    "version": 3
   },
   "file_extension": ".py",
   "mimetype": "text/x-python",
   "name": "python",
   "nbconvert_exporter": "python",
   "pygments_lexer": "ipython3",
   "version": "3.7.6"
  }
 },
 "nbformat": 4,
 "nbformat_minor": 4
}
